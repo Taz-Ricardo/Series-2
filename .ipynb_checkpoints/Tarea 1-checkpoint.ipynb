{
 "cells": [
  {
   "cell_type": "markdown",
   "metadata": {},
   "source": [
    "# Problema 2"
   ]
  },
  {
   "cell_type": "markdown",
   "metadata": {},
   "source": [
    "### item b"
   ]
  },
  {
   "cell_type": "code",
   "execution_count": 1,
   "metadata": {},
   "outputs": [],
   "source": [
    "library(Biodem) #Librería utilizada para elevar a una potencia una matriz usando el comando mtx.exp(MATRIZ,EXPONENTE)"
   ]
  },
  {
   "cell_type": "code",
   "execution_count": 2,
   "metadata": {},
   "outputs": [],
   "source": [
    "Ct<-matrix(c(0.3,-0.1,0,0.2,0,0,0,0.6,-0.1,0,-0.1,-0.1,-0.9,0,0.2,0,0,0,-1,0,0,1,0,0,0,-1,0,0,1,0,0,0,-1,0,0,1), ncol = 6) #La matriz esta transpuesta\n",
    "C=t(Ct) #MATRIZ I_{k}-Az"
   ]
  },
  {
   "cell_type": "code",
   "execution_count": 3,
   "metadata": {},
   "outputs": [
    {
     "data": {
      "text/html": [
       "<table>\n",
       "<caption>A matrix: 6 × 6 of type dbl</caption>\n",
       "<tbody>\n",
       "\t<tr><td> 0.3</td><td>-0.1</td><td> 0.0</td><td>0.2</td><td> 0.0</td><td> 0.0</td></tr>\n",
       "\t<tr><td> 0.0</td><td> 0.6</td><td>-0.1</td><td>0.0</td><td>-0.1</td><td>-0.1</td></tr>\n",
       "\t<tr><td>-0.9</td><td> 0.0</td><td> 0.2</td><td>0.0</td><td> 0.0</td><td> 0.0</td></tr>\n",
       "\t<tr><td>-1.0</td><td> 0.0</td><td> 0.0</td><td>1.0</td><td> 0.0</td><td> 0.0</td></tr>\n",
       "\t<tr><td> 0.0</td><td>-1.0</td><td> 0.0</td><td>0.0</td><td> 1.0</td><td> 0.0</td></tr>\n",
       "\t<tr><td> 0.0</td><td> 0.0</td><td>-1.0</td><td>0.0</td><td> 0.0</td><td> 1.0</td></tr>\n",
       "</tbody>\n",
       "</table>\n"
      ],
      "text/latex": [
       "A matrix: 6 × 6 of type dbl\n",
       "\\begin{tabular}{llllll}\n",
       "\t  0.3 & -0.1 &  0.0 & 0.2 &  0.0 &  0.0\\\\\n",
       "\t  0.0 &  0.6 & -0.1 & 0.0 & -0.1 & -0.1\\\\\n",
       "\t -0.9 &  0.0 &  0.2 & 0.0 &  0.0 &  0.0\\\\\n",
       "\t -1.0 &  0.0 &  0.0 & 1.0 &  0.0 &  0.0\\\\\n",
       "\t  0.0 & -1.0 &  0.0 & 0.0 &  1.0 &  0.0\\\\\n",
       "\t  0.0 &  0.0 & -1.0 & 0.0 &  0.0 &  1.0\\\\\n",
       "\\end{tabular}\n"
      ],
      "text/markdown": [
       "\n",
       "A matrix: 6 × 6 of type dbl\n",
       "\n",
       "|  0.3 | -0.1 |  0.0 | 0.2 |  0.0 |  0.0 |\n",
       "|  0.0 |  0.6 | -0.1 | 0.0 | -0.1 | -0.1 |\n",
       "| -0.9 |  0.0 |  0.2 | 0.0 |  0.0 |  0.0 |\n",
       "| -1.0 |  0.0 |  0.0 | 1.0 |  0.0 |  0.0 |\n",
       "|  0.0 | -1.0 |  0.0 | 0.0 |  1.0 |  0.0 |\n",
       "|  0.0 |  0.0 | -1.0 | 0.0 |  0.0 |  1.0 |\n",
       "\n"
      ],
      "text/plain": [
       "     [,1] [,2] [,3] [,4] [,5] [,6]\n",
       "[1,]  0.3 -0.1  0.0 0.2   0.0  0.0\n",
       "[2,]  0.0  0.6 -0.1 0.0  -0.1 -0.1\n",
       "[3,] -0.9  0.0  0.2 0.0   0.0  0.0\n",
       "[4,] -1.0  0.0  0.0 1.0   0.0  0.0\n",
       "[5,]  0.0 -1.0  0.0 0.0   1.0  0.0\n",
       "[6,]  0.0  0.0 -1.0 0.0   0.0  1.0"
      ]
     },
     "metadata": {},
     "output_type": "display_data"
    }
   ],
   "source": [
    "C"
   ]
  },
  {
   "cell_type": "code",
   "execution_count": 4,
   "metadata": {},
   "outputs": [
    {
     "data": {
      "text/html": [
       "<table>\n",
       "<caption>A matrix: 6 × 6 of type dbl</caption>\n",
       "<tbody>\n",
       "\t<tr><td> 3.1250</td><td>0.6250</td><td>0.6250</td><td>-0.6250</td><td>0.06250</td><td>0.06250</td></tr>\n",
       "\t<tr><td> 5.6250</td><td>3.1250</td><td>3.1250</td><td>-1.1250</td><td>0.31250</td><td>0.31250</td></tr>\n",
       "\t<tr><td>14.0625</td><td>2.8125</td><td>7.8125</td><td>-2.8125</td><td>0.28125</td><td>0.28125</td></tr>\n",
       "\t<tr><td> 3.1250</td><td>0.6250</td><td>0.6250</td><td> 0.3750</td><td>0.06250</td><td>0.06250</td></tr>\n",
       "\t<tr><td> 5.6250</td><td>3.1250</td><td>3.1250</td><td>-1.1250</td><td>1.31250</td><td>0.31250</td></tr>\n",
       "\t<tr><td>14.0625</td><td>2.8125</td><td>7.8125</td><td>-2.8125</td><td>0.28125</td><td>1.28125</td></tr>\n",
       "</tbody>\n",
       "</table>\n"
      ],
      "text/latex": [
       "A matrix: 6 × 6 of type dbl\n",
       "\\begin{tabular}{llllll}\n",
       "\t  3.1250 & 0.6250 & 0.6250 & -0.6250 & 0.06250 & 0.06250\\\\\n",
       "\t  5.6250 & 3.1250 & 3.1250 & -1.1250 & 0.31250 & 0.31250\\\\\n",
       "\t 14.0625 & 2.8125 & 7.8125 & -2.8125 & 0.28125 & 0.28125\\\\\n",
       "\t  3.1250 & 0.6250 & 0.6250 &  0.3750 & 0.06250 & 0.06250\\\\\n",
       "\t  5.6250 & 3.1250 & 3.1250 & -1.1250 & 1.31250 & 0.31250\\\\\n",
       "\t 14.0625 & 2.8125 & 7.8125 & -2.8125 & 0.28125 & 1.28125\\\\\n",
       "\\end{tabular}\n"
      ],
      "text/markdown": [
       "\n",
       "A matrix: 6 × 6 of type dbl\n",
       "\n",
       "|  3.1250 | 0.6250 | 0.6250 | -0.6250 | 0.06250 | 0.06250 |\n",
       "|  5.6250 | 3.1250 | 3.1250 | -1.1250 | 0.31250 | 0.31250 |\n",
       "| 14.0625 | 2.8125 | 7.8125 | -2.8125 | 0.28125 | 0.28125 |\n",
       "|  3.1250 | 0.6250 | 0.6250 |  0.3750 | 0.06250 | 0.06250 |\n",
       "|  5.6250 | 3.1250 | 3.1250 | -1.1250 | 1.31250 | 0.31250 |\n",
       "| 14.0625 | 2.8125 | 7.8125 | -2.8125 | 0.28125 | 1.28125 |\n",
       "\n"
      ],
      "text/plain": [
       "     [,1]    [,2]   [,3]   [,4]    [,5]    [,6]   \n",
       "[1,]  3.1250 0.6250 0.6250 -0.6250 0.06250 0.06250\n",
       "[2,]  5.6250 3.1250 3.1250 -1.1250 0.31250 0.31250\n",
       "[3,] 14.0625 2.8125 7.8125 -2.8125 0.28125 0.28125\n",
       "[4,]  3.1250 0.6250 0.6250  0.3750 0.06250 0.06250\n",
       "[5,]  5.6250 3.1250 3.1250 -1.1250 1.31250 0.31250\n",
       "[6,] 14.0625 2.8125 7.8125 -2.8125 0.28125 1.28125"
      ]
     },
     "metadata": {},
     "output_type": "display_data"
    }
   ],
   "source": [
    "solve(C) #inversa de la matriz MATRIZ I_{k}-Az"
   ]
  },
  {
   "cell_type": "code",
   "execution_count": 5,
   "metadata": {},
   "outputs": [
    {
     "data": {
      "text/html": [
       "<style>\n",
       ".list-inline {list-style: none; margin:0; padding: 0}\n",
       ".list-inline>li {display: inline-block}\n",
       ".list-inline>li:not(:last-child)::after {content: \"\\00b7\"; padding: 0 .5ex}\n",
       "</style>\n",
       "<ol class=list-inline><li>2</li><li>1</li><li>0</li><li>0</li><li>0</li><li>0</li></ol>\n"
      ],
      "text/latex": [
       "\\begin{enumerate*}\n",
       "\\item 2\n",
       "\\item 1\n",
       "\\item 0\n",
       "\\item 0\n",
       "\\item 0\n",
       "\\item 0\n",
       "\\end{enumerate*}\n"
      ],
      "text/markdown": [
       "1. 2\n",
       "2. 1\n",
       "3. 0\n",
       "4. 0\n",
       "5. 0\n",
       "6. 0\n",
       "\n",
       "\n"
      ],
      "text/plain": [
       "[1] 2 1 0 0 0 0"
      ]
     },
     "metadata": {},
     "output_type": "display_data"
    }
   ],
   "source": [
    "nu=c(2,1,0,0,0,0) #Vector de \"desfase\"\n",
    "nu"
   ]
  },
  {
   "cell_type": "code",
   "execution_count": 6,
   "metadata": {},
   "outputs": [
    {
     "data": {
      "text/html": [
       "<table>\n",
       "<caption>A matrix: 6 × 1 of type dbl</caption>\n",
       "<tbody>\n",
       "\t<tr><td> 6.8750</td></tr>\n",
       "\t<tr><td>14.3750</td></tr>\n",
       "\t<tr><td>30.9375</td></tr>\n",
       "\t<tr><td> 6.8750</td></tr>\n",
       "\t<tr><td>14.3750</td></tr>\n",
       "\t<tr><td>30.9375</td></tr>\n",
       "</tbody>\n",
       "</table>\n"
      ],
      "text/latex": [
       "A matrix: 6 × 1 of type dbl\n",
       "\\begin{tabular}{l}\n",
       "\t  6.8750\\\\\n",
       "\t 14.3750\\\\\n",
       "\t 30.9375\\\\\n",
       "\t  6.8750\\\\\n",
       "\t 14.3750\\\\\n",
       "\t 30.9375\\\\\n",
       "\\end{tabular}\n"
      ],
      "text/markdown": [
       "\n",
       "A matrix: 6 × 1 of type dbl\n",
       "\n",
       "|  6.8750 |\n",
       "| 14.3750 |\n",
       "| 30.9375 |\n",
       "|  6.8750 |\n",
       "| 14.3750 |\n",
       "| 30.9375 |\n",
       "\n"
      ],
      "text/plain": [
       "     [,1]   \n",
       "[1,]  6.8750\n",
       "[2,] 14.3750\n",
       "[3,] 30.9375\n",
       "[4,]  6.8750\n",
       "[5,] 14.3750\n",
       "[6,] 30.9375"
      ]
     },
     "metadata": {},
     "output_type": "display_data"
    }
   ],
   "source": [
    "mu=solve(C)%*%nu #Vector de medias sin multiplicar por el vector J\n",
    "mu"
   ]
  },
  {
   "cell_type": "code",
   "execution_count": 7,
   "metadata": {},
   "outputs": [
    {
     "data": {
      "text/html": [
       "<table>\n",
       "<caption>A matrix: 3 × 6 of type dbl</caption>\n",
       "<tbody>\n",
       "\t<tr><td>1</td><td>0</td><td>0</td><td>0</td><td>0</td><td>0</td></tr>\n",
       "\t<tr><td>0</td><td>1</td><td>0</td><td>0</td><td>0</td><td>0</td></tr>\n",
       "\t<tr><td>0</td><td>0</td><td>1</td><td>0</td><td>0</td><td>0</td></tr>\n",
       "</tbody>\n",
       "</table>\n"
      ],
      "text/latex": [
       "A matrix: 3 × 6 of type dbl\n",
       "\\begin{tabular}{llllll}\n",
       "\t 1 & 0 & 0 & 0 & 0 & 0\\\\\n",
       "\t 0 & 1 & 0 & 0 & 0 & 0\\\\\n",
       "\t 0 & 0 & 1 & 0 & 0 & 0\\\\\n",
       "\\end{tabular}\n"
      ],
      "text/markdown": [
       "\n",
       "A matrix: 3 × 6 of type dbl\n",
       "\n",
       "| 1 | 0 | 0 | 0 | 0 | 0 |\n",
       "| 0 | 1 | 0 | 0 | 0 | 0 |\n",
       "| 0 | 0 | 1 | 0 | 0 | 0 |\n",
       "\n"
      ],
      "text/plain": [
       "     [,1] [,2] [,3] [,4] [,5] [,6]\n",
       "[1,] 1    0    0    0    0    0   \n",
       "[2,] 0    1    0    0    0    0   \n",
       "[3,] 0    0    1    0    0    0   "
      ]
     },
     "metadata": {},
     "output_type": "display_data"
    }
   ],
   "source": [
    "J<- matrix(c(1,0,0,0,1,0,0,0,1,0,0,0,0,0,0,0,0,0),nrow=3) #Matriz J\n",
    "J"
   ]
  },
  {
   "cell_type": "code",
   "execution_count": 8,
   "metadata": {},
   "outputs": [
    {
     "data": {
      "text/html": [
       "<table>\n",
       "<caption>A matrix: 3 × 1 of type dbl</caption>\n",
       "<tbody>\n",
       "\t<tr><td> 6.8750</td></tr>\n",
       "\t<tr><td>14.3750</td></tr>\n",
       "\t<tr><td>30.9375</td></tr>\n",
       "</tbody>\n",
       "</table>\n"
      ],
      "text/latex": [
       "A matrix: 3 × 1 of type dbl\n",
       "\\begin{tabular}{l}\n",
       "\t  6.8750\\\\\n",
       "\t 14.3750\\\\\n",
       "\t 30.9375\\\\\n",
       "\\end{tabular}\n"
      ],
      "text/markdown": [
       "\n",
       "A matrix: 3 × 1 of type dbl\n",
       "\n",
       "|  6.8750 |\n",
       "| 14.3750 |\n",
       "| 30.9375 |\n",
       "\n"
      ],
      "text/plain": [
       "     [,1]   \n",
       "[1,]  6.8750\n",
       "[2,] 14.3750\n",
       "[3,] 30.9375"
      ]
     },
     "metadata": {},
     "output_type": "display_data"
    }
   ],
   "source": [
    "J%*%mu #Vector de medias"
   ]
  },
  {
   "cell_type": "markdown",
   "metadata": {},
   "source": [
    "## item d"
   ]
  },
  {
   "cell_type": "code",
   "execution_count": 9,
   "metadata": {},
   "outputs": [
    {
     "data": {
      "text/html": [
       "<table>\n",
       "<caption>A matrix: 3 × 6 of type dbl</caption>\n",
       "<tbody>\n",
       "\t<tr><td>1</td><td>0</td><td>0</td><td>0</td><td>0</td><td>0</td></tr>\n",
       "\t<tr><td>0</td><td>1</td><td>0</td><td>0</td><td>0</td><td>0</td></tr>\n",
       "\t<tr><td>0</td><td>0</td><td>1</td><td>0</td><td>0</td><td>0</td></tr>\n",
       "</tbody>\n",
       "</table>\n"
      ],
      "text/latex": [
       "A matrix: 3 × 6 of type dbl\n",
       "\\begin{tabular}{llllll}\n",
       "\t 1 & 0 & 0 & 0 & 0 & 0\\\\\n",
       "\t 0 & 1 & 0 & 0 & 0 & 0\\\\\n",
       "\t 0 & 0 & 1 & 0 & 0 & 0\\\\\n",
       "\\end{tabular}\n"
      ],
      "text/markdown": [
       "\n",
       "A matrix: 3 × 6 of type dbl\n",
       "\n",
       "| 1 | 0 | 0 | 0 | 0 | 0 |\n",
       "| 0 | 1 | 0 | 0 | 0 | 0 |\n",
       "| 0 | 0 | 1 | 0 | 0 | 0 |\n",
       "\n"
      ],
      "text/plain": [
       "     [,1] [,2] [,3] [,4] [,5] [,6]\n",
       "[1,] 1    0    0    0    0    0   \n",
       "[2,] 0    1    0    0    0    0   \n",
       "[3,] 0    0    1    0    0    0   "
      ]
     },
     "metadata": {},
     "output_type": "display_data"
    }
   ],
   "source": [
    "J<- matrix(c(1,0,0,0,1,0,0,0,1,0,0,0,0,0,0,0,0,0),nrow=3) #Matriz J\n",
    "J"
   ]
  },
  {
   "cell_type": "code",
   "execution_count": 10,
   "metadata": {},
   "outputs": [
    {
     "data": {
      "text/html": [
       "<table>\n",
       "<caption>A matrix: 6 × 3 of type dbl</caption>\n",
       "<tbody>\n",
       "\t<tr><td>1</td><td>0</td><td>0</td></tr>\n",
       "\t<tr><td>0</td><td>1</td><td>0</td></tr>\n",
       "\t<tr><td>0</td><td>0</td><td>1</td></tr>\n",
       "\t<tr><td>0</td><td>0</td><td>0</td></tr>\n",
       "\t<tr><td>0</td><td>0</td><td>0</td></tr>\n",
       "\t<tr><td>0</td><td>0</td><td>0</td></tr>\n",
       "</tbody>\n",
       "</table>\n"
      ],
      "text/latex": [
       "A matrix: 6 × 3 of type dbl\n",
       "\\begin{tabular}{lll}\n",
       "\t 1 & 0 & 0\\\\\n",
       "\t 0 & 1 & 0\\\\\n",
       "\t 0 & 0 & 1\\\\\n",
       "\t 0 & 0 & 0\\\\\n",
       "\t 0 & 0 & 0\\\\\n",
       "\t 0 & 0 & 0\\\\\n",
       "\\end{tabular}\n"
      ],
      "text/markdown": [
       "\n",
       "A matrix: 6 × 3 of type dbl\n",
       "\n",
       "| 1 | 0 | 0 |\n",
       "| 0 | 1 | 0 |\n",
       "| 0 | 0 | 1 |\n",
       "| 0 | 0 | 0 |\n",
       "| 0 | 0 | 0 |\n",
       "| 0 | 0 | 0 |\n",
       "\n"
      ],
      "text/plain": [
       "     [,1] [,2] [,3]\n",
       "[1,] 1    0    0   \n",
       "[2,] 0    1    0   \n",
       "[3,] 0    0    1   \n",
       "[4,] 0    0    0   \n",
       "[5,] 0    0    0   \n",
       "[6,] 0    0    0   "
      ]
     },
     "metadata": {},
     "output_type": "display_data"
    }
   ],
   "source": [
    "Jt=t(J)\n",
    "Jt #Transpuesta matriz J"
   ]
  },
  {
   "cell_type": "code",
   "execution_count": 11,
   "metadata": {},
   "outputs": [
    {
     "data": {
      "text/html": [
       "<table>\n",
       "<caption>A matrix: 6 × 6 of type dbl</caption>\n",
       "<tbody>\n",
       "\t<tr><td>0.7</td><td>0.1</td><td>0.0</td><td>-0.2</td><td>0.0</td><td>0.0</td></tr>\n",
       "\t<tr><td>0.0</td><td>0.4</td><td>0.1</td><td> 0.0</td><td>0.1</td><td>0.1</td></tr>\n",
       "\t<tr><td>0.9</td><td>0.0</td><td>0.8</td><td> 0.0</td><td>0.0</td><td>0.0</td></tr>\n",
       "\t<tr><td>1.0</td><td>0.0</td><td>0.0</td><td> 0.0</td><td>0.0</td><td>0.0</td></tr>\n",
       "\t<tr><td>0.0</td><td>1.0</td><td>0.0</td><td> 0.0</td><td>0.0</td><td>0.0</td></tr>\n",
       "\t<tr><td>0.0</td><td>0.0</td><td>1.0</td><td> 0.0</td><td>0.0</td><td>0.0</td></tr>\n",
       "</tbody>\n",
       "</table>\n"
      ],
      "text/latex": [
       "A matrix: 6 × 6 of type dbl\n",
       "\\begin{tabular}{llllll}\n",
       "\t 0.7 & 0.1 & 0.0 & -0.2 & 0.0 & 0.0\\\\\n",
       "\t 0.0 & 0.4 & 0.1 &  0.0 & 0.1 & 0.1\\\\\n",
       "\t 0.9 & 0.0 & 0.8 &  0.0 & 0.0 & 0.0\\\\\n",
       "\t 1.0 & 0.0 & 0.0 &  0.0 & 0.0 & 0.0\\\\\n",
       "\t 0.0 & 1.0 & 0.0 &  0.0 & 0.0 & 0.0\\\\\n",
       "\t 0.0 & 0.0 & 1.0 &  0.0 & 0.0 & 0.0\\\\\n",
       "\\end{tabular}\n"
      ],
      "text/markdown": [
       "\n",
       "A matrix: 6 × 6 of type dbl\n",
       "\n",
       "| 0.7 | 0.1 | 0.0 | -0.2 | 0.0 | 0.0 |\n",
       "| 0.0 | 0.4 | 0.1 |  0.0 | 0.1 | 0.1 |\n",
       "| 0.9 | 0.0 | 0.8 |  0.0 | 0.0 | 0.0 |\n",
       "| 1.0 | 0.0 | 0.0 |  0.0 | 0.0 | 0.0 |\n",
       "| 0.0 | 1.0 | 0.0 |  0.0 | 0.0 | 0.0 |\n",
       "| 0.0 | 0.0 | 1.0 |  0.0 | 0.0 | 0.0 |\n",
       "\n"
      ],
      "text/plain": [
       "     [,1] [,2] [,3] [,4] [,5] [,6]\n",
       "[1,] 0.7  0.1  0.0  -0.2 0.0  0.0 \n",
       "[2,] 0.0  0.4  0.1   0.0 0.1  0.1 \n",
       "[3,] 0.9  0.0  0.8   0.0 0.0  0.0 \n",
       "[4,] 1.0  0.0  0.0   0.0 0.0  0.0 \n",
       "[5,] 0.0  1.0  0.0   0.0 0.0  0.0 \n",
       "[6,] 0.0  0.0  1.0   0.0 0.0  0.0 "
      ]
     },
     "metadata": {},
     "output_type": "display_data"
    }
   ],
   "source": [
    "A<-diag(6)-C # Matriz A\n",
    "A"
   ]
  },
  {
   "cell_type": "markdown",
   "metadata": {},
   "source": [
    "## Parametros Phi's"
   ]
  },
  {
   "cell_type": "code",
   "execution_count": 12,
   "metadata": {},
   "outputs": [
    {
     "data": {
      "text/html": [
       "<table>\n",
       "<caption>A matrix: 3 × 3 of type dbl</caption>\n",
       "<tbody>\n",
       "\t<tr><td>0.7</td><td>0.1</td><td>0.0</td></tr>\n",
       "\t<tr><td>0.0</td><td>0.4</td><td>0.1</td></tr>\n",
       "\t<tr><td>0.9</td><td>0.0</td><td>0.8</td></tr>\n",
       "</tbody>\n",
       "</table>\n"
      ],
      "text/latex": [
       "A matrix: 3 × 3 of type dbl\n",
       "\\begin{tabular}{lll}\n",
       "\t 0.7 & 0.1 & 0.0\\\\\n",
       "\t 0.0 & 0.4 & 0.1\\\\\n",
       "\t 0.9 & 0.0 & 0.8\\\\\n",
       "\\end{tabular}\n"
      ],
      "text/markdown": [
       "\n",
       "A matrix: 3 × 3 of type dbl\n",
       "\n",
       "| 0.7 | 0.1 | 0.0 |\n",
       "| 0.0 | 0.4 | 0.1 |\n",
       "| 0.9 | 0.0 | 0.8 |\n",
       "\n"
      ],
      "text/plain": [
       "     [,1] [,2] [,3]\n",
       "[1,] 0.7  0.1  0.0 \n",
       "[2,] 0.0  0.4  0.1 \n",
       "[3,] 0.9  0.0  0.8 "
      ]
     },
     "metadata": {},
     "output_type": "display_data"
    }
   ],
   "source": [
    "phi_1=J%*%A%*%Jt \n",
    "phi_1"
   ]
  },
  {
   "cell_type": "code",
   "execution_count": 13,
   "metadata": {},
   "outputs": [
    {
     "data": {
      "text/html": [
       "<table>\n",
       "<caption>A matrix: 3 × 3 of type dbl</caption>\n",
       "<tbody>\n",
       "\t<tr><td>0.29</td><td>0.11</td><td>0.01</td></tr>\n",
       "\t<tr><td>0.09</td><td>0.26</td><td>0.22</td></tr>\n",
       "\t<tr><td>1.35</td><td>0.09</td><td>0.64</td></tr>\n",
       "</tbody>\n",
       "</table>\n"
      ],
      "text/latex": [
       "A matrix: 3 × 3 of type dbl\n",
       "\\begin{tabular}{lll}\n",
       "\t 0.29 & 0.11 & 0.01\\\\\n",
       "\t 0.09 & 0.26 & 0.22\\\\\n",
       "\t 1.35 & 0.09 & 0.64\\\\\n",
       "\\end{tabular}\n"
      ],
      "text/markdown": [
       "\n",
       "A matrix: 3 × 3 of type dbl\n",
       "\n",
       "| 0.29 | 0.11 | 0.01 |\n",
       "| 0.09 | 0.26 | 0.22 |\n",
       "| 1.35 | 0.09 | 0.64 |\n",
       "\n"
      ],
      "text/plain": [
       "     [,1] [,2] [,3]\n",
       "[1,] 0.29 0.11 0.01\n",
       "[2,] 0.09 0.26 0.22\n",
       "[3,] 1.35 0.09 0.64"
      ]
     },
     "metadata": {},
     "output_type": "display_data"
    }
   ],
   "source": [
    "phi_2=J%*%mtx.exp(A,2)%*%Jt\n",
    "phi_2"
   ]
  },
  {
   "cell_type": "code",
   "execution_count": 14,
   "metadata": {},
   "outputs": [
    {
     "data": {
      "text/html": [
       "<table>\n",
       "<caption>A matrix: 3 × 3 of type dbl</caption>\n",
       "<tbody>\n",
       "\t<tr><td>0.072</td><td>0.083</td><td>0.029</td></tr>\n",
       "\t<tr><td>0.261</td><td>0.153</td><td>0.242</td></tr>\n",
       "\t<tr><td>1.341</td><td>0.171</td><td>0.521</td></tr>\n",
       "</tbody>\n",
       "</table>\n"
      ],
      "text/latex": [
       "A matrix: 3 × 3 of type dbl\n",
       "\\begin{tabular}{lll}\n",
       "\t 0.072 & 0.083 & 0.029\\\\\n",
       "\t 0.261 & 0.153 & 0.242\\\\\n",
       "\t 1.341 & 0.171 & 0.521\\\\\n",
       "\\end{tabular}\n"
      ],
      "text/markdown": [
       "\n",
       "A matrix: 3 × 3 of type dbl\n",
       "\n",
       "| 0.072 | 0.083 | 0.029 |\n",
       "| 0.261 | 0.153 | 0.242 |\n",
       "| 1.341 | 0.171 | 0.521 |\n",
       "\n"
      ],
      "text/plain": [
       "     [,1]  [,2]  [,3] \n",
       "[1,] 0.072 0.083 0.029\n",
       "[2,] 0.261 0.153 0.242\n",
       "[3,] 1.341 0.171 0.521"
      ]
     },
     "metadata": {},
     "output_type": "display_data"
    }
   ],
   "source": [
    "phi_3=J%*%mtx.exp(A,3)%*%Jt\n",
    "phi_3"
   ]
  },
  {
   "cell_type": "code",
   "execution_count": 15,
   "metadata": {},
   "outputs": [
    {
     "data": {
      "text/html": [
       "<table>\n",
       "<caption>A matrix: 3 × 3 of type dbl</caption>\n",
       "<tbody>\n",
       "\t<tr><td>0.0185</td><td>0.0514</td><td>0.0425</td></tr>\n",
       "\t<tr><td>0.3825</td><td>0.1133</td><td>0.2349</td></tr>\n",
       "\t<tr><td>1.1376</td><td>0.2115</td><td>0.4429</td></tr>\n",
       "</tbody>\n",
       "</table>\n"
      ],
      "text/latex": [
       "A matrix: 3 × 3 of type dbl\n",
       "\\begin{tabular}{lll}\n",
       "\t 0.0185 & 0.0514 & 0.0425\\\\\n",
       "\t 0.3825 & 0.1133 & 0.2349\\\\\n",
       "\t 1.1376 & 0.2115 & 0.4429\\\\\n",
       "\\end{tabular}\n"
      ],
      "text/markdown": [
       "\n",
       "A matrix: 3 × 3 of type dbl\n",
       "\n",
       "| 0.0185 | 0.0514 | 0.0425 |\n",
       "| 0.3825 | 0.1133 | 0.2349 |\n",
       "| 1.1376 | 0.2115 | 0.4429 |\n",
       "\n"
      ],
      "text/plain": [
       "     [,1]   [,2]   [,3]  \n",
       "[1,] 0.0185 0.0514 0.0425\n",
       "[2,] 0.3825 0.1133 0.2349\n",
       "[3,] 1.1376 0.2115 0.4429"
      ]
     },
     "metadata": {},
     "output_type": "display_data"
    }
   ],
   "source": [
    "phi_4=J%*%mtx.exp(A,4)%*%Jt\n",
    "phi_4"
   ]
  },
  {
   "cell_type": "code",
   "execution_count": 16,
   "metadata": {},
   "outputs": [
    {
     "data": {
      "text/html": [
       "<table>\n",
       "<caption>A matrix: 3 × 3 of type dbl</caption>\n",
       "<tbody>\n",
       "\t<tr><td>0.03680</td><td>0.03071</td><td>0.04744</td></tr>\n",
       "\t<tr><td>0.42696</td><td>0.09887</td><td>0.21455</td></tr>\n",
       "\t<tr><td>0.92673</td><td>0.21546</td><td>0.39257</td></tr>\n",
       "</tbody>\n",
       "</table>\n"
      ],
      "text/latex": [
       "A matrix: 3 × 3 of type dbl\n",
       "\\begin{tabular}{lll}\n",
       "\t 0.03680 & 0.03071 & 0.04744\\\\\n",
       "\t 0.42696 & 0.09887 & 0.21455\\\\\n",
       "\t 0.92673 & 0.21546 & 0.39257\\\\\n",
       "\\end{tabular}\n"
      ],
      "text/markdown": [
       "\n",
       "A matrix: 3 × 3 of type dbl\n",
       "\n",
       "| 0.03680 | 0.03071 | 0.04744 |\n",
       "| 0.42696 | 0.09887 | 0.21455 |\n",
       "| 0.92673 | 0.21546 | 0.39257 |\n",
       "\n"
      ],
      "text/plain": [
       "     [,1]    [,2]    [,3]   \n",
       "[1,] 0.03680 0.03071 0.04744\n",
       "[2,] 0.42696 0.09887 0.21455\n",
       "[3,] 0.92673 0.21546 0.39257"
      ]
     },
     "metadata": {},
     "output_type": "display_data"
    }
   ],
   "source": [
    "phi_5=J%*%mtx.exp(A,5)%*%Jt\n",
    "phi_5"
   ]
  },
  {
   "cell_type": "code",
   "execution_count": null,
   "metadata": {},
   "outputs": [],
   "source": []
  }
 ],
 "metadata": {
  "kernelspec": {
   "display_name": "R",
   "language": "R",
   "name": "ir"
  },
  "language_info": {
   "codemirror_mode": "r",
   "file_extension": ".r",
   "mimetype": "text/x-r-source",
   "name": "R",
   "pygments_lexer": "r",
   "version": "3.5.2"
  }
 },
 "nbformat": 4,
 "nbformat_minor": 4
}
