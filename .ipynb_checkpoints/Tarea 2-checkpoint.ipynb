{
 "cells": [
  {
   "cell_type": "markdown",
   "metadata": {},
   "source": [
    "# Tarea 2"
   ]
  },
  {
   "cell_type": "markdown",
   "metadata": {},
   "source": [
    "## Problema 1"
   ]
  },
  {
   "cell_type": "markdown",
   "metadata": {},
   "source": [
    "### Calculos de Gamma(h)"
   ]
  },
  {
   "cell_type": "code",
   "execution_count": 133,
   "metadata": {},
   "outputs": [],
   "source": [
    "library(Biodem) #Librería utilizada para elevar a una potencia una matriz usando el comando mtx.exp(MATRIZ,EXPONENTE)\n",
    "library(MASS)"
   ]
  },
  {
   "cell_type": "code",
   "execution_count": 2,
   "metadata": {},
   "outputs": [
    {
     "data": {
      "text/html": [
       "<table>\n",
       "<caption>A matrix: 3 × 3 of type dbl</caption>\n",
       "<tbody>\n",
       "\t<tr><td>0.5644039</td><td>0.1769069</td><td>1.051951</td></tr>\n",
       "\t<tr><td>0.1769069</td><td>0.3079040</td><td>1.142028</td></tr>\n",
       "\t<tr><td>1.0519508</td><td>1.1420280</td><td>7.727712</td></tr>\n",
       "</tbody>\n",
       "</table>\n"
      ],
      "text/latex": [
       "A matrix: 3 × 3 of type dbl\n",
       "\\begin{tabular}{lll}\n",
       "\t 0.5644039 & 0.1769069 & 1.051951\\\\\n",
       "\t 0.1769069 & 0.3079040 & 1.142028\\\\\n",
       "\t 1.0519508 & 1.1420280 & 7.727712\\\\\n",
       "\\end{tabular}\n"
      ],
      "text/markdown": [
       "\n",
       "A matrix: 3 × 3 of type dbl\n",
       "\n",
       "| 0.5644039 | 0.1769069 | 1.051951 |\n",
       "| 0.1769069 | 0.3079040 | 1.142028 |\n",
       "| 1.0519508 | 1.1420280 | 7.727712 |\n",
       "\n"
      ],
      "text/plain": [
       "     [,1]      [,2]      [,3]    \n",
       "[1,] 0.5644039 0.1769069 1.051951\n",
       "[2,] 0.1769069 0.3079040 1.142028\n",
       "[3,] 1.0519508 1.1420280 7.727712"
      ]
     },
     "metadata": {},
     "output_type": "display_data"
    }
   ],
   "source": [
    "I<- diag(9) #matriz diagonal\n",
    "A_1<-matrix(c(0.7,0,0.9,0.1,0.4,0,0,0.1,0.8), ncol = 3) #Matriz A_1\n",
    "AxA<-kronecker(A_1,A_1) #Producto Kronecker\n",
    "v_sigma<-c(0.26,0.03,0,0.03,0.09,0,0,0,0.81) #Vectorización de la matriz de covarianzas\n",
    "sigma<-matrix(v_sigma,ncol=3)\n",
    "inv<-solve(I-AxA)#Inversa de identidad-Kronecker A por A\n",
    "gamma_0=matrix(inv%*%v_sigma,ncol=3) #Gamma(0)\n",
    "gamma_0"
   ]
  },
  {
   "cell_type": "code",
   "execution_count": 3,
   "metadata": {},
   "outputs": [
    {
     "data": {
      "text/html": [
       "<table>\n",
       "<caption>A matrix: 3 × 3 of type dbl</caption>\n",
       "<tbody>\n",
       "\t<tr><td>0.4127735</td><td>0.1546253</td><td>0.8505684</td></tr>\n",
       "\t<tr><td>0.1759579</td><td>0.2373644</td><td>1.2295824</td></tr>\n",
       "\t<tr><td>1.3495242</td><td>1.0728386</td><td>7.1289253</td></tr>\n",
       "</tbody>\n",
       "</table>\n"
      ],
      "text/latex": [
       "A matrix: 3 × 3 of type dbl\n",
       "\\begin{tabular}{lll}\n",
       "\t 0.4127735 & 0.1546253 & 0.8505684\\\\\n",
       "\t 0.1759579 & 0.2373644 & 1.2295824\\\\\n",
       "\t 1.3495242 & 1.0728386 & 7.1289253\\\\\n",
       "\\end{tabular}\n"
      ],
      "text/markdown": [
       "\n",
       "A matrix: 3 × 3 of type dbl\n",
       "\n",
       "| 0.4127735 | 0.1546253 | 0.8505684 |\n",
       "| 0.1759579 | 0.2373644 | 1.2295824 |\n",
       "| 1.3495242 | 1.0728386 | 7.1289253 |\n",
       "\n"
      ],
      "text/plain": [
       "     [,1]      [,2]      [,3]     \n",
       "[1,] 0.4127735 0.1546253 0.8505684\n",
       "[2,] 0.1759579 0.2373644 1.2295824\n",
       "[3,] 1.3495242 1.0728386 7.1289253"
      ]
     },
     "metadata": {},
     "output_type": "display_data"
    }
   ],
   "source": [
    "gamma_1=A_1%*%gamma_0\n",
    "gamma_1"
   ]
  },
  {
   "cell_type": "code",
   "execution_count": 4,
   "metadata": {},
   "outputs": [
    {
     "data": {
      "text/html": [
       "<table>\n",
       "<caption>A matrix: 3 × 3 of type dbl</caption>\n",
       "<tbody>\n",
       "\t<tr><td>0.3065372</td><td>0.1319741</td><td>0.7183561</td></tr>\n",
       "\t<tr><td>0.2053356</td><td>0.2022296</td><td>1.2047255</td></tr>\n",
       "\t<tr><td>1.4511155</td><td>0.9974336</td><td>6.4686518</td></tr>\n",
       "</tbody>\n",
       "</table>\n"
      ],
      "text/latex": [
       "A matrix: 3 × 3 of type dbl\n",
       "\\begin{tabular}{lll}\n",
       "\t 0.3065372 & 0.1319741 & 0.7183561\\\\\n",
       "\t 0.2053356 & 0.2022296 & 1.2047255\\\\\n",
       "\t 1.4511155 & 0.9974336 & 6.4686518\\\\\n",
       "\\end{tabular}\n"
      ],
      "text/markdown": [
       "\n",
       "A matrix: 3 × 3 of type dbl\n",
       "\n",
       "| 0.3065372 | 0.1319741 | 0.7183561 |\n",
       "| 0.2053356 | 0.2022296 | 1.2047255 |\n",
       "| 1.4511155 | 0.9974336 | 6.4686518 |\n",
       "\n"
      ],
      "text/plain": [
       "     [,1]      [,2]      [,3]     \n",
       "[1,] 0.3065372 0.1319741 0.7183561\n",
       "[2,] 0.2053356 0.2022296 1.2047255\n",
       "[3,] 1.4511155 0.9974336 6.4686518"
      ]
     },
     "metadata": {},
     "output_type": "display_data"
    }
   ],
   "source": [
    "gamma_2=A_1%*%gamma_1\n",
    "gamma_2"
   ]
  },
  {
   "cell_type": "code",
   "execution_count": 5,
   "metadata": {},
   "outputs": [
    {
     "data": {
      "text/html": [
       "<table>\n",
       "<caption>A matrix: 3 × 3 of type dbl</caption>\n",
       "<tbody>\n",
       "\t<tr><td>0.2351096</td><td>0.1126048</td><td>0.6233218</td></tr>\n",
       "\t<tr><td>0.2272458</td><td>0.1806352</td><td>1.1287554</td></tr>\n",
       "\t<tr><td>1.4367758</td><td>0.9167236</td><td>5.8214419</td></tr>\n",
       "</tbody>\n",
       "</table>\n"
      ],
      "text/latex": [
       "A matrix: 3 × 3 of type dbl\n",
       "\\begin{tabular}{lll}\n",
       "\t 0.2351096 & 0.1126048 & 0.6233218\\\\\n",
       "\t 0.2272458 & 0.1806352 & 1.1287554\\\\\n",
       "\t 1.4367758 & 0.9167236 & 5.8214419\\\\\n",
       "\\end{tabular}\n"
      ],
      "text/markdown": [
       "\n",
       "A matrix: 3 × 3 of type dbl\n",
       "\n",
       "| 0.2351096 | 0.1126048 | 0.6233218 |\n",
       "| 0.2272458 | 0.1806352 | 1.1287554 |\n",
       "| 1.4367758 | 0.9167236 | 5.8214419 |\n",
       "\n"
      ],
      "text/plain": [
       "     [,1]      [,2]      [,3]     \n",
       "[1,] 0.2351096 0.1126048 0.6233218\n",
       "[2,] 0.2272458 0.1806352 1.1287554\n",
       "[3,] 1.4367758 0.9167236 5.8214419"
      ]
     },
     "metadata": {},
     "output_type": "display_data"
    }
   ],
   "source": [
    "gamma_3=A_1%*%gamma_2\n",
    "gamma_3"
   ]
  },
  {
   "cell_type": "code",
   "execution_count": 6,
   "metadata": {},
   "outputs": [
    {
     "data": {
      "text/html": [
       "<table>\n",
       "<caption>A matrix: 3 × 3 of type dbl</caption>\n",
       "<tbody>\n",
       "\t<tr><td>1.331083</td><td>0.000000</td><td>0.0000000</td></tr>\n",
       "\t<tr><td>0.000000</td><td>1.802156</td><td>0.0000000</td></tr>\n",
       "\t<tr><td>0.000000</td><td>0.000000</td><td>0.3597282</td></tr>\n",
       "</tbody>\n",
       "</table>\n"
      ],
      "text/latex": [
       "A matrix: 3 × 3 of type dbl\n",
       "\\begin{tabular}{lll}\n",
       "\t 1.331083 & 0.000000 & 0.0000000\\\\\n",
       "\t 0.000000 & 1.802156 & 0.0000000\\\\\n",
       "\t 0.000000 & 0.000000 & 0.3597282\\\\\n",
       "\\end{tabular}\n"
      ],
      "text/markdown": [
       "\n",
       "A matrix: 3 × 3 of type dbl\n",
       "\n",
       "| 1.331083 | 0.000000 | 0.0000000 |\n",
       "| 0.000000 | 1.802156 | 0.0000000 |\n",
       "| 0.000000 | 0.000000 | 0.3597282 |\n",
       "\n"
      ],
      "text/plain": [
       "     [,1]     [,2]     [,3]     \n",
       "[1,] 1.331083 0.000000 0.0000000\n",
       "[2,] 0.000000 1.802156 0.0000000\n",
       "[3,] 0.000000 0.000000 0.3597282"
      ]
     },
     "metadata": {},
     "output_type": "display_data"
    }
   ],
   "source": [
    "D_1<-diag(1/((diag(gamma_0))^(1/2)))\n",
    "D_1"
   ]
  },
  {
   "cell_type": "markdown",
   "metadata": {},
   "source": [
    "### Calculos de R(h)"
   ]
  },
  {
   "cell_type": "code",
   "execution_count": 7,
   "metadata": {},
   "outputs": [
    {
     "data": {
      "text/html": [
       "<table>\n",
       "<caption>A matrix: 3 × 3 of type dbl</caption>\n",
       "<tbody>\n",
       "\t<tr><td>1.0000000</td><td>0.4243676</td><td>0.5037035</td></tr>\n",
       "\t<tr><td>0.4243676</td><td>1.0000000</td><td>0.7403611</td></tr>\n",
       "\t<tr><td>0.5037035</td><td>0.7403611</td><td>1.0000000</td></tr>\n",
       "</tbody>\n",
       "</table>\n"
      ],
      "text/latex": [
       "A matrix: 3 × 3 of type dbl\n",
       "\\begin{tabular}{lll}\n",
       "\t 1.0000000 & 0.4243676 & 0.5037035\\\\\n",
       "\t 0.4243676 & 1.0000000 & 0.7403611\\\\\n",
       "\t 0.5037035 & 0.7403611 & 1.0000000\\\\\n",
       "\\end{tabular}\n"
      ],
      "text/markdown": [
       "\n",
       "A matrix: 3 × 3 of type dbl\n",
       "\n",
       "| 1.0000000 | 0.4243676 | 0.5037035 |\n",
       "| 0.4243676 | 1.0000000 | 0.7403611 |\n",
       "| 0.5037035 | 0.7403611 | 1.0000000 |\n",
       "\n"
      ],
      "text/plain": [
       "     [,1]      [,2]      [,3]     \n",
       "[1,] 1.0000000 0.4243676 0.5037035\n",
       "[2,] 0.4243676 1.0000000 0.7403611\n",
       "[3,] 0.5037035 0.7403611 1.0000000"
      ]
     },
     "metadata": {},
     "output_type": "display_data"
    }
   ],
   "source": [
    "R_0=D_1%*%gamma_0%*%D_1\n",
    "R_0"
   ]
  },
  {
   "cell_type": "code",
   "execution_count": 8,
   "metadata": {},
   "outputs": [
    {
     "data": {
      "text/html": [
       "<table>\n",
       "<caption>A matrix: 3 × 3 of type dbl</caption>\n",
       "<tbody>\n",
       "\t<tr><td>0.7313440</td><td>0.3709179</td><td>0.4072759</td></tr>\n",
       "\t<tr><td>0.4220909</td><td>0.7709039</td><td>0.7971215</td></tr>\n",
       "\t<tr><td>0.6461899</td><td>0.6955066</td><td>0.9225144</td></tr>\n",
       "</tbody>\n",
       "</table>\n"
      ],
      "text/latex": [
       "A matrix: 3 × 3 of type dbl\n",
       "\\begin{tabular}{lll}\n",
       "\t 0.7313440 & 0.3709179 & 0.4072759\\\\\n",
       "\t 0.4220909 & 0.7709039 & 0.7971215\\\\\n",
       "\t 0.6461899 & 0.6955066 & 0.9225144\\\\\n",
       "\\end{tabular}\n"
      ],
      "text/markdown": [
       "\n",
       "A matrix: 3 × 3 of type dbl\n",
       "\n",
       "| 0.7313440 | 0.3709179 | 0.4072759 |\n",
       "| 0.4220909 | 0.7709039 | 0.7971215 |\n",
       "| 0.6461899 | 0.6955066 | 0.9225144 |\n",
       "\n"
      ],
      "text/plain": [
       "     [,1]      [,2]      [,3]     \n",
       "[1,] 0.7313440 0.3709179 0.4072759\n",
       "[2,] 0.4220909 0.7709039 0.7971215\n",
       "[3,] 0.6461899 0.6955066 0.9225144"
      ]
     },
     "metadata": {},
     "output_type": "display_data"
    }
   ],
   "source": [
    "R_1=D_1%*%gamma_1%*%D_1\n",
    "R_1"
   ]
  },
  {
   "cell_type": "code",
   "execution_count": 9,
   "metadata": {},
   "outputs": [
    {
     "data": {
      "text/html": [
       "<table>\n",
       "<caption>A matrix: 3 × 3 of type dbl</caption>\n",
       "<tbody>\n",
       "\t<tr><td>0.5431167</td><td>0.3165819</td><td>0.3439690</td></tr>\n",
       "\t<tr><td>0.4925627</td><td>0.6567944</td><td>0.7810071</td></tr>\n",
       "\t<tr><td>0.6948347</td><td>0.6466226</td><td>0.8370721</td></tr>\n",
       "</tbody>\n",
       "</table>\n"
      ],
      "text/latex": [
       "A matrix: 3 × 3 of type dbl\n",
       "\\begin{tabular}{lll}\n",
       "\t 0.5431167 & 0.3165819 & 0.3439690\\\\\n",
       "\t 0.4925627 & 0.6567944 & 0.7810071\\\\\n",
       "\t 0.6948347 & 0.6466226 & 0.8370721\\\\\n",
       "\\end{tabular}\n"
      ],
      "text/markdown": [
       "\n",
       "A matrix: 3 × 3 of type dbl\n",
       "\n",
       "| 0.5431167 | 0.3165819 | 0.3439690 |\n",
       "| 0.4925627 | 0.6567944 | 0.7810071 |\n",
       "| 0.6948347 | 0.6466226 | 0.8370721 |\n",
       "\n"
      ],
      "text/plain": [
       "     [,1]      [,2]      [,3]     \n",
       "[1,] 0.5431167 0.3165819 0.3439690\n",
       "[2,] 0.4925627 0.6567944 0.7810071\n",
       "[3,] 0.6948347 0.6466226 0.8370721"
      ]
     },
     "metadata": {},
     "output_type": "display_data"
    }
   ],
   "source": [
    "R_2=D_1%*%gamma_2%*%D_1\n",
    "R_2"
   ]
  },
  {
   "cell_type": "code",
   "execution_count": 114,
   "metadata": {},
   "outputs": [
    {
     "data": {
      "text/html": [
       "<table>\n",
       "<caption>A matrix: 3 × 3 of type dbl</caption>\n",
       "<tbody>\n",
       "\t<tr><td>0.4165626</td><td>0.2701185</td><td>0.2984639</td></tr>\n",
       "\t<tr><td>0.5451213</td><td>0.5866608</td><td>0.7317567</td></tr>\n",
       "\t<tr><td>0.6879685</td><td>0.5942994</td><td>0.7533202</td></tr>\n",
       "</tbody>\n",
       "</table>\n"
      ],
      "text/latex": [
       "A matrix: 3 × 3 of type dbl\n",
       "\\begin{tabular}{lll}\n",
       "\t 0.4165626 & 0.2701185 & 0.2984639\\\\\n",
       "\t 0.5451213 & 0.5866608 & 0.7317567\\\\\n",
       "\t 0.6879685 & 0.5942994 & 0.7533202\\\\\n",
       "\\end{tabular}\n"
      ],
      "text/markdown": [
       "\n",
       "A matrix: 3 × 3 of type dbl\n",
       "\n",
       "| 0.4165626 | 0.2701185 | 0.2984639 |\n",
       "| 0.5451213 | 0.5866608 | 0.7317567 |\n",
       "| 0.6879685 | 0.5942994 | 0.7533202 |\n",
       "\n"
      ],
      "text/plain": [
       "     [,1]      [,2]      [,3]     \n",
       "[1,] 0.4165626 0.2701185 0.2984639\n",
       "[2,] 0.5451213 0.5866608 0.7317567\n",
       "[3,] 0.6879685 0.5942994 0.7533202"
      ]
     },
     "metadata": {},
     "output_type": "display_data"
    }
   ],
   "source": [
    "R_3=D_1%*%gamma_3%*%D_1\n",
    "R_3"
   ]
  },
  {
   "cell_type": "code",
   "execution_count": 145,
   "metadata": {},
   "outputs": [
    {
     "ename": "ERROR",
     "evalue": "Error in unouno.add(2): no se pudo encontrar la función \"unouno.add\"\n",
     "output_type": "error",
     "traceback": [
      "Error in unouno.add(2): no se pudo encontrar la función \"unouno.add\"\nTraceback:\n"
     ]
    }
   ],
   "source": [
    "RS=list(R_0,R_1,R_2,R_3)\n",
    "unouno=list()\n",
    "unouno.add(2)"
   ]
  },
  {
   "cell_type": "code",
   "execution_count": 142,
   "metadata": {},
   "outputs": [],
   "source": [
    "for (i in RS)\n",
    "    unouno=i[1]"
   ]
  },
  {
   "cell_type": "markdown",
   "metadata": {},
   "source": [
    "## Problema 2"
   ]
  },
  {
   "cell_type": "markdown",
   "metadata": {},
   "source": [
    "### Itema a"
   ]
  },
  {
   "cell_type": "code",
   "execution_count": 11,
   "metadata": {},
   "outputs": [
    {
     "data": {
      "text/html": [
       "<table>\n",
       "<caption>A matrix: 6 × 6 of type dbl</caption>\n",
       "<tbody>\n",
       "\t<tr><td>0.7</td><td>0.1</td><td>0.0</td><td>-0.2</td><td>0.0</td><td>0.0</td></tr>\n",
       "\t<tr><td>0.0</td><td>0.4</td><td>0.1</td><td> 0.0</td><td>0.1</td><td>0.1</td></tr>\n",
       "\t<tr><td>0.9</td><td>0.0</td><td>0.8</td><td> 0.0</td><td>0.0</td><td>0.0</td></tr>\n",
       "\t<tr><td>1.0</td><td>0.0</td><td>0.0</td><td> 0.0</td><td>0.0</td><td>0.0</td></tr>\n",
       "\t<tr><td>0.0</td><td>1.0</td><td>0.0</td><td> 0.0</td><td>0.0</td><td>0.0</td></tr>\n",
       "\t<tr><td>0.0</td><td>0.0</td><td>1.0</td><td> 0.0</td><td>0.0</td><td>0.0</td></tr>\n",
       "</tbody>\n",
       "</table>\n"
      ],
      "text/latex": [
       "A matrix: 6 × 6 of type dbl\n",
       "\\begin{tabular}{llllll}\n",
       "\t 0.7 & 0.1 & 0.0 & -0.2 & 0.0 & 0.0\\\\\n",
       "\t 0.0 & 0.4 & 0.1 &  0.0 & 0.1 & 0.1\\\\\n",
       "\t 0.9 & 0.0 & 0.8 &  0.0 & 0.0 & 0.0\\\\\n",
       "\t 1.0 & 0.0 & 0.0 &  0.0 & 0.0 & 0.0\\\\\n",
       "\t 0.0 & 1.0 & 0.0 &  0.0 & 0.0 & 0.0\\\\\n",
       "\t 0.0 & 0.0 & 1.0 &  0.0 & 0.0 & 0.0\\\\\n",
       "\\end{tabular}\n"
      ],
      "text/markdown": [
       "\n",
       "A matrix: 6 × 6 of type dbl\n",
       "\n",
       "| 0.7 | 0.1 | 0.0 | -0.2 | 0.0 | 0.0 |\n",
       "| 0.0 | 0.4 | 0.1 |  0.0 | 0.1 | 0.1 |\n",
       "| 0.9 | 0.0 | 0.8 |  0.0 | 0.0 | 0.0 |\n",
       "| 1.0 | 0.0 | 0.0 |  0.0 | 0.0 | 0.0 |\n",
       "| 0.0 | 1.0 | 0.0 |  0.0 | 0.0 | 0.0 |\n",
       "| 0.0 | 0.0 | 1.0 |  0.0 | 0.0 | 0.0 |\n",
       "\n"
      ],
      "text/plain": [
       "     [,1] [,2] [,3] [,4] [,5] [,6]\n",
       "[1,] 0.7  0.1  0.0  -0.2 0.0  0.0 \n",
       "[2,] 0.0  0.4  0.1   0.0 0.1  0.1 \n",
       "[3,] 0.9  0.0  0.8   0.0 0.0  0.0 \n",
       "[4,] 1.0  0.0  0.0   0.0 0.0  0.0 \n",
       "[5,] 0.0  1.0  0.0   0.0 0.0  0.0 \n",
       "[6,] 0.0  0.0  1.0   0.0 0.0  0.0 "
      ]
     },
     "metadata": {},
     "output_type": "display_data"
    }
   ],
   "source": [
    "Ct<-matrix(c(0.3,-0.1,0,0.2,0,0,0,0.6,-0.1,0,-0.1,-0.1,-0.9,0,0.2,0,0,0,-1,0,0,1,0,0,0,-1,0,0,1,0,0,0,-1,0,0,1), ncol = 6) #La matriz esta transpuesta\n",
    "C=t(Ct) #MATRIZ I_{k}-Az\n",
    "A<-diag(6)-C # Matriz A\n",
    "A"
   ]
  },
  {
   "cell_type": "code",
   "execution_count": 12,
   "metadata": {},
   "outputs": [
    {
     "data": {
      "text/html": [
       "<style>\n",
       ".list-inline {list-style: none; margin:0; padding: 0}\n",
       ".list-inline>li {display: inline-block}\n",
       ".list-inline>li:not(:last-child)::after {content: \"\\00b7\"; padding: 0 .5ex}\n",
       "</style>\n",
       "<ol class=list-inline><li>0.7</li><li>1</li><li>1.5</li><li>1</li><li>1.5</li><li>3</li></ol>\n"
      ],
      "text/latex": [
       "\\begin{enumerate*}\n",
       "\\item 0.7\n",
       "\\item 1\n",
       "\\item 1.5\n",
       "\\item 1\n",
       "\\item 1.5\n",
       "\\item 3\n",
       "\\end{enumerate*}\n"
      ],
      "text/markdown": [
       "1. 0.7\n",
       "2. 1\n",
       "3. 1.5\n",
       "4. 1\n",
       "5. 1.5\n",
       "6. 3\n",
       "\n",
       "\n"
      ],
      "text/plain": [
       "[1] 0.7 1.0 1.5 1.0 1.5 3.0"
      ]
     },
     "metadata": {},
     "output_type": "display_data"
    },
    {
     "data": {
      "text/html": [
       "<table>\n",
       "<caption>A matrix: 3 × 6 of type dbl</caption>\n",
       "<tbody>\n",
       "\t<tr><td>1</td><td>0</td><td>0</td><td>0</td><td>0</td><td>0</td></tr>\n",
       "\t<tr><td>0</td><td>1</td><td>0</td><td>0</td><td>0</td><td>0</td></tr>\n",
       "\t<tr><td>0</td><td>0</td><td>1</td><td>0</td><td>0</td><td>0</td></tr>\n",
       "</tbody>\n",
       "</table>\n"
      ],
      "text/latex": [
       "A matrix: 3 × 6 of type dbl\n",
       "\\begin{tabular}{llllll}\n",
       "\t 1 & 0 & 0 & 0 & 0 & 0\\\\\n",
       "\t 0 & 1 & 0 & 0 & 0 & 0\\\\\n",
       "\t 0 & 0 & 1 & 0 & 0 & 0\\\\\n",
       "\\end{tabular}\n"
      ],
      "text/markdown": [
       "\n",
       "A matrix: 3 × 6 of type dbl\n",
       "\n",
       "| 1 | 0 | 0 | 0 | 0 | 0 |\n",
       "| 0 | 1 | 0 | 0 | 0 | 0 |\n",
       "| 0 | 0 | 1 | 0 | 0 | 0 |\n",
       "\n"
      ],
      "text/plain": [
       "     [,1] [,2] [,3] [,4] [,5] [,6]\n",
       "[1,] 1    0    0    0    0    0   \n",
       "[2,] 0    1    0    0    0    0   \n",
       "[3,] 0    0    1    0    0    0   "
      ]
     },
     "metadata": {},
     "output_type": "display_data"
    }
   ],
   "source": [
    "Y_t=c(0.7,1,1.5,1,1.5,3)\n",
    "Y_t # Vector Y\n",
    "J<-matrix(c(diag(3),matrix(0,3,3)),ncol=6)\n",
    "J  # Vector J que devuelve el VAR(1) a VAR(2)"
   ]
  },
  {
   "cell_type": "code",
   "execution_count": 17,
   "metadata": {},
   "outputs": [
    {
     "data": {
      "text/html": [
       "<style>\n",
       ".list-inline {list-style: none; margin:0; padding: 0}\n",
       ".list-inline>li {display: inline-block}\n",
       ".list-inline>li:not(:last-child)::after {content: \"\\00b7\"; padding: 0 .5ex}\n",
       "</style>\n",
       "<ol class=list-inline><li>-0.332154509085867</li><li>0.274324941925287</li><li>-0.400199388566818</li><li>0</li><li>0</li><li>0</li></ol>\n"
      ],
      "text/latex": [
       "\\begin{enumerate*}\n",
       "\\item -0.332154509085867\n",
       "\\item 0.274324941925287\n",
       "\\item -0.400199388566818\n",
       "\\item 0\n",
       "\\item 0\n",
       "\\item 0\n",
       "\\end{enumerate*}\n"
      ],
      "text/markdown": [
       "1. -0.332154509085867\n",
       "2. 0.274324941925287\n",
       "3. -0.400199388566818\n",
       "4. 0\n",
       "5. 0\n",
       "6. 0\n",
       "\n",
       "\n"
      ],
      "text/plain": [
       "[1] -0.3321545  0.2743249 -0.4001994  0.0000000  0.0000000  0.0000000"
      ]
     },
     "metadata": {},
     "output_type": "display_data"
    }
   ],
   "source": [
    "mu=c(0,0,0)\n",
    "u_1<-mvrnorm(1,mu=mu,Sigma=sigma)\n",
    "U<-c(u_1,0,0,0)\n",
    "U"
   ]
  },
  {
   "cell_type": "code",
   "execution_count": 18,
   "metadata": {},
   "outputs": [
    {
     "data": {
      "text/html": [
       "<table>\n",
       "<caption>A matrix: 3 × 1 of type dbl</caption>\n",
       "<tbody>\n",
       "\t<tr><td>0.05784549</td></tr>\n",
       "\t<tr><td>1.27432494</td></tr>\n",
       "\t<tr><td>1.42980061</td></tr>\n",
       "</tbody>\n",
       "</table>\n"
      ],
      "text/latex": [
       "A matrix: 3 × 1 of type dbl\n",
       "\\begin{tabular}{l}\n",
       "\t 0.05784549\\\\\n",
       "\t 1.27432494\\\\\n",
       "\t 1.42980061\\\\\n",
       "\\end{tabular}\n"
      ],
      "text/markdown": [
       "\n",
       "A matrix: 3 × 1 of type dbl\n",
       "\n",
       "| 0.05784549 |\n",
       "| 1.27432494 |\n",
       "| 1.42980061 |\n",
       "\n"
      ],
      "text/plain": [
       "     [,1]      \n",
       "[1,] 0.05784549\n",
       "[2,] 1.27432494\n",
       "[3,] 1.42980061"
      ]
     },
     "metadata": {},
     "output_type": "display_data"
    }
   ],
   "source": [
    "Y_t1=A%*%Y_t+diag(6)%*%U\n",
    "Y_2001=J%*%Y_t1 #Predicción al 2001\n",
    "Y_2001"
   ]
  },
  {
   "cell_type": "code",
   "execution_count": 19,
   "metadata": {},
   "outputs": [
    {
     "data": {
      "text/html": [
       "<style>\n",
       ".list-inline {list-style: none; margin:0; padding: 0}\n",
       ".list-inline>li {display: inline-block}\n",
       ".list-inline>li:not(:last-child)::after {content: \"\\00b7\"; padding: 0 .5ex}\n",
       "</style>\n",
       "<ol class=list-inline><li>0.420512044358757</li><li>-0.448188652951794</li><li>-1.45677878296873</li><li>0</li><li>0</li><li>0</li></ol>\n"
      ],
      "text/latex": [
       "\\begin{enumerate*}\n",
       "\\item 0.420512044358757\n",
       "\\item -0.448188652951794\n",
       "\\item -1.45677878296873\n",
       "\\item 0\n",
       "\\item 0\n",
       "\\item 0\n",
       "\\end{enumerate*}\n"
      ],
      "text/markdown": [
       "1. 0.420512044358757\n",
       "2. -0.448188652951794\n",
       "3. -1.45677878296873\n",
       "4. 0\n",
       "5. 0\n",
       "6. 0\n",
       "\n",
       "\n"
      ],
      "text/plain": [
       "[1]  0.4205120 -0.4481887 -1.4567788  0.0000000  0.0000000  0.0000000"
      ]
     },
     "metadata": {},
     "output_type": "display_data"
    },
    {
     "data": {
      "text/html": [
       "<style>\n",
       ".list-inline {list-style: none; margin:0; padding: 0}\n",
       ".list-inline>li {display: inline-block}\n",
       ".list-inline>li:not(:last-child)::after {content: \"\\00b7\"; padding: 0 .5ex}\n",
       "</style>\n",
       "<ol class=list-inline><li>-0.293320915676792</li><li>0.1474056654228</li><li>1.68224874730626</li><li>0</li><li>0</li><li>0</li></ol>\n"
      ],
      "text/latex": [
       "\\begin{enumerate*}\n",
       "\\item -0.293320915676792\n",
       "\\item 0.1474056654228\n",
       "\\item 1.68224874730626\n",
       "\\item 0\n",
       "\\item 0\n",
       "\\item 0\n",
       "\\end{enumerate*}\n"
      ],
      "text/markdown": [
       "1. -0.293320915676792\n",
       "2. 0.1474056654228\n",
       "3. 1.68224874730626\n",
       "4. 0\n",
       "5. 0\n",
       "6. 0\n",
       "\n",
       "\n"
      ],
      "text/plain": [
       "[1] -0.2933209  0.1474057  1.6822487  0.0000000  0.0000000  0.0000000"
      ]
     },
     "metadata": {},
     "output_type": "display_data"
    }
   ],
   "source": [
    "u_1<-mvrnorm(1,mu=mu,Sigma=sigma)\n",
    "U_1<-c(u_1,0,0,0)\n",
    "U_1\n",
    "u_2<-mvrnorm(1,mu=mu,Sigma=sigma)\n",
    "U_2<-c(u_2,0,0,0)\n",
    "U_2"
   ]
  },
  {
   "cell_type": "code",
   "execution_count": 70,
   "metadata": {},
   "outputs": [
    {
     "data": {
      "text/html": [
       "<table>\n",
       "<caption>A matrix: 3 × 1 of type dbl</caption>\n",
       "<tbody>\n",
       "\t<tr><td>-0.100670</td></tr>\n",
       "\t<tr><td> 1.235356</td></tr>\n",
       "\t<tr><td> 1.900574</td></tr>\n",
       "</tbody>\n",
       "</table>\n"
      ],
      "text/latex": [
       "A matrix: 3 × 1 of type dbl\n",
       "\\begin{tabular}{l}\n",
       "\t -0.100670\\\\\n",
       "\t  1.235356\\\\\n",
       "\t  1.900574\\\\\n",
       "\\end{tabular}\n"
      ],
      "text/markdown": [
       "\n",
       "A matrix: 3 × 1 of type dbl\n",
       "\n",
       "| -0.100670 |\n",
       "|  1.235356 |\n",
       "|  1.900574 |\n",
       "\n"
      ],
      "text/plain": [
       "     [,1]     \n",
       "[1,] -0.100670\n",
       "[2,]  1.235356\n",
       "[3,]  1.900574"
      ]
     },
     "metadata": {},
     "output_type": "display_data"
    }
   ],
   "source": [
    "Y_t2=A%*%Y_t+A%*%U_2+diag(6)%*%U\n",
    "Y_2002=J%*%Y_t2 #Predicción al 2002\n",
    "Y_2002"
   ]
  },
  {
   "cell_type": "code",
   "execution_count": 21,
   "metadata": {},
   "outputs": [
    {
     "data": {
      "text/html": [
       "<style>\n",
       ".list-inline {list-style: none; margin:0; padding: 0}\n",
       ".list-inline>li {display: inline-block}\n",
       ".list-inline>li:not(:last-child)::after {content: \"\\00b7\"; padding: 0 .5ex}\n",
       "</style>\n",
       "<ol class=list-inline><li>-0.350170177844548</li><li>-0.0951498886926498</li><li>0.77786604904499</li><li>0</li><li>0</li><li>0</li></ol>\n"
      ],
      "text/latex": [
       "\\begin{enumerate*}\n",
       "\\item -0.350170177844548\n",
       "\\item -0.0951498886926498\n",
       "\\item 0.77786604904499\n",
       "\\item 0\n",
       "\\item 0\n",
       "\\item 0\n",
       "\\end{enumerate*}\n"
      ],
      "text/markdown": [
       "1. -0.350170177844548\n",
       "2. -0.0951498886926498\n",
       "3. 0.77786604904499\n",
       "4. 0\n",
       "5. 0\n",
       "6. 0\n",
       "\n",
       "\n"
      ],
      "text/plain": [
       "[1] -0.35017018 -0.09514989  0.77786605  0.00000000  0.00000000  0.00000000"
      ]
     },
     "metadata": {},
     "output_type": "display_data"
    },
    {
     "data": {
      "text/html": [
       "<style>\n",
       ".list-inline {list-style: none; margin:0; padding: 0}\n",
       ".list-inline>li {display: inline-block}\n",
       ".list-inline>li:not(:last-child)::after {content: \"\\00b7\"; padding: 0 .5ex}\n",
       "</style>\n",
       "<ol class=list-inline><li>-0.184119131377453</li><li>-0.2963213818506</li><li>0.795601060589039</li><li>0</li><li>0</li><li>0</li></ol>\n"
      ],
      "text/latex": [
       "\\begin{enumerate*}\n",
       "\\item -0.184119131377453\n",
       "\\item -0.2963213818506\n",
       "\\item 0.795601060589039\n",
       "\\item 0\n",
       "\\item 0\n",
       "\\item 0\n",
       "\\end{enumerate*}\n"
      ],
      "text/markdown": [
       "1. -0.184119131377453\n",
       "2. -0.2963213818506\n",
       "3. 0.795601060589039\n",
       "4. 0\n",
       "5. 0\n",
       "6. 0\n",
       "\n",
       "\n"
      ],
      "text/plain": [
       "[1] -0.1841191 -0.2963214  0.7956011  0.0000000  0.0000000  0.0000000"
      ]
     },
     "metadata": {},
     "output_type": "display_data"
    },
    {
     "data": {
      "text/html": [
       "<style>\n",
       ".list-inline {list-style: none; margin:0; padding: 0}\n",
       ".list-inline>li {display: inline-block}\n",
       ".list-inline>li:not(:last-child)::after {content: \"\\00b7\"; padding: 0 .5ex}\n",
       "</style>\n",
       "<ol class=list-inline><li>0.0547171487033713</li><li>0.119718450331524</li><li>0.728018051340278</li><li>0</li><li>0</li><li>0</li></ol>\n"
      ],
      "text/latex": [
       "\\begin{enumerate*}\n",
       "\\item 0.0547171487033713\n",
       "\\item 0.119718450331524\n",
       "\\item 0.728018051340278\n",
       "\\item 0\n",
       "\\item 0\n",
       "\\item 0\n",
       "\\end{enumerate*}\n"
      ],
      "text/markdown": [
       "1. 0.0547171487033713\n",
       "2. 0.119718450331524\n",
       "3. 0.728018051340278\n",
       "4. 0\n",
       "5. 0\n",
       "6. 0\n",
       "\n",
       "\n"
      ],
      "text/plain": [
       "[1] 0.05471715 0.11971845 0.72801805 0.00000000 0.00000000 0.00000000"
      ]
     },
     "metadata": {},
     "output_type": "display_data"
    }
   ],
   "source": [
    "u_1<-mvrnorm(1,mu=mu,Sigma=sigma)\n",
    "U_1<-c(u_1,0,0,0)\n",
    "U_1\n",
    "u_2<-mvrnorm(1,mu=mu,Sigma=sigma)\n",
    "U_2<-c(u_2,0,0,0)\n",
    "U_2\n",
    "u_3<-mvrnorm(1,mu=mu,Sigma=sigma)\n",
    "U_3<-c(u_3,0,0,0)\n",
    "U_3"
   ]
  },
  {
   "cell_type": "code",
   "execution_count": 76,
   "metadata": {},
   "outputs": [
    {
     "data": {
      "text/html": [
       "<table>\n",
       "<caption>A matrix: 3 × 1 of type dbl</caption>\n",
       "<tbody>\n",
       "\t<tr><td>-0.06435286</td></tr>\n",
       "\t<tr><td> 1.43157181</td></tr>\n",
       "\t<tr><td> 2.45114861</td></tr>\n",
       "</tbody>\n",
       "</table>\n"
      ],
      "text/latex": [
       "A matrix: 3 × 1 of type dbl\n",
       "\\begin{tabular}{l}\n",
       "\t -0.06435286\\\\\n",
       "\t  1.43157181\\\\\n",
       "\t  2.45114861\\\\\n",
       "\\end{tabular}\n"
      ],
      "text/markdown": [
       "\n",
       "A matrix: 3 × 1 of type dbl\n",
       "\n",
       "| -0.06435286 |\n",
       "|  1.43157181 |\n",
       "|  2.45114861 |\n",
       "\n"
      ],
      "text/plain": [
       "     [,1]       \n",
       "[1,] -0.06435286\n",
       "[2,]  1.43157181\n",
       "[3,]  2.45114861"
      ]
     },
     "metadata": {},
     "output_type": "display_data"
    }
   ],
   "source": [
    "Y_t3=A%*%Y_t+diag(6)%*%U+A%*%U_2+mtx.exp(A,2)%*%U_3\n",
    "Y_2003=J%*%Y_t3 #Predicción al 2003\n",
    "Y_2003"
   ]
  },
  {
   "cell_type": "markdown",
   "metadata": {},
   "source": [
    "### Item b"
   ]
  },
  {
   "cell_type": "code",
   "execution_count": 23,
   "metadata": {},
   "outputs": [],
   "source": [
    "Jt=t(J)"
   ]
  },
  {
   "cell_type": "code",
   "execution_count": 24,
   "metadata": {},
   "outputs": [
    {
     "data": {
      "text/html": [
       "<table>\n",
       "<caption>A matrix: 3 × 3 of type dbl</caption>\n",
       "<tbody>\n",
       "\t<tr><td>0.7</td><td>0.1</td><td>0.0</td></tr>\n",
       "\t<tr><td>0.0</td><td>0.4</td><td>0.1</td></tr>\n",
       "\t<tr><td>0.9</td><td>0.0</td><td>0.8</td></tr>\n",
       "</tbody>\n",
       "</table>\n"
      ],
      "text/latex": [
       "A matrix: 3 × 3 of type dbl\n",
       "\\begin{tabular}{lll}\n",
       "\t 0.7 & 0.1 & 0.0\\\\\n",
       "\t 0.0 & 0.4 & 0.1\\\\\n",
       "\t 0.9 & 0.0 & 0.8\\\\\n",
       "\\end{tabular}\n"
      ],
      "text/markdown": [
       "\n",
       "A matrix: 3 × 3 of type dbl\n",
       "\n",
       "| 0.7 | 0.1 | 0.0 |\n",
       "| 0.0 | 0.4 | 0.1 |\n",
       "| 0.9 | 0.0 | 0.8 |\n",
       "\n"
      ],
      "text/plain": [
       "     [,1] [,2] [,3]\n",
       "[1,] 0.7  0.1  0.0 \n",
       "[2,] 0.0  0.4  0.1 \n",
       "[3,] 0.9  0.0  0.8 "
      ]
     },
     "metadata": {},
     "output_type": "display_data"
    }
   ],
   "source": [
    "phi_1=J%*%A%*%Jt \n",
    "phi_1"
   ]
  },
  {
   "cell_type": "code",
   "execution_count": 25,
   "metadata": {},
   "outputs": [
    {
     "data": {
      "text/html": [
       "<table>\n",
       "<caption>A matrix: 3 × 3 of type dbl</caption>\n",
       "<tbody>\n",
       "\t<tr><td>0.29</td><td>0.11</td><td>0.01</td></tr>\n",
       "\t<tr><td>0.09</td><td>0.26</td><td>0.22</td></tr>\n",
       "\t<tr><td>1.35</td><td>0.09</td><td>0.64</td></tr>\n",
       "</tbody>\n",
       "</table>\n"
      ],
      "text/latex": [
       "A matrix: 3 × 3 of type dbl\n",
       "\\begin{tabular}{lll}\n",
       "\t 0.29 & 0.11 & 0.01\\\\\n",
       "\t 0.09 & 0.26 & 0.22\\\\\n",
       "\t 1.35 & 0.09 & 0.64\\\\\n",
       "\\end{tabular}\n"
      ],
      "text/markdown": [
       "\n",
       "A matrix: 3 × 3 of type dbl\n",
       "\n",
       "| 0.29 | 0.11 | 0.01 |\n",
       "| 0.09 | 0.26 | 0.22 |\n",
       "| 1.35 | 0.09 | 0.64 |\n",
       "\n"
      ],
      "text/plain": [
       "     [,1] [,2] [,3]\n",
       "[1,] 0.29 0.11 0.01\n",
       "[2,] 0.09 0.26 0.22\n",
       "[3,] 1.35 0.09 0.64"
      ]
     },
     "metadata": {},
     "output_type": "display_data"
    }
   ],
   "source": [
    "phi_2=J%*%mtx.exp(A,2)%*%Jt\n",
    "phi_2"
   ]
  },
  {
   "cell_type": "code",
   "execution_count": 26,
   "metadata": {},
   "outputs": [
    {
     "data": {
      "text/html": [
       "<table>\n",
       "<caption>A matrix: 3 × 3 of type dbl</caption>\n",
       "<tbody>\n",
       "\t<tr><td>1</td><td>0</td><td>0</td></tr>\n",
       "\t<tr><td>0</td><td>1</td><td>0</td></tr>\n",
       "\t<tr><td>0</td><td>0</td><td>1</td></tr>\n",
       "</tbody>\n",
       "</table>\n"
      ],
      "text/latex": [
       "A matrix: 3 × 3 of type dbl\n",
       "\\begin{tabular}{lll}\n",
       "\t 1 & 0 & 0\\\\\n",
       "\t 0 & 1 & 0\\\\\n",
       "\t 0 & 0 & 1\\\\\n",
       "\\end{tabular}\n"
      ],
      "text/markdown": [
       "\n",
       "A matrix: 3 × 3 of type dbl\n",
       "\n",
       "| 1 | 0 | 0 |\n",
       "| 0 | 1 | 0 |\n",
       "| 0 | 0 | 1 |\n",
       "\n"
      ],
      "text/plain": [
       "     [,1] [,2] [,3]\n",
       "[1,] 1    0    0   \n",
       "[2,] 0    1    0   \n",
       "[3,] 0    0    1   "
      ]
     },
     "metadata": {},
     "output_type": "display_data"
    }
   ],
   "source": [
    "MSE_1=J%*%diag(6)%*%t(J)\n",
    "MSE_1"
   ]
  },
  {
   "cell_type": "code",
   "execution_count": 27,
   "metadata": {},
   "outputs": [
    {
     "data": {
      "text/html": [
       "<table>\n",
       "<caption>A matrix: 3 × 3 of type dbl</caption>\n",
       "<tbody>\n",
       "\t<tr><td>1.1325</td><td>0.0120</td><td>0.1665</td></tr>\n",
       "\t<tr><td>0.0120</td><td>1.0225</td><td>0.0756</td></tr>\n",
       "\t<tr><td>0.1665</td><td>0.0756</td><td>1.7290</td></tr>\n",
       "</tbody>\n",
       "</table>\n"
      ],
      "text/latex": [
       "A matrix: 3 × 3 of type dbl\n",
       "\\begin{tabular}{lll}\n",
       "\t 1.1325 & 0.0120 & 0.1665\\\\\n",
       "\t 0.0120 & 1.0225 & 0.0756\\\\\n",
       "\t 0.1665 & 0.0756 & 1.7290\\\\\n",
       "\\end{tabular}\n"
      ],
      "text/markdown": [
       "\n",
       "A matrix: 3 × 3 of type dbl\n",
       "\n",
       "| 1.1325 | 0.0120 | 0.1665 |\n",
       "| 0.0120 | 1.0225 | 0.0756 |\n",
       "| 0.1665 | 0.0756 | 1.7290 |\n",
       "\n"
      ],
      "text/plain": [
       "     [,1]   [,2]   [,3]  \n",
       "[1,] 1.1325 0.0120 0.1665\n",
       "[2,] 0.0120 1.0225 0.0756\n",
       "[3,] 0.1665 0.0756 1.7290"
      ]
     },
     "metadata": {},
     "output_type": "display_data"
    }
   ],
   "source": [
    "MSE_2=phi_1%*%sigma%*%t(phi_1)+MSE_1\n",
    "MSE_2"
   ]
  },
  {
   "cell_type": "code",
   "execution_count": 28,
   "metadata": {},
   "outputs": [
    {
     "data": {
      "text/html": [
       "<table>\n",
       "<caption>A matrix: 3 × 3 of type dbl</caption>\n",
       "<tbody>\n",
       "\t<tr><td>1.157450</td><td>0.025701</td><td>0.279603</td></tr>\n",
       "\t<tr><td>0.025701</td><td>1.071298</td><td>0.234117</td></tr>\n",
       "\t<tr><td>0.279603</td><td>0.234117</td><td>2.542645</td></tr>\n",
       "</tbody>\n",
       "</table>\n"
      ],
      "text/latex": [
       "A matrix: 3 × 3 of type dbl\n",
       "\\begin{tabular}{lll}\n",
       "\t 1.157450 & 0.025701 & 0.279603\\\\\n",
       "\t 0.025701 & 1.071298 & 0.234117\\\\\n",
       "\t 0.279603 & 0.234117 & 2.542645\\\\\n",
       "\\end{tabular}\n"
      ],
      "text/markdown": [
       "\n",
       "A matrix: 3 × 3 of type dbl\n",
       "\n",
       "| 1.157450 | 0.025701 | 0.279603 |\n",
       "| 0.025701 | 1.071298 | 0.234117 |\n",
       "| 0.279603 | 0.234117 | 2.542645 |\n",
       "\n"
      ],
      "text/plain": [
       "     [,1]     [,2]     [,3]    \n",
       "[1,] 1.157450 0.025701 0.279603\n",
       "[2,] 0.025701 1.071298 0.234117\n",
       "[3,] 0.279603 0.234117 2.542645"
      ]
     },
     "metadata": {},
     "output_type": "display_data"
    }
   ],
   "source": [
    "MSE_3=phi_2%*%sigma%*%t(phi_2)+MSE_2\n",
    "MSE_3"
   ]
  },
  {
   "cell_type": "markdown",
   "metadata": {},
   "source": [
    "### Item c"
   ]
  },
  {
   "cell_type": "code",
   "execution_count": 43,
   "metadata": {},
   "outputs": [],
   "source": [
    "z90=qnorm(0.95)\n",
    "Z90<-c(z90,z90,z90)\n",
    "z95=qnorm(0.975)\n",
    "Z95<-c(z95,z95,z95)"
   ]
  },
  {
   "cell_type": "code",
   "execution_count": 66,
   "metadata": {},
   "outputs": [
    {
     "data": {
      "text/html": [
       "<style>\n",
       ".list-inline {list-style: none; margin:0; padding: 0}\n",
       ".list-inline>li {display: inline-block}\n",
       ".list-inline>li:not(:last-child)::after {content: \"\\00b7\"; padding: 0 .5ex}\n",
       "</style>\n",
       "<ol class=list-inline><li>1.64485362695147</li><li>1.64485362695147</li><li>1.64485362695147</li></ol>\n"
      ],
      "text/latex": [
       "\\begin{enumerate*}\n",
       "\\item 1.64485362695147\n",
       "\\item 1.64485362695147\n",
       "\\item 1.64485362695147\n",
       "\\end{enumerate*}\n"
      ],
      "text/markdown": [
       "1. 1.64485362695147\n",
       "2. 1.64485362695147\n",
       "3. 1.64485362695147\n",
       "\n",
       "\n"
      ],
      "text/plain": [
       "[1] 1.644854 1.644854 1.644854"
      ]
     },
     "metadata": {},
     "output_type": "display_data"
    },
    {
     "data": {
      "text/html": [
       "<style>\n",
       ".list-inline {list-style: none; margin:0; padding: 0}\n",
       ".list-inline>li {display: inline-block}\n",
       ".list-inline>li:not(:last-child)::after {content: \"\\00b7\"; padding: 0 .5ex}\n",
       "</style>\n",
       "<ol class=list-inline><li>0.509901951359279</li><li>0.3</li><li>0.9</li></ol>\n"
      ],
      "text/latex": [
       "\\begin{enumerate*}\n",
       "\\item 0.509901951359279\n",
       "\\item 0.3\n",
       "\\item 0.9\n",
       "\\end{enumerate*}\n"
      ],
      "text/markdown": [
       "1. 0.509901951359279\n",
       "2. 0.3\n",
       "3. 0.9\n",
       "\n",
       "\n"
      ],
      "text/plain": [
       "[1] 0.509902 0.300000 0.900000"
      ]
     },
     "metadata": {},
     "output_type": "display_data"
    },
    {
     "data": {
      "text/html": [
       "<table>\n",
       "<caption>A matrix: 3 × 1 of type dbl</caption>\n",
       "<tbody>\n",
       "\t<tr><td>0.05784549</td></tr>\n",
       "\t<tr><td>1.27432494</td></tr>\n",
       "\t<tr><td>1.42980061</td></tr>\n",
       "</tbody>\n",
       "</table>\n"
      ],
      "text/latex": [
       "A matrix: 3 × 1 of type dbl\n",
       "\\begin{tabular}{l}\n",
       "\t 0.05784549\\\\\n",
       "\t 1.27432494\\\\\n",
       "\t 1.42980061\\\\\n",
       "\\end{tabular}\n"
      ],
      "text/markdown": [
       "\n",
       "A matrix: 3 × 1 of type dbl\n",
       "\n",
       "| 0.05784549 |\n",
       "| 1.27432494 |\n",
       "| 1.42980061 |\n",
       "\n"
      ],
      "text/plain": [
       "     [,1]      \n",
       "[1,] 0.05784549\n",
       "[2,] 1.27432494\n",
       "[3,] 1.42980061"
      ]
     },
     "metadata": {},
     "output_type": "display_data"
    }
   ],
   "source": [
    "Z90\n",
    "c((diag(sigma))^(1/2))\n",
    "Y_2001"
   ]
  },
  {
   "cell_type": "markdown",
   "metadata": {},
   "source": [
    "### Intervalos de confianza del 90% para predicciones"
   ]
  },
  {
   "cell_type": "code",
   "execution_count": 89,
   "metadata": {},
   "outputs": [
    {
     "data": {
      "text/html": [
       "<table>\n",
       "<caption>A data.frame: 3 × 5</caption>\n",
       "<thead>\n",
       "\t<tr><th scope=col>Variables</th><th scope=col>Confianza</th><th scope=col>lim_inf</th><th scope=col>pred</th><th scope=col>lim_sup</th></tr>\n",
       "\t<tr><th scope=col>&lt;fct&gt;</th><th scope=col>&lt;fct&gt;</th><th scope=col>&lt;dbl&gt;</th><th scope=col>&lt;dbl&gt;</th><th scope=col>&lt;dbl&gt;</th></tr>\n",
       "</thead>\n",
       "<tbody>\n",
       "\t<tr><td>GNP</td><td>90%</td><td>-0.78086858</td><td>0.05784549</td><td>0.8965596</td></tr>\n",
       "\t<tr><td>M2 </td><td>90%</td><td> 0.78086885</td><td>1.27432494</td><td>1.7677810</td></tr>\n",
       "\t<tr><td>IR </td><td>90%</td><td>-0.05056765</td><td>1.42980061</td><td>2.9101689</td></tr>\n",
       "</tbody>\n",
       "</table>\n"
      ],
      "text/latex": [
       "A data.frame: 3 × 5\n",
       "\\begin{tabular}{lllll}\n",
       " Variables & Confianza & lim\\_inf & pred & lim\\_sup\\\\\n",
       " <fct> & <fct> & <dbl> & <dbl> & <dbl>\\\\\n",
       "\\hline\n",
       "\t GNP & 90\\% & -0.78086858 & 0.05784549 & 0.8965596\\\\\n",
       "\t M2  & 90\\% &  0.78086885 & 1.27432494 & 1.7677810\\\\\n",
       "\t IR  & 90\\% & -0.05056765 & 1.42980061 & 2.9101689\\\\\n",
       "\\end{tabular}\n"
      ],
      "text/markdown": [
       "\n",
       "A data.frame: 3 × 5\n",
       "\n",
       "| Variables &lt;fct&gt; | Confianza &lt;fct&gt; | lim_inf &lt;dbl&gt; | pred &lt;dbl&gt; | lim_sup &lt;dbl&gt; |\n",
       "|---|---|---|---|---|\n",
       "| GNP | 90% | -0.78086858 | 0.05784549 | 0.8965596 |\n",
       "| M2  | 90% |  0.78086885 | 1.27432494 | 1.7677810 |\n",
       "| IR  | 90% | -0.05056765 | 1.42980061 | 2.9101689 |\n",
       "\n"
      ],
      "text/plain": [
       "  Variables Confianza lim_inf     pred       lim_sup  \n",
       "1 GNP       90%       -0.78086858 0.05784549 0.8965596\n",
       "2 M2        90%        0.78086885 1.27432494 1.7677810\n",
       "3 IR        90%       -0.05056765 1.42980061 2.9101689"
      ]
     },
     "metadata": {},
     "output_type": "display_data"
    }
   ],
   "source": [
    "IC90_2001=data.frame(Variables=c('GNP','M2','IR'),Confianza='90%',lim_inf=Y_2001-Z90*c((diag(sigma))^(1/2)),pred=Y_2001,lim_sup=Y_2001+Z90*c((diag(sigma))^(1/2)))\n",
    "IC90_2001"
   ]
  },
  {
   "cell_type": "code",
   "execution_count": 90,
   "metadata": {},
   "outputs": [
    {
     "data": {
      "text/html": [
       "<table>\n",
       "<caption>A data.frame: 3 × 5</caption>\n",
       "<thead>\n",
       "\t<tr><th scope=col>Variables</th><th scope=col>Confianza</th><th scope=col>lim_inf</th><th scope=col>pred</th><th scope=col>lim_sup</th></tr>\n",
       "\t<tr><th scope=col>&lt;fct&gt;</th><th scope=col>&lt;fct&gt;</th><th scope=col>&lt;dbl&gt;</th><th scope=col>&lt;dbl&gt;</th><th scope=col>&lt;dbl&gt;</th></tr>\n",
       "</thead>\n",
       "<tbody>\n",
       "\t<tr><td>GNP</td><td>90%</td><td>-0.9393841</td><td>-0.100670</td><td>0.738044</td></tr>\n",
       "\t<tr><td>M2 </td><td>90%</td><td> 0.7419004</td><td> 1.235356</td><td>1.728813</td></tr>\n",
       "\t<tr><td>IR </td><td>90%</td><td> 0.4202060</td><td> 1.900574</td><td>3.380943</td></tr>\n",
       "</tbody>\n",
       "</table>\n"
      ],
      "text/latex": [
       "A data.frame: 3 × 5\n",
       "\\begin{tabular}{lllll}\n",
       " Variables & Confianza & lim\\_inf & pred & lim\\_sup\\\\\n",
       " <fct> & <fct> & <dbl> & <dbl> & <dbl>\\\\\n",
       "\\hline\n",
       "\t GNP & 90\\% & -0.9393841 & -0.100670 & 0.738044\\\\\n",
       "\t M2  & 90\\% &  0.7419004 &  1.235356 & 1.728813\\\\\n",
       "\t IR  & 90\\% &  0.4202060 &  1.900574 & 3.380943\\\\\n",
       "\\end{tabular}\n"
      ],
      "text/markdown": [
       "\n",
       "A data.frame: 3 × 5\n",
       "\n",
       "| Variables &lt;fct&gt; | Confianza &lt;fct&gt; | lim_inf &lt;dbl&gt; | pred &lt;dbl&gt; | lim_sup &lt;dbl&gt; |\n",
       "|---|---|---|---|---|\n",
       "| GNP | 90% | -0.9393841 | -0.100670 | 0.738044 |\n",
       "| M2  | 90% |  0.7419004 |  1.235356 | 1.728813 |\n",
       "| IR  | 90% |  0.4202060 |  1.900574 | 3.380943 |\n",
       "\n"
      ],
      "text/plain": [
       "  Variables Confianza lim_inf    pred      lim_sup \n",
       "1 GNP       90%       -0.9393841 -0.100670 0.738044\n",
       "2 M2        90%        0.7419004  1.235356 1.728813\n",
       "3 IR        90%        0.4202060  1.900574 3.380943"
      ]
     },
     "metadata": {},
     "output_type": "display_data"
    }
   ],
   "source": [
    "IC90_2002=data.frame(Variables=c('GNP','M2','IR'),Confianza='90%',lim_inf=Y_2002-Z90*c((diag(sigma))^(1/2)),pred=Y_2002,lim_sup=Y_2002+Z90*c((diag(sigma))^(1/2)))\n",
    "IC90_2002"
   ]
  },
  {
   "cell_type": "code",
   "execution_count": 91,
   "metadata": {},
   "outputs": [
    {
     "data": {
      "text/html": [
       "<table>\n",
       "<caption>A data.frame: 3 × 5</caption>\n",
       "<thead>\n",
       "\t<tr><th scope=col>Variables</th><th scope=col>Confianza</th><th scope=col>lim_inf</th><th scope=col>pred</th><th scope=col>lim_sup</th></tr>\n",
       "\t<tr><th scope=col>&lt;fct&gt;</th><th scope=col>&lt;fct&gt;</th><th scope=col>&lt;dbl&gt;</th><th scope=col>&lt;dbl&gt;</th><th scope=col>&lt;dbl&gt;</th></tr>\n",
       "</thead>\n",
       "<tbody>\n",
       "\t<tr><td>GNP</td><td>90%</td><td>-0.9030669</td><td>-0.06435286</td><td>0.7743612</td></tr>\n",
       "\t<tr><td>M2 </td><td>90%</td><td> 0.9381157</td><td> 1.43157181</td><td>1.9250279</td></tr>\n",
       "\t<tr><td>IR </td><td>90%</td><td> 0.9707803</td><td> 2.45114861</td><td>3.9315169</td></tr>\n",
       "</tbody>\n",
       "</table>\n"
      ],
      "text/latex": [
       "A data.frame: 3 × 5\n",
       "\\begin{tabular}{lllll}\n",
       " Variables & Confianza & lim\\_inf & pred & lim\\_sup\\\\\n",
       " <fct> & <fct> & <dbl> & <dbl> & <dbl>\\\\\n",
       "\\hline\n",
       "\t GNP & 90\\% & -0.9030669 & -0.06435286 & 0.7743612\\\\\n",
       "\t M2  & 90\\% &  0.9381157 &  1.43157181 & 1.9250279\\\\\n",
       "\t IR  & 90\\% &  0.9707803 &  2.45114861 & 3.9315169\\\\\n",
       "\\end{tabular}\n"
      ],
      "text/markdown": [
       "\n",
       "A data.frame: 3 × 5\n",
       "\n",
       "| Variables &lt;fct&gt; | Confianza &lt;fct&gt; | lim_inf &lt;dbl&gt; | pred &lt;dbl&gt; | lim_sup &lt;dbl&gt; |\n",
       "|---|---|---|---|---|\n",
       "| GNP | 90% | -0.9030669 | -0.06435286 | 0.7743612 |\n",
       "| M2  | 90% |  0.9381157 |  1.43157181 | 1.9250279 |\n",
       "| IR  | 90% |  0.9707803 |  2.45114861 | 3.9315169 |\n",
       "\n"
      ],
      "text/plain": [
       "  Variables Confianza lim_inf    pred        lim_sup  \n",
       "1 GNP       90%       -0.9030669 -0.06435286 0.7743612\n",
       "2 M2        90%        0.9381157  1.43157181 1.9250279\n",
       "3 IR        90%        0.9707803  2.45114861 3.9315169"
      ]
     },
     "metadata": {},
     "output_type": "display_data"
    }
   ],
   "source": [
    "IC90_2003=data.frame(Variables=c('GNP','M2','IR'),Confianza='90%',lim_inf=Y_2003-Z90*c((diag(sigma))^(1/2)),pred=Y_2003,lim_sup=Y_2003+Z90*c((diag(sigma))^(1/2)))\n",
    "IC90_2003"
   ]
  },
  {
   "cell_type": "markdown",
   "metadata": {},
   "source": [
    "### Intervalos de confianza del 95% para predicciones"
   ]
  },
  {
   "cell_type": "code",
   "execution_count": 93,
   "metadata": {},
   "outputs": [
    {
     "data": {
      "text/html": [
       "<table>\n",
       "<caption>A data.frame: 3 × 5</caption>\n",
       "<thead>\n",
       "\t<tr><th scope=col>Variables</th><th scope=col>Confianza</th><th scope=col>lim_inf</th><th scope=col>pred</th><th scope=col>lim_sup</th></tr>\n",
       "\t<tr><th scope=col>&lt;fct&gt;</th><th scope=col>&lt;fct&gt;</th><th scope=col>&lt;dbl&gt;</th><th scope=col>&lt;dbl&gt;</th><th scope=col>&lt;dbl&gt;</th></tr>\n",
       "</thead>\n",
       "<tbody>\n",
       "\t<tr><td>GNP</td><td>95%</td><td>-0.9415440</td><td>0.05784549</td><td>1.057235</td></tr>\n",
       "\t<tr><td>M2 </td><td>95%</td><td> 0.6863357</td><td>1.27432494</td><td>1.862314</td></tr>\n",
       "\t<tr><td>IR </td><td>95%</td><td>-0.3341670</td><td>1.42980061</td><td>3.193768</td></tr>\n",
       "</tbody>\n",
       "</table>\n"
      ],
      "text/latex": [
       "A data.frame: 3 × 5\n",
       "\\begin{tabular}{lllll}\n",
       " Variables & Confianza & lim\\_inf & pred & lim\\_sup\\\\\n",
       " <fct> & <fct> & <dbl> & <dbl> & <dbl>\\\\\n",
       "\\hline\n",
       "\t GNP & 95\\% & -0.9415440 & 0.05784549 & 1.057235\\\\\n",
       "\t M2  & 95\\% &  0.6863357 & 1.27432494 & 1.862314\\\\\n",
       "\t IR  & 95\\% & -0.3341670 & 1.42980061 & 3.193768\\\\\n",
       "\\end{tabular}\n"
      ],
      "text/markdown": [
       "\n",
       "A data.frame: 3 × 5\n",
       "\n",
       "| Variables &lt;fct&gt; | Confianza &lt;fct&gt; | lim_inf &lt;dbl&gt; | pred &lt;dbl&gt; | lim_sup &lt;dbl&gt; |\n",
       "|---|---|---|---|---|\n",
       "| GNP | 95% | -0.9415440 | 0.05784549 | 1.057235 |\n",
       "| M2  | 95% |  0.6863357 | 1.27432494 | 1.862314 |\n",
       "| IR  | 95% | -0.3341670 | 1.42980061 | 3.193768 |\n",
       "\n"
      ],
      "text/plain": [
       "  Variables Confianza lim_inf    pred       lim_sup \n",
       "1 GNP       95%       -0.9415440 0.05784549 1.057235\n",
       "2 M2        95%        0.6863357 1.27432494 1.862314\n",
       "3 IR        95%       -0.3341670 1.42980061 3.193768"
      ]
     },
     "metadata": {},
     "output_type": "display_data"
    }
   ],
   "source": [
    "IC95_2001=data.frame(Variables=c('GNP','M2','IR'),Confianza='95%',lim_inf=Y_2001-Z95*c((diag(sigma))^(1/2)),pred=Y_2001,lim_sup=Y_2001+Z95*c((diag(sigma))^(1/2)))\n",
    "IC95_2001"
   ]
  },
  {
   "cell_type": "code",
   "execution_count": 95,
   "metadata": {},
   "outputs": [
    {
     "data": {
      "text/html": [
       "<table>\n",
       "<caption>A data.frame: 3 × 5</caption>\n",
       "<thead>\n",
       "\t<tr><th scope=col>Variables</th><th scope=col>Confianza</th><th scope=col>lim_inf</th><th scope=col>pred</th><th scope=col>lim_sup</th></tr>\n",
       "\t<tr><th scope=col>&lt;fct&gt;</th><th scope=col>&lt;fct&gt;</th><th scope=col>&lt;dbl&gt;</th><th scope=col>&lt;dbl&gt;</th><th scope=col>&lt;dbl&gt;</th></tr>\n",
       "</thead>\n",
       "<tbody>\n",
       "\t<tr><td>GNP</td><td>95%</td><td>-1.1000595</td><td>-0.100670</td><td>0.8987194</td></tr>\n",
       "\t<tr><td>M2 </td><td>95%</td><td> 0.6473673</td><td> 1.235356</td><td>1.8233457</td></tr>\n",
       "\t<tr><td>IR </td><td>95%</td><td> 0.1366067</td><td> 1.900574</td><td>3.6645418</td></tr>\n",
       "</tbody>\n",
       "</table>\n"
      ],
      "text/latex": [
       "A data.frame: 3 × 5\n",
       "\\begin{tabular}{lllll}\n",
       " Variables & Confianza & lim\\_inf & pred & lim\\_sup\\\\\n",
       " <fct> & <fct> & <dbl> & <dbl> & <dbl>\\\\\n",
       "\\hline\n",
       "\t GNP & 95\\% & -1.1000595 & -0.100670 & 0.8987194\\\\\n",
       "\t M2  & 95\\% &  0.6473673 &  1.235356 & 1.8233457\\\\\n",
       "\t IR  & 95\\% &  0.1366067 &  1.900574 & 3.6645418\\\\\n",
       "\\end{tabular}\n"
      ],
      "text/markdown": [
       "\n",
       "A data.frame: 3 × 5\n",
       "\n",
       "| Variables &lt;fct&gt; | Confianza &lt;fct&gt; | lim_inf &lt;dbl&gt; | pred &lt;dbl&gt; | lim_sup &lt;dbl&gt; |\n",
       "|---|---|---|---|---|\n",
       "| GNP | 95% | -1.1000595 | -0.100670 | 0.8987194 |\n",
       "| M2  | 95% |  0.6473673 |  1.235356 | 1.8233457 |\n",
       "| IR  | 95% |  0.1366067 |  1.900574 | 3.6645418 |\n",
       "\n"
      ],
      "text/plain": [
       "  Variables Confianza lim_inf    pred      lim_sup  \n",
       "1 GNP       95%       -1.1000595 -0.100670 0.8987194\n",
       "2 M2        95%        0.6473673  1.235356 1.8233457\n",
       "3 IR        95%        0.1366067  1.900574 3.6645418"
      ]
     },
     "metadata": {},
     "output_type": "display_data"
    }
   ],
   "source": [
    "IC95_2002=data.frame(Variables=c('GNP','M2','IR'),Confianza='95%',lim_inf=Y_2002-Z95*c((diag(sigma))^(1/2)),pred=Y_2002,lim_sup=Y_2002+Z95*c((diag(sigma))^(1/2)))\n",
    "IC95_2002"
   ]
  },
  {
   "cell_type": "code",
   "execution_count": 102,
   "metadata": {},
   "outputs": [
    {
     "data": {
      "text/html": [
       "<table>\n",
       "<caption>A data.frame: 3 × 5</caption>\n",
       "<thead>\n",
       "\t<tr><th scope=col>Variables</th><th scope=col>Confianza</th><th scope=col>lim_inf</th><th scope=col>pred</th><th scope=col>lim_sup</th></tr>\n",
       "\t<tr><th scope=col>&lt;fct&gt;</th><th scope=col>&lt;fct&gt;</th><th scope=col>&lt;dbl&gt;</th><th scope=col>&lt;dbl&gt;</th><th scope=col>&lt;dbl&gt;</th></tr>\n",
       "</thead>\n",
       "<tbody>\n",
       "\t<tr><td>GNP</td><td>95%</td><td>-1.0637423</td><td>-0.06435286</td><td>0.9350366</td></tr>\n",
       "\t<tr><td>M2 </td><td>95%</td><td> 0.8435826</td><td> 1.43157181</td><td>2.0195610</td></tr>\n",
       "\t<tr><td>IR </td><td>95%</td><td> 0.6871810</td><td> 2.45114861</td><td>4.2151162</td></tr>\n",
       "</tbody>\n",
       "</table>\n"
      ],
      "text/latex": [
       "A data.frame: 3 × 5\n",
       "\\begin{tabular}{lllll}\n",
       " Variables & Confianza & lim\\_inf & pred & lim\\_sup\\\\\n",
       " <fct> & <fct> & <dbl> & <dbl> & <dbl>\\\\\n",
       "\\hline\n",
       "\t GNP & 95\\% & -1.0637423 & -0.06435286 & 0.9350366\\\\\n",
       "\t M2  & 95\\% &  0.8435826 &  1.43157181 & 2.0195610\\\\\n",
       "\t IR  & 95\\% &  0.6871810 &  2.45114861 & 4.2151162\\\\\n",
       "\\end{tabular}\n"
      ],
      "text/markdown": [
       "\n",
       "A data.frame: 3 × 5\n",
       "\n",
       "| Variables &lt;fct&gt; | Confianza &lt;fct&gt; | lim_inf &lt;dbl&gt; | pred &lt;dbl&gt; | lim_sup &lt;dbl&gt; |\n",
       "|---|---|---|---|---|\n",
       "| GNP | 95% | -1.0637423 | -0.06435286 | 0.9350366 |\n",
       "| M2  | 95% |  0.8435826 |  1.43157181 | 2.0195610 |\n",
       "| IR  | 95% |  0.6871810 |  2.45114861 | 4.2151162 |\n",
       "\n"
      ],
      "text/plain": [
       "  Variables Confianza lim_inf    pred        lim_sup  \n",
       "1 GNP       95%       -1.0637423 -0.06435286 0.9350366\n",
       "2 M2        95%        0.8435826  1.43157181 2.0195610\n",
       "3 IR        95%        0.6871810  2.45114861 4.2151162"
      ]
     },
     "metadata": {},
     "output_type": "display_data"
    }
   ],
   "source": [
    "IC95_2003=data.frame(Variables=c('GNP','M2','IR'),Confianza='95%',lim_inf=Y_2003-Z95*c((diag(sigma))^(1/2)),pred=Y_2003,lim_sup=Y_2003+Z95*c((diag(sigma))^(1/2)))\n",
    "IC95_2003"
   ]
  },
  {
   "cell_type": "markdown",
   "metadata": {},
   "source": [
    "### Intervalos de confianza unidos"
   ]
  },
  {
   "cell_type": "code",
   "execution_count": 99,
   "metadata": {},
   "outputs": [
    {
     "data": {
      "text/html": [
       "<table>\n",
       "<caption>A data.frame: 6 × 5</caption>\n",
       "<thead>\n",
       "\t<tr><th scope=col>Variables</th><th scope=col>Confianza</th><th scope=col>lim_inf</th><th scope=col>pred</th><th scope=col>lim_sup</th></tr>\n",
       "\t<tr><th scope=col>&lt;fct&gt;</th><th scope=col>&lt;fct&gt;</th><th scope=col>&lt;dbl&gt;</th><th scope=col>&lt;dbl&gt;</th><th scope=col>&lt;dbl&gt;</th></tr>\n",
       "</thead>\n",
       "<tbody>\n",
       "\t<tr><td>GNP</td><td>90%</td><td>-0.78086858</td><td>0.05784549</td><td>0.8965596</td></tr>\n",
       "\t<tr><td>M2 </td><td>90%</td><td> 0.78086885</td><td>1.27432494</td><td>1.7677810</td></tr>\n",
       "\t<tr><td>IR </td><td>90%</td><td>-0.05056765</td><td>1.42980061</td><td>2.9101689</td></tr>\n",
       "\t<tr><td>GNP</td><td>95%</td><td>-0.94154397</td><td>0.05784549</td><td>1.0572350</td></tr>\n",
       "\t<tr><td>M2 </td><td>95%</td><td> 0.68633575</td><td>1.27432494</td><td>1.8623141</td></tr>\n",
       "\t<tr><td>IR </td><td>95%</td><td>-0.33416697</td><td>1.42980061</td><td>3.1937682</td></tr>\n",
       "</tbody>\n",
       "</table>\n"
      ],
      "text/latex": [
       "A data.frame: 6 × 5\n",
       "\\begin{tabular}{lllll}\n",
       " Variables & Confianza & lim\\_inf & pred & lim\\_sup\\\\\n",
       " <fct> & <fct> & <dbl> & <dbl> & <dbl>\\\\\n",
       "\\hline\n",
       "\t GNP & 90\\% & -0.78086858 & 0.05784549 & 0.8965596\\\\\n",
       "\t M2  & 90\\% &  0.78086885 & 1.27432494 & 1.7677810\\\\\n",
       "\t IR  & 90\\% & -0.05056765 & 1.42980061 & 2.9101689\\\\\n",
       "\t GNP & 95\\% & -0.94154397 & 0.05784549 & 1.0572350\\\\\n",
       "\t M2  & 95\\% &  0.68633575 & 1.27432494 & 1.8623141\\\\\n",
       "\t IR  & 95\\% & -0.33416697 & 1.42980061 & 3.1937682\\\\\n",
       "\\end{tabular}\n"
      ],
      "text/markdown": [
       "\n",
       "A data.frame: 6 × 5\n",
       "\n",
       "| Variables &lt;fct&gt; | Confianza &lt;fct&gt; | lim_inf &lt;dbl&gt; | pred &lt;dbl&gt; | lim_sup &lt;dbl&gt; |\n",
       "|---|---|---|---|---|\n",
       "| GNP | 90% | -0.78086858 | 0.05784549 | 0.8965596 |\n",
       "| M2  | 90% |  0.78086885 | 1.27432494 | 1.7677810 |\n",
       "| IR  | 90% | -0.05056765 | 1.42980061 | 2.9101689 |\n",
       "| GNP | 95% | -0.94154397 | 0.05784549 | 1.0572350 |\n",
       "| M2  | 95% |  0.68633575 | 1.27432494 | 1.8623141 |\n",
       "| IR  | 95% | -0.33416697 | 1.42980061 | 3.1937682 |\n",
       "\n"
      ],
      "text/plain": [
       "  Variables Confianza lim_inf     pred       lim_sup  \n",
       "1 GNP       90%       -0.78086858 0.05784549 0.8965596\n",
       "2 M2        90%        0.78086885 1.27432494 1.7677810\n",
       "3 IR        90%       -0.05056765 1.42980061 2.9101689\n",
       "4 GNP       95%       -0.94154397 0.05784549 1.0572350\n",
       "5 M2        95%        0.68633575 1.27432494 1.8623141\n",
       "6 IR        95%       -0.33416697 1.42980061 3.1937682"
      ]
     },
     "metadata": {},
     "output_type": "display_data"
    }
   ],
   "source": [
    "IC_2001=rbind(IC90_2001,IC95_2001)\n",
    "IC_2001"
   ]
  },
  {
   "cell_type": "code",
   "execution_count": 100,
   "metadata": {},
   "outputs": [
    {
     "data": {
      "text/html": [
       "<table>\n",
       "<caption>A data.frame: 6 × 5</caption>\n",
       "<thead>\n",
       "\t<tr><th scope=col>Variables</th><th scope=col>Confianza</th><th scope=col>lim_inf</th><th scope=col>pred</th><th scope=col>lim_sup</th></tr>\n",
       "\t<tr><th scope=col>&lt;fct&gt;</th><th scope=col>&lt;fct&gt;</th><th scope=col>&lt;dbl&gt;</th><th scope=col>&lt;dbl&gt;</th><th scope=col>&lt;dbl&gt;</th></tr>\n",
       "</thead>\n",
       "<tbody>\n",
       "\t<tr><td>GNP</td><td>90%</td><td>-0.9393841</td><td>-0.100670</td><td>0.7380440</td></tr>\n",
       "\t<tr><td>M2 </td><td>90%</td><td> 0.7419004</td><td> 1.235356</td><td>1.7288126</td></tr>\n",
       "\t<tr><td>IR </td><td>90%</td><td> 0.4202060</td><td> 1.900574</td><td>3.3809425</td></tr>\n",
       "\t<tr><td>GNP</td><td>95%</td><td>-1.1000595</td><td>-0.100670</td><td>0.8987194</td></tr>\n",
       "\t<tr><td>M2 </td><td>95%</td><td> 0.6473673</td><td> 1.235356</td><td>1.8233457</td></tr>\n",
       "\t<tr><td>IR </td><td>95%</td><td> 0.1366067</td><td> 1.900574</td><td>3.6645418</td></tr>\n",
       "</tbody>\n",
       "</table>\n"
      ],
      "text/latex": [
       "A data.frame: 6 × 5\n",
       "\\begin{tabular}{lllll}\n",
       " Variables & Confianza & lim\\_inf & pred & lim\\_sup\\\\\n",
       " <fct> & <fct> & <dbl> & <dbl> & <dbl>\\\\\n",
       "\\hline\n",
       "\t GNP & 90\\% & -0.9393841 & -0.100670 & 0.7380440\\\\\n",
       "\t M2  & 90\\% &  0.7419004 &  1.235356 & 1.7288126\\\\\n",
       "\t IR  & 90\\% &  0.4202060 &  1.900574 & 3.3809425\\\\\n",
       "\t GNP & 95\\% & -1.1000595 & -0.100670 & 0.8987194\\\\\n",
       "\t M2  & 95\\% &  0.6473673 &  1.235356 & 1.8233457\\\\\n",
       "\t IR  & 95\\% &  0.1366067 &  1.900574 & 3.6645418\\\\\n",
       "\\end{tabular}\n"
      ],
      "text/markdown": [
       "\n",
       "A data.frame: 6 × 5\n",
       "\n",
       "| Variables &lt;fct&gt; | Confianza &lt;fct&gt; | lim_inf &lt;dbl&gt; | pred &lt;dbl&gt; | lim_sup &lt;dbl&gt; |\n",
       "|---|---|---|---|---|\n",
       "| GNP | 90% | -0.9393841 | -0.100670 | 0.7380440 |\n",
       "| M2  | 90% |  0.7419004 |  1.235356 | 1.7288126 |\n",
       "| IR  | 90% |  0.4202060 |  1.900574 | 3.3809425 |\n",
       "| GNP | 95% | -1.1000595 | -0.100670 | 0.8987194 |\n",
       "| M2  | 95% |  0.6473673 |  1.235356 | 1.8233457 |\n",
       "| IR  | 95% |  0.1366067 |  1.900574 | 3.6645418 |\n",
       "\n"
      ],
      "text/plain": [
       "  Variables Confianza lim_inf    pred      lim_sup  \n",
       "1 GNP       90%       -0.9393841 -0.100670 0.7380440\n",
       "2 M2        90%        0.7419004  1.235356 1.7288126\n",
       "3 IR        90%        0.4202060  1.900574 3.3809425\n",
       "4 GNP       95%       -1.1000595 -0.100670 0.8987194\n",
       "5 M2        95%        0.6473673  1.235356 1.8233457\n",
       "6 IR        95%        0.1366067  1.900574 3.6645418"
      ]
     },
     "metadata": {},
     "output_type": "display_data"
    }
   ],
   "source": [
    "IC_2002=rbind(IC90_2002,IC95_2002)\n",
    "IC_2002"
   ]
  },
  {
   "cell_type": "code",
   "execution_count": 101,
   "metadata": {},
   "outputs": [
    {
     "data": {
      "text/html": [
       "<table>\n",
       "<caption>A data.frame: 6 × 5</caption>\n",
       "<thead>\n",
       "\t<tr><th scope=col>Variables</th><th scope=col>Confianza</th><th scope=col>lim_inf</th><th scope=col>pred</th><th scope=col>lim_sup</th></tr>\n",
       "\t<tr><th scope=col>&lt;fct&gt;</th><th scope=col>&lt;fct&gt;</th><th scope=col>&lt;dbl&gt;</th><th scope=col>&lt;dbl&gt;</th><th scope=col>&lt;dbl&gt;</th></tr>\n",
       "</thead>\n",
       "<tbody>\n",
       "\t<tr><td>GNP</td><td>90%</td><td>-0.9030669</td><td>-0.06435286</td><td>0.7743612</td></tr>\n",
       "\t<tr><td>M2 </td><td>90%</td><td> 0.9381157</td><td> 1.43157181</td><td>1.9250279</td></tr>\n",
       "\t<tr><td>IR </td><td>90%</td><td> 0.9707803</td><td> 2.45114861</td><td>3.9315169</td></tr>\n",
       "\t<tr><td>GNP</td><td>95%</td><td>-1.0637423</td><td>-0.06435286</td><td>0.9350366</td></tr>\n",
       "\t<tr><td>M2 </td><td>95%</td><td> 0.8435826</td><td> 1.43157181</td><td>2.0195610</td></tr>\n",
       "\t<tr><td>IR </td><td>95%</td><td> 0.6871810</td><td> 2.45114861</td><td>4.2151162</td></tr>\n",
       "</tbody>\n",
       "</table>\n"
      ],
      "text/latex": [
       "A data.frame: 6 × 5\n",
       "\\begin{tabular}{lllll}\n",
       " Variables & Confianza & lim\\_inf & pred & lim\\_sup\\\\\n",
       " <fct> & <fct> & <dbl> & <dbl> & <dbl>\\\\\n",
       "\\hline\n",
       "\t GNP & 90\\% & -0.9030669 & -0.06435286 & 0.7743612\\\\\n",
       "\t M2  & 90\\% &  0.9381157 &  1.43157181 & 1.9250279\\\\\n",
       "\t IR  & 90\\% &  0.9707803 &  2.45114861 & 3.9315169\\\\\n",
       "\t GNP & 95\\% & -1.0637423 & -0.06435286 & 0.9350366\\\\\n",
       "\t M2  & 95\\% &  0.8435826 &  1.43157181 & 2.0195610\\\\\n",
       "\t IR  & 95\\% &  0.6871810 &  2.45114861 & 4.2151162\\\\\n",
       "\\end{tabular}\n"
      ],
      "text/markdown": [
       "\n",
       "A data.frame: 6 × 5\n",
       "\n",
       "| Variables &lt;fct&gt; | Confianza &lt;fct&gt; | lim_inf &lt;dbl&gt; | pred &lt;dbl&gt; | lim_sup &lt;dbl&gt; |\n",
       "|---|---|---|---|---|\n",
       "| GNP | 90% | -0.9030669 | -0.06435286 | 0.7743612 |\n",
       "| M2  | 90% |  0.9381157 |  1.43157181 | 1.9250279 |\n",
       "| IR  | 90% |  0.9707803 |  2.45114861 | 3.9315169 |\n",
       "| GNP | 95% | -1.0637423 | -0.06435286 | 0.9350366 |\n",
       "| M2  | 95% |  0.8435826 |  1.43157181 | 2.0195610 |\n",
       "| IR  | 95% |  0.6871810 |  2.45114861 | 4.2151162 |\n",
       "\n"
      ],
      "text/plain": [
       "  Variables Confianza lim_inf    pred        lim_sup  \n",
       "1 GNP       90%       -0.9030669 -0.06435286 0.7743612\n",
       "2 M2        90%        0.9381157  1.43157181 1.9250279\n",
       "3 IR        90%        0.9707803  2.45114861 3.9315169\n",
       "4 GNP       95%       -1.0637423 -0.06435286 0.9350366\n",
       "5 M2        95%        0.8435826  1.43157181 2.0195610\n",
       "6 IR        95%        0.6871810  2.45114861 4.2151162"
      ]
     },
     "metadata": {},
     "output_type": "display_data"
    }
   ],
   "source": [
    "IC_2003=rbind(IC90_2003,IC95_2003)\n",
    "IC_2003"
   ]
  },
  {
   "cell_type": "markdown",
   "metadata": {},
   "source": [
    "### Item d"
   ]
  },
  {
   "cell_type": "markdown",
   "metadata": {},
   "source": [
    "Para esto creemos los intervalos de confianza del 99%"
   ]
  },
  {
   "cell_type": "code",
   "execution_count": 113,
   "metadata": {},
   "outputs": [
    {
     "data": {
      "text/html": [
       "<table>\n",
       "<caption>A data.frame: 3 × 3</caption>\n",
       "<thead>\n",
       "\t<tr><th scope=col>Variable</th><th scope=col>lim_inf</th><th scope=col>lim_sup</th></tr>\n",
       "\t<tr><th scope=col>&lt;fct&gt;</th><th scope=col>&lt;dbl&gt;</th><th scope=col>&lt;dbl&gt;</th></tr>\n",
       "</thead>\n",
       "<tbody>\n",
       "\t<tr><td>GNP_2001</td><td>-1.255575</td><td>1.371266</td></tr>\n",
       "\t<tr><td>GNP_2002</td><td>-1.414090</td><td>1.212750</td></tr>\n",
       "\t<tr><td>GNP_2003</td><td>-1.377773</td><td>1.249068</td></tr>\n",
       "</tbody>\n",
       "</table>\n"
      ],
      "text/latex": [
       "A data.frame: 3 × 3\n",
       "\\begin{tabular}{lll}\n",
       " Variable & lim\\_inf & lim\\_sup\\\\\n",
       " <fct> & <dbl> & <dbl>\\\\\n",
       "\\hline\n",
       "\t GNP\\_2001 & -1.255575 & 1.371266\\\\\n",
       "\t GNP\\_2002 & -1.414090 & 1.212750\\\\\n",
       "\t GNP\\_2003 & -1.377773 & 1.249068\\\\\n",
       "\\end{tabular}\n"
      ],
      "text/markdown": [
       "\n",
       "A data.frame: 3 × 3\n",
       "\n",
       "| Variable &lt;fct&gt; | lim_inf &lt;dbl&gt; | lim_sup &lt;dbl&gt; |\n",
       "|---|---|---|\n",
       "| GNP_2001 | -1.255575 | 1.371266 |\n",
       "| GNP_2002 | -1.414090 | 1.212750 |\n",
       "| GNP_2003 | -1.377773 | 1.249068 |\n",
       "\n"
      ],
      "text/plain": [
       "  Variable lim_inf   lim_sup \n",
       "1 GNP_2001 -1.255575 1.371266\n",
       "2 GNP_2002 -1.414090 1.212750\n",
       "3 GNP_2003 -1.377773 1.249068"
      ]
     },
     "metadata": {},
     "output_type": "display_data"
    }
   ],
   "source": [
    "Z99=qnorm(0.995)\n",
    "GNP_2001=data.frame(Variable='GNP_2001',lim_inf=Y_2001[1]-Z99*c((diag(sigma))^(1/2))[1],lim_sup=Y_2001[1]+Z99*c((diag(sigma))^(1/2))[1])\n",
    "GNP_2002=data.frame(Variable='GNP_2002',lim_inf=Y_2002[1]-Z99*c((diag(sigma))^(1/2))[1],lim_sup=Y_2002[1]+Z99*c((diag(sigma))^(1/2))[1])\n",
    "GNP_2003=data.frame(Variable='GNP_2003',lim_inf=Y_2003[1]-Z99*c((diag(sigma))^(1/2))[1],lim_sup=Y_2003[1]+Z99*c((diag(sigma))^(1/2))[1])\n",
    "IC_GNP_99=rbind(GNP_2001,GNP_2002,GNP_2003)\n",
    "IC_GNP_99"
   ]
  },
  {
   "cell_type": "code",
   "execution_count": null,
   "metadata": {},
   "outputs": [],
   "source": []
  }
 ],
 "metadata": {
  "kernelspec": {
   "display_name": "R",
   "language": "R",
   "name": "ir"
  },
  "language_info": {
   "codemirror_mode": "r",
   "file_extension": ".r",
   "mimetype": "text/x-r-source",
   "name": "R",
   "pygments_lexer": "r",
   "version": "3.5.2"
  }
 },
 "nbformat": 4,
 "nbformat_minor": 4
}
