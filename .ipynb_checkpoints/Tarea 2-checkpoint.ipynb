{
 "cells": [
  {
   "cell_type": "markdown",
   "metadata": {},
   "source": [
    "# Tarea 2"
   ]
  },
  {
   "cell_type": "markdown",
   "metadata": {},
   "source": [
    "## Problema 1"
   ]
  },
  {
   "cell_type": "markdown",
   "metadata": {},
   "source": [
    "### Calculos de Gamma(h)"
   ]
  },
  {
   "cell_type": "code",
   "execution_count": 1,
   "metadata": {},
   "outputs": [],
   "source": [
    "library(Biodem) #Librería utilizada para elevar a una potencia una matriz usando el comando mtx.exp(MATRIZ,EXPONENTE)\n",
    "library(MASS) # Libreria para normal multivariada\n",
    "library(ggplot2) #libreria para graficar\n",
    "library(RColorBrewer) #Libreria de colores"
   ]
  },
  {
   "cell_type": "code",
   "execution_count": 2,
   "metadata": {},
   "outputs": [
    {
     "data": {
      "text/html": [
       "<table>\n",
       "<caption>A matrix: 3 × 3 of type dbl</caption>\n",
       "<tbody>\n",
       "\t<tr><td>0.5644039</td><td>0.1769069</td><td>1.051951</td></tr>\n",
       "\t<tr><td>0.1769069</td><td>0.3079040</td><td>1.142028</td></tr>\n",
       "\t<tr><td>1.0519508</td><td>1.1420280</td><td>7.727712</td></tr>\n",
       "</tbody>\n",
       "</table>\n"
      ],
      "text/latex": [
       "A matrix: 3 × 3 of type dbl\n",
       "\\begin{tabular}{lll}\n",
       "\t 0.5644039 & 0.1769069 & 1.051951\\\\\n",
       "\t 0.1769069 & 0.3079040 & 1.142028\\\\\n",
       "\t 1.0519508 & 1.1420280 & 7.727712\\\\\n",
       "\\end{tabular}\n"
      ],
      "text/markdown": [
       "\n",
       "A matrix: 3 × 3 of type dbl\n",
       "\n",
       "| 0.5644039 | 0.1769069 | 1.051951 |\n",
       "| 0.1769069 | 0.3079040 | 1.142028 |\n",
       "| 1.0519508 | 1.1420280 | 7.727712 |\n",
       "\n"
      ],
      "text/plain": [
       "     [,1]      [,2]      [,3]    \n",
       "[1,] 0.5644039 0.1769069 1.051951\n",
       "[2,] 0.1769069 0.3079040 1.142028\n",
       "[3,] 1.0519508 1.1420280 7.727712"
      ]
     },
     "metadata": {},
     "output_type": "display_data"
    }
   ],
   "source": [
    "I<- diag(9) #matriz diagonal\n",
    "A_1<-matrix(c(0.7,0,0.9,0.1,0.4,0,0,0.1,0.8), ncol = 3) #Matriz A_1\n",
    "AxA<-kronecker(A_1,A_1) #Producto Kronecker\n",
    "v_sigma<-c(0.26,0.03,0,0.03,0.09,0,0,0,0.81) #Vectorización de la matriz de covarianzas\n",
    "sigma<-matrix(v_sigma,ncol=3)\n",
    "inv<-solve(I-AxA)#Inversa de identidad-Kronecker A por A\n",
    "gamma_0=matrix(inv%*%v_sigma,ncol=3) #Gamma(0)\n",
    "gamma_0"
   ]
  },
  {
   "cell_type": "code",
   "execution_count": 3,
   "metadata": {},
   "outputs": [
    {
     "data": {
      "text/html": [
       "<table>\n",
       "<caption>A matrix: 3 × 3 of type dbl</caption>\n",
       "<tbody>\n",
       "\t<tr><td>0.4127735</td><td>0.1546253</td><td>0.8505684</td></tr>\n",
       "\t<tr><td>0.1759579</td><td>0.2373644</td><td>1.2295824</td></tr>\n",
       "\t<tr><td>1.3495242</td><td>1.0728386</td><td>7.1289253</td></tr>\n",
       "</tbody>\n",
       "</table>\n"
      ],
      "text/latex": [
       "A matrix: 3 × 3 of type dbl\n",
       "\\begin{tabular}{lll}\n",
       "\t 0.4127735 & 0.1546253 & 0.8505684\\\\\n",
       "\t 0.1759579 & 0.2373644 & 1.2295824\\\\\n",
       "\t 1.3495242 & 1.0728386 & 7.1289253\\\\\n",
       "\\end{tabular}\n"
      ],
      "text/markdown": [
       "\n",
       "A matrix: 3 × 3 of type dbl\n",
       "\n",
       "| 0.4127735 | 0.1546253 | 0.8505684 |\n",
       "| 0.1759579 | 0.2373644 | 1.2295824 |\n",
       "| 1.3495242 | 1.0728386 | 7.1289253 |\n",
       "\n"
      ],
      "text/plain": [
       "     [,1]      [,2]      [,3]     \n",
       "[1,] 0.4127735 0.1546253 0.8505684\n",
       "[2,] 0.1759579 0.2373644 1.2295824\n",
       "[3,] 1.3495242 1.0728386 7.1289253"
      ]
     },
     "metadata": {},
     "output_type": "display_data"
    }
   ],
   "source": [
    "gamma_1=A_1%*%gamma_0\n",
    "gamma_1"
   ]
  },
  {
   "cell_type": "code",
   "execution_count": 4,
   "metadata": {},
   "outputs": [
    {
     "data": {
      "text/html": [
       "<table>\n",
       "<caption>A matrix: 3 × 3 of type dbl</caption>\n",
       "<tbody>\n",
       "\t<tr><td>0.3065372</td><td>0.1319741</td><td>0.7183561</td></tr>\n",
       "\t<tr><td>0.2053356</td><td>0.2022296</td><td>1.2047255</td></tr>\n",
       "\t<tr><td>1.4511155</td><td>0.9974336</td><td>6.4686518</td></tr>\n",
       "</tbody>\n",
       "</table>\n"
      ],
      "text/latex": [
       "A matrix: 3 × 3 of type dbl\n",
       "\\begin{tabular}{lll}\n",
       "\t 0.3065372 & 0.1319741 & 0.7183561\\\\\n",
       "\t 0.2053356 & 0.2022296 & 1.2047255\\\\\n",
       "\t 1.4511155 & 0.9974336 & 6.4686518\\\\\n",
       "\\end{tabular}\n"
      ],
      "text/markdown": [
       "\n",
       "A matrix: 3 × 3 of type dbl\n",
       "\n",
       "| 0.3065372 | 0.1319741 | 0.7183561 |\n",
       "| 0.2053356 | 0.2022296 | 1.2047255 |\n",
       "| 1.4511155 | 0.9974336 | 6.4686518 |\n",
       "\n"
      ],
      "text/plain": [
       "     [,1]      [,2]      [,3]     \n",
       "[1,] 0.3065372 0.1319741 0.7183561\n",
       "[2,] 0.2053356 0.2022296 1.2047255\n",
       "[3,] 1.4511155 0.9974336 6.4686518"
      ]
     },
     "metadata": {},
     "output_type": "display_data"
    }
   ],
   "source": [
    "gamma_2=A_1%*%gamma_1\n",
    "gamma_2"
   ]
  },
  {
   "cell_type": "code",
   "execution_count": 5,
   "metadata": {},
   "outputs": [
    {
     "data": {
      "text/html": [
       "<table>\n",
       "<caption>A matrix: 3 × 3 of type dbl</caption>\n",
       "<tbody>\n",
       "\t<tr><td>0.2351096</td><td>0.1126048</td><td>0.6233218</td></tr>\n",
       "\t<tr><td>0.2272458</td><td>0.1806352</td><td>1.1287554</td></tr>\n",
       "\t<tr><td>1.4367758</td><td>0.9167236</td><td>5.8214419</td></tr>\n",
       "</tbody>\n",
       "</table>\n"
      ],
      "text/latex": [
       "A matrix: 3 × 3 of type dbl\n",
       "\\begin{tabular}{lll}\n",
       "\t 0.2351096 & 0.1126048 & 0.6233218\\\\\n",
       "\t 0.2272458 & 0.1806352 & 1.1287554\\\\\n",
       "\t 1.4367758 & 0.9167236 & 5.8214419\\\\\n",
       "\\end{tabular}\n"
      ],
      "text/markdown": [
       "\n",
       "A matrix: 3 × 3 of type dbl\n",
       "\n",
       "| 0.2351096 | 0.1126048 | 0.6233218 |\n",
       "| 0.2272458 | 0.1806352 | 1.1287554 |\n",
       "| 1.4367758 | 0.9167236 | 5.8214419 |\n",
       "\n"
      ],
      "text/plain": [
       "     [,1]      [,2]      [,3]     \n",
       "[1,] 0.2351096 0.1126048 0.6233218\n",
       "[2,] 0.2272458 0.1806352 1.1287554\n",
       "[3,] 1.4367758 0.9167236 5.8214419"
      ]
     },
     "metadata": {},
     "output_type": "display_data"
    }
   ],
   "source": [
    "gamma_3=A_1%*%gamma_2\n",
    "gamma_3"
   ]
  },
  {
   "cell_type": "code",
   "execution_count": 6,
   "metadata": {},
   "outputs": [
    {
     "data": {
      "text/html": [
       "<table>\n",
       "<caption>A matrix: 3 × 3 of type dbl</caption>\n",
       "<tbody>\n",
       "\t<tr><td>1.331083</td><td>0.000000</td><td>0.0000000</td></tr>\n",
       "\t<tr><td>0.000000</td><td>1.802156</td><td>0.0000000</td></tr>\n",
       "\t<tr><td>0.000000</td><td>0.000000</td><td>0.3597282</td></tr>\n",
       "</tbody>\n",
       "</table>\n"
      ],
      "text/latex": [
       "A matrix: 3 × 3 of type dbl\n",
       "\\begin{tabular}{lll}\n",
       "\t 1.331083 & 0.000000 & 0.0000000\\\\\n",
       "\t 0.000000 & 1.802156 & 0.0000000\\\\\n",
       "\t 0.000000 & 0.000000 & 0.3597282\\\\\n",
       "\\end{tabular}\n"
      ],
      "text/markdown": [
       "\n",
       "A matrix: 3 × 3 of type dbl\n",
       "\n",
       "| 1.331083 | 0.000000 | 0.0000000 |\n",
       "| 0.000000 | 1.802156 | 0.0000000 |\n",
       "| 0.000000 | 0.000000 | 0.3597282 |\n",
       "\n"
      ],
      "text/plain": [
       "     [,1]     [,2]     [,3]     \n",
       "[1,] 1.331083 0.000000 0.0000000\n",
       "[2,] 0.000000 1.802156 0.0000000\n",
       "[3,] 0.000000 0.000000 0.3597282"
      ]
     },
     "metadata": {},
     "output_type": "display_data"
    }
   ],
   "source": [
    "D_1<-diag(1/((diag(gamma_0))^(1/2)))\n",
    "D_1"
   ]
  },
  {
   "cell_type": "markdown",
   "metadata": {},
   "source": [
    "### Calculos de R(h)"
   ]
  },
  {
   "cell_type": "code",
   "execution_count": 7,
   "metadata": {},
   "outputs": [
    {
     "data": {
      "text/html": [
       "<table>\n",
       "<caption>A matrix: 3 × 3 of type dbl</caption>\n",
       "<tbody>\n",
       "\t<tr><td>1.0000000</td><td>0.4243676</td><td>0.5037035</td></tr>\n",
       "\t<tr><td>0.4243676</td><td>1.0000000</td><td>0.7403611</td></tr>\n",
       "\t<tr><td>0.5037035</td><td>0.7403611</td><td>1.0000000</td></tr>\n",
       "</tbody>\n",
       "</table>\n"
      ],
      "text/latex": [
       "A matrix: 3 × 3 of type dbl\n",
       "\\begin{tabular}{lll}\n",
       "\t 1.0000000 & 0.4243676 & 0.5037035\\\\\n",
       "\t 0.4243676 & 1.0000000 & 0.7403611\\\\\n",
       "\t 0.5037035 & 0.7403611 & 1.0000000\\\\\n",
       "\\end{tabular}\n"
      ],
      "text/markdown": [
       "\n",
       "A matrix: 3 × 3 of type dbl\n",
       "\n",
       "| 1.0000000 | 0.4243676 | 0.5037035 |\n",
       "| 0.4243676 | 1.0000000 | 0.7403611 |\n",
       "| 0.5037035 | 0.7403611 | 1.0000000 |\n",
       "\n"
      ],
      "text/plain": [
       "     [,1]      [,2]      [,3]     \n",
       "[1,] 1.0000000 0.4243676 0.5037035\n",
       "[2,] 0.4243676 1.0000000 0.7403611\n",
       "[3,] 0.5037035 0.7403611 1.0000000"
      ]
     },
     "metadata": {},
     "output_type": "display_data"
    }
   ],
   "source": [
    "R_0=D_1%*%gamma_0%*%D_1\n",
    "R_0"
   ]
  },
  {
   "cell_type": "code",
   "execution_count": 8,
   "metadata": {},
   "outputs": [
    {
     "data": {
      "text/html": [
       "<table>\n",
       "<caption>A matrix: 3 × 3 of type dbl</caption>\n",
       "<tbody>\n",
       "\t<tr><td>0.7313440</td><td>0.3709179</td><td>0.4072759</td></tr>\n",
       "\t<tr><td>0.4220909</td><td>0.7709039</td><td>0.7971215</td></tr>\n",
       "\t<tr><td>0.6461899</td><td>0.6955066</td><td>0.9225144</td></tr>\n",
       "</tbody>\n",
       "</table>\n"
      ],
      "text/latex": [
       "A matrix: 3 × 3 of type dbl\n",
       "\\begin{tabular}{lll}\n",
       "\t 0.7313440 & 0.3709179 & 0.4072759\\\\\n",
       "\t 0.4220909 & 0.7709039 & 0.7971215\\\\\n",
       "\t 0.6461899 & 0.6955066 & 0.9225144\\\\\n",
       "\\end{tabular}\n"
      ],
      "text/markdown": [
       "\n",
       "A matrix: 3 × 3 of type dbl\n",
       "\n",
       "| 0.7313440 | 0.3709179 | 0.4072759 |\n",
       "| 0.4220909 | 0.7709039 | 0.7971215 |\n",
       "| 0.6461899 | 0.6955066 | 0.9225144 |\n",
       "\n"
      ],
      "text/plain": [
       "     [,1]      [,2]      [,3]     \n",
       "[1,] 0.7313440 0.3709179 0.4072759\n",
       "[2,] 0.4220909 0.7709039 0.7971215\n",
       "[3,] 0.6461899 0.6955066 0.9225144"
      ]
     },
     "metadata": {},
     "output_type": "display_data"
    }
   ],
   "source": [
    "R_1=D_1%*%gamma_1%*%D_1\n",
    "R_1"
   ]
  },
  {
   "cell_type": "code",
   "execution_count": 9,
   "metadata": {},
   "outputs": [
    {
     "data": {
      "text/html": [
       "<table>\n",
       "<caption>A matrix: 3 × 3 of type dbl</caption>\n",
       "<tbody>\n",
       "\t<tr><td>0.5431167</td><td>0.3165819</td><td>0.3439690</td></tr>\n",
       "\t<tr><td>0.4925627</td><td>0.6567944</td><td>0.7810071</td></tr>\n",
       "\t<tr><td>0.6948347</td><td>0.6466226</td><td>0.8370721</td></tr>\n",
       "</tbody>\n",
       "</table>\n"
      ],
      "text/latex": [
       "A matrix: 3 × 3 of type dbl\n",
       "\\begin{tabular}{lll}\n",
       "\t 0.5431167 & 0.3165819 & 0.3439690\\\\\n",
       "\t 0.4925627 & 0.6567944 & 0.7810071\\\\\n",
       "\t 0.6948347 & 0.6466226 & 0.8370721\\\\\n",
       "\\end{tabular}\n"
      ],
      "text/markdown": [
       "\n",
       "A matrix: 3 × 3 of type dbl\n",
       "\n",
       "| 0.5431167 | 0.3165819 | 0.3439690 |\n",
       "| 0.4925627 | 0.6567944 | 0.7810071 |\n",
       "| 0.6948347 | 0.6466226 | 0.8370721 |\n",
       "\n"
      ],
      "text/plain": [
       "     [,1]      [,2]      [,3]     \n",
       "[1,] 0.5431167 0.3165819 0.3439690\n",
       "[2,] 0.4925627 0.6567944 0.7810071\n",
       "[3,] 0.6948347 0.6466226 0.8370721"
      ]
     },
     "metadata": {},
     "output_type": "display_data"
    }
   ],
   "source": [
    "R_2=D_1%*%gamma_2%*%D_1\n",
    "R_2"
   ]
  },
  {
   "cell_type": "code",
   "execution_count": 10,
   "metadata": {},
   "outputs": [
    {
     "data": {
      "text/html": [
       "<table>\n",
       "<caption>A matrix: 3 × 3 of type dbl</caption>\n",
       "<tbody>\n",
       "\t<tr><td>0.4165626</td><td>0.2701185</td><td>0.2984639</td></tr>\n",
       "\t<tr><td>0.5451213</td><td>0.5866608</td><td>0.7317567</td></tr>\n",
       "\t<tr><td>0.6879685</td><td>0.5942994</td><td>0.7533202</td></tr>\n",
       "</tbody>\n",
       "</table>\n"
      ],
      "text/latex": [
       "A matrix: 3 × 3 of type dbl\n",
       "\\begin{tabular}{lll}\n",
       "\t 0.4165626 & 0.2701185 & 0.2984639\\\\\n",
       "\t 0.5451213 & 0.5866608 & 0.7317567\\\\\n",
       "\t 0.6879685 & 0.5942994 & 0.7533202\\\\\n",
       "\\end{tabular}\n"
      ],
      "text/markdown": [
       "\n",
       "A matrix: 3 × 3 of type dbl\n",
       "\n",
       "| 0.4165626 | 0.2701185 | 0.2984639 |\n",
       "| 0.5451213 | 0.5866608 | 0.7317567 |\n",
       "| 0.6879685 | 0.5942994 | 0.7533202 |\n",
       "\n"
      ],
      "text/plain": [
       "     [,1]      [,2]      [,3]     \n",
       "[1,] 0.4165626 0.2701185 0.2984639\n",
       "[2,] 0.5451213 0.5866608 0.7317567\n",
       "[3,] 0.6879685 0.5942994 0.7533202"
      ]
     },
     "metadata": {},
     "output_type": "display_data"
    }
   ],
   "source": [
    "R_3=D_1%*%gamma_3%*%D_1\n",
    "R_3"
   ]
  },
  {
   "cell_type": "markdown",
   "metadata": {},
   "source": [
    "## Graficos"
   ]
  },
  {
   "cell_type": "code",
   "execution_count": 11,
   "metadata": {},
   "outputs": [],
   "source": [
    "#Listas operativas, uu significa entrada 1,1 y así\n",
    "RS=list(R_0,R_1,R_2,R_3)\n",
    "uu=list()\n",
    "ud=list()\n",
    "ut=list()\n",
    "du=list()\n",
    "dd=list()\n",
    "dt=list()\n",
    "tu=list()\n",
    "td=list()\n",
    "tt=list()\n",
    "\n",
    "for (i in RS){\n",
    "    uu=c(uu,i[1,1])\n",
    "    ud=c(ud,i[1,2])\n",
    "    ut=c(ut,i[1,3])\n",
    "    du=c(du,i[2,1])\n",
    "    dd=c(dd,i[2,2])\n",
    "    dt=c(dt,i[2,3])\n",
    "    tu=c(tu,i[3,1])\n",
    "    td=c(td,i[3,2])\n",
    "    tt=c(tt,i[3,3])}"
   ]
  },
  {
   "cell_type": "code",
   "execution_count": 12,
   "metadata": {},
   "outputs": [
    {
     "data": {
      "text/html": [
       "<ol>\n",
       "\t<li>1</li>\n",
       "\t<li>0.731344029353602</li>\n",
       "\t<li>0.54311669310465</li>\n",
       "\t<li>0.416562642848658</li>\n",
       "</ol>\n"
      ],
      "text/latex": [
       "\\begin{enumerate}\n",
       "\\item 1\n",
       "\\item 0.731344029353602\n",
       "\\item 0.54311669310465\n",
       "\\item 0.416562642848658\n",
       "\\end{enumerate}\n"
      ],
      "text/markdown": [
       "1. 1\n",
       "2. 0.731344029353602\n",
       "3. 0.54311669310465\n",
       "4. 0.416562642848658\n",
       "\n",
       "\n"
      ],
      "text/plain": [
       "[[1]]\n",
       "[1] 1\n",
       "\n",
       "[[2]]\n",
       "[1] 0.731344\n",
       "\n",
       "[[3]]\n",
       "[1] 0.5431167\n",
       "\n",
       "[[4]]\n",
       "[1] 0.4165626\n"
      ]
     },
     "metadata": {},
     "output_type": "display_data"
    },
    {
     "data": {
      "text/html": [
       "<ol>\n",
       "\t<li>0.424367562556585</li>\n",
       "\t<li>0.37091786212516</li>\n",
       "\t<li>0.316581904782695</li>\n",
       "\t<li>0.27011854109762</li>\n",
       "</ol>\n"
      ],
      "text/latex": [
       "\\begin{enumerate}\n",
       "\\item 0.424367562556585\n",
       "\\item 0.37091786212516\n",
       "\\item 0.316581904782695\n",
       "\\item 0.27011854109762\n",
       "\\end{enumerate}\n"
      ],
      "text/markdown": [
       "1. 0.424367562556585\n",
       "2. 0.37091786212516\n",
       "3. 0.316581904782695\n",
       "4. 0.27011854109762\n",
       "\n",
       "\n"
      ],
      "text/plain": [
       "[[1]]\n",
       "[1] 0.4243676\n",
       "\n",
       "[[2]]\n",
       "[1] 0.3709179\n",
       "\n",
       "[[3]]\n",
       "[1] 0.3165819\n",
       "\n",
       "[[4]]\n",
       "[1] 0.2701185\n"
      ]
     },
     "metadata": {},
     "output_type": "display_data"
    },
    {
     "data": {
      "text/html": [
       "<ol>\n",
       "\t<li>0.503703466234757</li>\n",
       "\t<li>0.407275921164447</li>\n",
       "\t<li>0.343968989740363</li>\n",
       "\t<li>0.298463919588629</li>\n",
       "</ol>\n"
      ],
      "text/latex": [
       "\\begin{enumerate}\n",
       "\\item 0.503703466234757\n",
       "\\item 0.407275921164447\n",
       "\\item 0.343968989740363\n",
       "\\item 0.298463919588629\n",
       "\\end{enumerate}\n"
      ],
      "text/markdown": [
       "1. 0.503703466234757\n",
       "2. 0.407275921164447\n",
       "3. 0.343968989740363\n",
       "4. 0.298463919588629\n",
       "\n",
       "\n"
      ],
      "text/plain": [
       "[[1]]\n",
       "[1] 0.5037035\n",
       "\n",
       "[[2]]\n",
       "[1] 0.4072759\n",
       "\n",
       "[[3]]\n",
       "[1] 0.343969\n",
       "\n",
       "[[4]]\n",
       "[1] 0.2984639\n"
      ]
     },
     "metadata": {},
     "output_type": "display_data"
    },
    {
     "data": {
      "text/html": [
       "<ol>\n",
       "\t<li>0.424367562556585</li>\n",
       "\t<li>0.42209088367011</li>\n",
       "\t<li>0.492562655490582</li>\n",
       "\t<li>0.545121262450462</li>\n",
       "</ol>\n"
      ],
      "text/latex": [
       "\\begin{enumerate}\n",
       "\\item 0.424367562556585\n",
       "\\item 0.42209088367011\n",
       "\\item 0.492562655490582\n",
       "\\item 0.545121262450462\n",
       "\\end{enumerate}\n"
      ],
      "text/markdown": [
       "1. 0.424367562556585\n",
       "2. 0.42209088367011\n",
       "3. 0.492562655490582\n",
       "4. 0.545121262450462\n",
       "\n",
       "\n"
      ],
      "text/plain": [
       "[[1]]\n",
       "[1] 0.4243676\n",
       "\n",
       "[[2]]\n",
       "[1] 0.4220909\n",
       "\n",
       "[[3]]\n",
       "[1] 0.4925627\n",
       "\n",
       "[[4]]\n",
       "[1] 0.5451213\n"
      ]
     },
     "metadata": {},
     "output_type": "display_data"
    },
    {
     "data": {
      "text/html": [
       "<ol>\n",
       "\t<li>1</li>\n",
       "\t<li>0.770903915014652</li>\n",
       "\t<li>0.656794401166062</li>\n",
       "\t<li>0.58666082079852</li>\n",
       "</ol>\n"
      ],
      "text/latex": [
       "\\begin{enumerate}\n",
       "\\item 1\n",
       "\\item 0.770903915014652\n",
       "\\item 0.656794401166062\n",
       "\\item 0.58666082079852\n",
       "\\end{enumerate}\n"
      ],
      "text/markdown": [
       "1. 1\n",
       "2. 0.770903915014652\n",
       "3. 0.656794401166062\n",
       "4. 0.58666082079852\n",
       "\n",
       "\n"
      ],
      "text/plain": [
       "[[1]]\n",
       "[1] 1\n",
       "\n",
       "[[2]]\n",
       "[1] 0.7709039\n",
       "\n",
       "[[3]]\n",
       "[1] 0.6567944\n",
       "\n",
       "[[4]]\n",
       "[1] 0.5866608\n"
      ]
     },
     "metadata": {},
     "output_type": "display_data"
    },
    {
     "data": {
      "text/html": [
       "<ol>\n",
       "\t<li>0.740361143062004</li>\n",
       "\t<li>0.797121471605457</li>\n",
       "\t<li>0.78100707955979</li>\n",
       "\t<li>0.731756690434717</li>\n",
       "</ol>\n"
      ],
      "text/latex": [
       "\\begin{enumerate}\n",
       "\\item 0.740361143062004\n",
       "\\item 0.797121471605457\n",
       "\\item 0.78100707955979\n",
       "\\item 0.731756690434717\n",
       "\\end{enumerate}\n"
      ],
      "text/markdown": [
       "1. 0.740361143062004\n",
       "2. 0.797121471605457\n",
       "3. 0.78100707955979\n",
       "4. 0.731756690434717\n",
       "\n",
       "\n"
      ],
      "text/plain": [
       "[[1]]\n",
       "[1] 0.7403611\n",
       "\n",
       "[[2]]\n",
       "[1] 0.7971215\n",
       "\n",
       "[[3]]\n",
       "[1] 0.7810071\n",
       "\n",
       "[[4]]\n",
       "[1] 0.7317567\n"
      ]
     },
     "metadata": {},
     "output_type": "display_data"
    },
    {
     "data": {
      "text/html": [
       "<ol>\n",
       "\t<li>0.503703466234757</li>\n",
       "\t<li>0.646189930335929</li>\n",
       "\t<li>0.694834673571943</li>\n",
       "\t<li>0.687968468229711</li>\n",
       "</ol>\n"
      ],
      "text/latex": [
       "\\begin{enumerate}\n",
       "\\item 0.503703466234757\n",
       "\\item 0.646189930335929\n",
       "\\item 0.694834673571943\n",
       "\\item 0.687968468229711\n",
       "\\end{enumerate}\n"
      ],
      "text/markdown": [
       "1. 0.503703466234757\n",
       "2. 0.646189930335929\n",
       "3. 0.694834673571943\n",
       "4. 0.687968468229711\n",
       "\n",
       "\n"
      ],
      "text/plain": [
       "[[1]]\n",
       "[1] 0.5037035\n",
       "\n",
       "[[2]]\n",
       "[1] 0.6461899\n",
       "\n",
       "[[3]]\n",
       "[1] 0.6948347\n",
       "\n",
       "[[4]]\n",
       "[1] 0.6879685\n"
      ]
     },
     "metadata": {},
     "output_type": "display_data"
    },
    {
     "data": {
      "text/html": [
       "<ol>\n",
       "\t<li>0.740361143062004</li>\n",
       "\t<li>0.695506630360993</li>\n",
       "\t<li>0.64662260150314</li>\n",
       "\t<li>0.594299397970662</li>\n",
       "</ol>\n"
      ],
      "text/latex": [
       "\\begin{enumerate}\n",
       "\\item 0.740361143062004\n",
       "\\item 0.695506630360993\n",
       "\\item 0.64662260150314\n",
       "\\item 0.594299397970662\n",
       "\\end{enumerate}\n"
      ],
      "text/markdown": [
       "1. 0.740361143062004\n",
       "2. 0.695506630360993\n",
       "3. 0.64662260150314\n",
       "4. 0.594299397970662\n",
       "\n",
       "\n"
      ],
      "text/plain": [
       "[[1]]\n",
       "[1] 0.7403611\n",
       "\n",
       "[[2]]\n",
       "[1] 0.6955066\n",
       "\n",
       "[[3]]\n",
       "[1] 0.6466226\n",
       "\n",
       "[[4]]\n",
       "[1] 0.5942994\n"
      ]
     },
     "metadata": {},
     "output_type": "display_data"
    },
    {
     "data": {
      "text/html": [
       "<ol>\n",
       "\t<li>1</li>\n",
       "\t<li>0.922514362238676</li>\n",
       "\t<li>0.837072054352108</li>\n",
       "\t<li>0.753320243072141</li>\n",
       "</ol>\n"
      ],
      "text/latex": [
       "\\begin{enumerate}\n",
       "\\item 1\n",
       "\\item 0.922514362238676\n",
       "\\item 0.837072054352108\n",
       "\\item 0.753320243072141\n",
       "\\end{enumerate}\n"
      ],
      "text/markdown": [
       "1. 1\n",
       "2. 0.922514362238676\n",
       "3. 0.837072054352108\n",
       "4. 0.753320243072141\n",
       "\n",
       "\n"
      ],
      "text/plain": [
       "[[1]]\n",
       "[1] 1\n",
       "\n",
       "[[2]]\n",
       "[1] 0.9225144\n",
       "\n",
       "[[3]]\n",
       "[1] 0.8370721\n",
       "\n",
       "[[4]]\n",
       "[1] 0.7533202\n"
      ]
     },
     "metadata": {},
     "output_type": "display_data"
    }
   ],
   "source": [
    "uu\n",
    "ud\n",
    "ut\n",
    "du\n",
    "dd\n",
    "dt\n",
    "tu\n",
    "td\n",
    "tt"
   ]
  },
  {
   "cell_type": "code",
   "execution_count": 13,
   "metadata": {},
   "outputs": [
    {
     "data": {
      "text/html": [
       "<ol>\n",
       "\t<li>0</li>\n",
       "\t<li>1</li>\n",
       "\t<li>2</li>\n",
       "\t<li>3</li>\n",
       "</ol>\n"
      ],
      "text/latex": [
       "\\begin{enumerate}\n",
       "\\item 0\n",
       "\\item 1\n",
       "\\item 2\n",
       "\\item 3\n",
       "\\end{enumerate}\n"
      ],
      "text/markdown": [
       "1. 0\n",
       "2. 1\n",
       "3. 2\n",
       "4. 3\n",
       "\n",
       "\n"
      ],
      "text/plain": [
       "[[1]]\n",
       "[1] 0\n",
       "\n",
       "[[2]]\n",
       "[1] 1\n",
       "\n",
       "[[3]]\n",
       "[1] 2\n",
       "\n",
       "[[4]]\n",
       "[1] 3\n"
      ]
     },
     "metadata": {},
     "output_type": "display_data"
    }
   ],
   "source": [
    "haches=list(0,1,2,3)\n",
    "haches"
   ]
  },
  {
   "cell_type": "code",
   "execution_count": 14,
   "metadata": {},
   "outputs": [
    {
     "data": {
      "image/png": "[encoded data removed]",
      "text/plain": [
       "plot without title"
      ]
     },
     "metadata": {
      "image/png": {
       "height": 420,
       "width": 420
      },
      "text/plain": {
       "height": 420,
       "width": 420
      }
     },
     "output_type": "display_data"
    }
   ],
   "source": [
    "display.brewer.all(colorblindFriendly = T) #nombre de paletas de colores"
   ]
  },
  {
   "cell_type": "markdown",
   "metadata": {},
   "source": [
    "Grafico con colores amigables para personas con discapacidad visual, por fines practicos son lineas."
   ]
  },
  {
   "cell_type": "code",
   "execution_count": 15,
   "metadata": {},
   "outputs": [
    {
     "data": {
      "image/png": "[encoded data removed]",
      "text/plain": [
       "Plot with title “Grafico de Autocorrelaciones vs H”"
      ]
     },
     "metadata": {
      "image/png": {
       "height": 420,
       "width": 420
      },
      "text/plain": {
       "height": 420,
       "width": 420
      }
     },
     "output_type": "display_data"
    }
   ],
   "source": [
    "matplot(haches, cbind(uu,ud,ut,du,dd,dt,tu,td,tt),ylim=c(0.2,1.2),type=\"l\",col=brewer.pal(9, \"Paired\"),lty=c(1,1),xlab='h',ylab='Autocorrelación',main='Grafico de Autocorrelaciones vs H',las=1)\n",
    "legend(x = 'topright', legend = c(\"uu\",\"ud\",\"ut\",\"du\",\"dd\",\"dt\",\"tu\",\"td\",\"tt\"), fill =brewer.pal(9, \"Paired\"))"
   ]
  },
  {
   "cell_type": "markdown",
   "metadata": {},
   "source": [
    "## Graficos por separado."
   ]
  },
  {
   "cell_type": "code",
   "execution_count": 51,
   "metadata": {},
   "outputs": [
    {
     "data": {
      "image/png": "[encoded data removed]",
      "text/plain": [
       "Plot with title “Coordenada 1,1 de la matriz vs h”"
      ]
     },
     "metadata": {
      "image/png": {
       "height": 420,
       "width": 420
      },
      "text/plain": {
       "height": 420,
       "width": 420
      }
     },
     "output_type": "display_data"
    }
   ],
   "source": [
    "plot(haches,uu,main=\"Coordenada 1,1 de la matriz vs h\")"
   ]
  },
  {
   "cell_type": "code",
   "execution_count": 52,
   "metadata": {},
   "outputs": [
    {
     "data": {
      "image/png": "[encoded data removed]",
      "text/plain": [
       "Plot with title “Coordenada 1,2 de la matriz vs h”"
      ]
     },
     "metadata": {
      "image/png": {
       "height": 420,
       "width": 420
      },
      "text/plain": {
       "height": 420,
       "width": 420
      }
     },
     "output_type": "display_data"
    }
   ],
   "source": [
    "plot(haches,ud,main=\"Coordenada 1,2 de la matriz vs h\")"
   ]
  },
  {
   "cell_type": "code",
   "execution_count": 53,
   "metadata": {},
   "outputs": [
    {
     "data": {
      "image/png": "[encoded data removed]",
      "text/plain": [
       "Plot with title “Coordenada 1,3 de la matriz vs h”"
      ]
     },
     "metadata": {
      "image/png": {
       "height": 420,
       "width": 420
      },
      "text/plain": {
       "height": 420,
       "width": 420
      }
     },
     "output_type": "display_data"
    }
   ],
   "source": [
    "plot(haches,ut,main=\"Coordenada 1,3 de la matriz vs h\")"
   ]
  },
  {
   "cell_type": "code",
   "execution_count": 54,
   "metadata": {},
   "outputs": [
    {
     "data": {
      "image/png": "[encoded data removed]",
      "text/plain": [
       "Plot with title “Coordenada 2,1 de la matriz vs h”"
      ]
     },
     "metadata": {
      "image/png": {
       "height": 420,
       "width": 420
      },
      "text/plain": {
       "height": 420,
       "width": 420
      }
     },
     "output_type": "display_data"
    }
   ],
   "source": [
    "plot(haches,du,main=\"Coordenada 2,1 de la matriz vs h\")"
   ]
  },
  {
   "cell_type": "code",
   "execution_count": 55,
   "metadata": {},
   "outputs": [
    {
     "data": {
      "image/png": "[encoded data removed]",
      "text/plain": [
       "Plot with title “Coordenada 2,2 de la matriz vs h”"
      ]
     },
     "metadata": {
      "image/png": {
       "height": 420,
       "width": 420
      },
      "text/plain": {
       "height": 420,
       "width": 420
      }
     },
     "output_type": "display_data"
    }
   ],
   "source": [
    "plot(haches,dd,main=\"Coordenada 2,2 de la matriz vs h\")"
   ]
  },
  {
   "cell_type": "code",
   "execution_count": 56,
   "metadata": {},
   "outputs": [
    {
     "data": {
      "image/png": "[encoded data removed]",
      "text/plain": [
       "Plot with title “Coordenada 2,3 de la matriz vs h”"
      ]
     },
     "metadata": {
      "image/png": {
       "height": 420,
       "width": 420
      },
      "text/plain": {
       "height": 420,
       "width": 420
      }
     },
     "output_type": "display_data"
    }
   ],
   "source": [
    "plot(haches,dt,main=\"Coordenada 2,3 de la matriz vs h\")"
   ]
  },
  {
   "cell_type": "code",
   "execution_count": 57,
   "metadata": {},
   "outputs": [
    {
     "data": {
      "image/png": "[encoded data removed]",
      "text/plain": [
       "Plot with title “Coordenada 3,1 de la matriz vs h”"
      ]
     },
     "metadata": {
      "image/png": {
       "height": 420,
       "width": 420
      },
      "text/plain": {
       "height": 420,
       "width": 420
      }
     },
     "output_type": "display_data"
    }
   ],
   "source": [
    "plot(haches,tu,main=\"Coordenada 3,1 de la matriz vs h\")"
   ]
  },
  {
   "cell_type": "code",
   "execution_count": 58,
   "metadata": {},
   "outputs": [
    {
     "data": {
      "image/png": "[encoded data removed]",
      "text/plain": [
       "Plot with title “Coordenada 3,2 de la matriz vs h”"
      ]
     },
     "metadata": {
      "image/png": {
       "height": 420,
       "width": 420
      },
      "text/plain": {
       "height": 420,
       "width": 420
      }
     },
     "output_type": "display_data"
    }
   ],
   "source": [
    "plot(haches,td,main=\"Coordenada 3,2 de la matriz vs h\")"
   ]
  },
  {
   "cell_type": "code",
   "execution_count": 59,
   "metadata": {},
   "outputs": [
    {
     "data": {
      "image/png": "[encoded data removed]",
      "text/plain": [
       "Plot with title “Coordenada 3,3 de la matriz vs h”"
      ]
     },
     "metadata": {
      "image/png": {
       "height": 420,
       "width": 420
      },
      "text/plain": {
       "height": 420,
       "width": 420
      }
     },
     "output_type": "display_data"
    }
   ],
   "source": [
    "plot(haches,tt,main=\"Coordenada 3,3 de la matriz vs h\")"
   ]
  },
  {
   "cell_type": "markdown",
   "metadata": {},
   "source": [
    "## Problema 2"
   ]
  },
  {
   "cell_type": "markdown",
   "metadata": {},
   "source": [
    "### Itema a"
   ]
  },
  {
   "cell_type": "code",
   "execution_count": 16,
   "metadata": {},
   "outputs": [
    {
     "data": {
      "text/html": [
       "<table>\n",
       "<caption>A matrix: 6 × 6 of type dbl</caption>\n",
       "<tbody>\n",
       "\t<tr><td>0.7</td><td>0.1</td><td>0.0</td><td>-0.2</td><td>0.0</td><td>0.0</td></tr>\n",
       "\t<tr><td>0.0</td><td>0.4</td><td>0.1</td><td> 0.0</td><td>0.1</td><td>0.1</td></tr>\n",
       "\t<tr><td>0.9</td><td>0.0</td><td>0.8</td><td> 0.0</td><td>0.0</td><td>0.0</td></tr>\n",
       "\t<tr><td>1.0</td><td>0.0</td><td>0.0</td><td> 0.0</td><td>0.0</td><td>0.0</td></tr>\n",
       "\t<tr><td>0.0</td><td>1.0</td><td>0.0</td><td> 0.0</td><td>0.0</td><td>0.0</td></tr>\n",
       "\t<tr><td>0.0</td><td>0.0</td><td>1.0</td><td> 0.0</td><td>0.0</td><td>0.0</td></tr>\n",
       "</tbody>\n",
       "</table>\n"
      ],
      "text/latex": [
       "A matrix: 6 × 6 of type dbl\n",
       "\\begin{tabular}{llllll}\n",
       "\t 0.7 & 0.1 & 0.0 & -0.2 & 0.0 & 0.0\\\\\n",
       "\t 0.0 & 0.4 & 0.1 &  0.0 & 0.1 & 0.1\\\\\n",
       "\t 0.9 & 0.0 & 0.8 &  0.0 & 0.0 & 0.0\\\\\n",
       "\t 1.0 & 0.0 & 0.0 &  0.0 & 0.0 & 0.0\\\\\n",
       "\t 0.0 & 1.0 & 0.0 &  0.0 & 0.0 & 0.0\\\\\n",
       "\t 0.0 & 0.0 & 1.0 &  0.0 & 0.0 & 0.0\\\\\n",
       "\\end{tabular}\n"
      ],
      "text/markdown": [
       "\n",
       "A matrix: 6 × 6 of type dbl\n",
       "\n",
       "| 0.7 | 0.1 | 0.0 | -0.2 | 0.0 | 0.0 |\n",
       "| 0.0 | 0.4 | 0.1 |  0.0 | 0.1 | 0.1 |\n",
       "| 0.9 | 0.0 | 0.8 |  0.0 | 0.0 | 0.0 |\n",
       "| 1.0 | 0.0 | 0.0 |  0.0 | 0.0 | 0.0 |\n",
       "| 0.0 | 1.0 | 0.0 |  0.0 | 0.0 | 0.0 |\n",
       "| 0.0 | 0.0 | 1.0 |  0.0 | 0.0 | 0.0 |\n",
       "\n"
      ],
      "text/plain": [
       "     [,1] [,2] [,3] [,4] [,5] [,6]\n",
       "[1,] 0.7  0.1  0.0  -0.2 0.0  0.0 \n",
       "[2,] 0.0  0.4  0.1   0.0 0.1  0.1 \n",
       "[3,] 0.9  0.0  0.8   0.0 0.0  0.0 \n",
       "[4,] 1.0  0.0  0.0   0.0 0.0  0.0 \n",
       "[5,] 0.0  1.0  0.0   0.0 0.0  0.0 \n",
       "[6,] 0.0  0.0  1.0   0.0 0.0  0.0 "
      ]
     },
     "metadata": {},
     "output_type": "display_data"
    }
   ],
   "source": [
    "Ct<-matrix(c(0.3,-0.1,0,0.2,0,0,0,0.6,-0.1,0,-0.1,-0.1,-0.9,0,0.2,0,0,0,-1,0,0,1,0,0,0,-1,0,0,1,0,0,0,-1,0,0,1), ncol = 6) #La matriz esta transpuesta\n",
    "C=t(Ct) #MATRIZ I_{k}-Az\n",
    "A<-diag(6)-C # Matriz A\n",
    "A\n",
    "prom=c(2,1,0)"
   ]
  },
  {
   "cell_type": "code",
   "execution_count": 17,
   "metadata": {},
   "outputs": [
    {
     "data": {
      "text/html": [
       "<style>\n",
       ".list-inline {list-style: none; margin:0; padding: 0}\n",
       ".list-inline>li {display: inline-block}\n",
       ".list-inline>li:not(:last-child)::after {content: \"\\00b7\"; padding: 0 .5ex}\n",
       "</style>\n",
       "<ol class=list-inline><li>0.7</li><li>1</li><li>1.5</li><li>1</li><li>1.5</li><li>3</li></ol>\n"
      ],
      "text/latex": [
       "\\begin{enumerate*}\n",
       "\\item 0.7\n",
       "\\item 1\n",
       "\\item 1.5\n",
       "\\item 1\n",
       "\\item 1.5\n",
       "\\item 3\n",
       "\\end{enumerate*}\n"
      ],
      "text/markdown": [
       "1. 0.7\n",
       "2. 1\n",
       "3. 1.5\n",
       "4. 1\n",
       "5. 1.5\n",
       "6. 3\n",
       "\n",
       "\n"
      ],
      "text/plain": [
       "[1] 0.7 1.0 1.5 1.0 1.5 3.0"
      ]
     },
     "metadata": {},
     "output_type": "display_data"
    },
    {
     "data": {
      "text/html": [
       "<table>\n",
       "<caption>A matrix: 3 × 6 of type dbl</caption>\n",
       "<tbody>\n",
       "\t<tr><td>1</td><td>0</td><td>0</td><td>0</td><td>0</td><td>0</td></tr>\n",
       "\t<tr><td>0</td><td>1</td><td>0</td><td>0</td><td>0</td><td>0</td></tr>\n",
       "\t<tr><td>0</td><td>0</td><td>1</td><td>0</td><td>0</td><td>0</td></tr>\n",
       "</tbody>\n",
       "</table>\n"
      ],
      "text/latex": [
       "A matrix: 3 × 6 of type dbl\n",
       "\\begin{tabular}{llllll}\n",
       "\t 1 & 0 & 0 & 0 & 0 & 0\\\\\n",
       "\t 0 & 1 & 0 & 0 & 0 & 0\\\\\n",
       "\t 0 & 0 & 1 & 0 & 0 & 0\\\\\n",
       "\\end{tabular}\n"
      ],
      "text/markdown": [
       "\n",
       "A matrix: 3 × 6 of type dbl\n",
       "\n",
       "| 1 | 0 | 0 | 0 | 0 | 0 |\n",
       "| 0 | 1 | 0 | 0 | 0 | 0 |\n",
       "| 0 | 0 | 1 | 0 | 0 | 0 |\n",
       "\n"
      ],
      "text/plain": [
       "     [,1] [,2] [,3] [,4] [,5] [,6]\n",
       "[1,] 1    0    0    0    0    0   \n",
       "[2,] 0    1    0    0    0    0   \n",
       "[3,] 0    0    1    0    0    0   "
      ]
     },
     "metadata": {},
     "output_type": "display_data"
    }
   ],
   "source": [
    "Y_t=c(0.7,1,1.5,1,1.5,3)\n",
    "Y_t # Vector Y\n",
    "J<-matrix(c(diag(3),matrix(0,3,3)),ncol=6)\n",
    "J  # Vector J que devuelve el VAR(1) a VAR(2)"
   ]
  },
  {
   "cell_type": "code",
   "execution_count": 18,
   "metadata": {},
   "outputs": [
    {
     "data": {
      "text/html": [
       "<style>\n",
       ".list-inline {list-style: none; margin:0; padding: 0}\n",
       ".list-inline>li {display: inline-block}\n",
       ".list-inline>li:not(:last-child)::after {content: \"\\00b7\"; padding: 0 .5ex}\n",
       "</style>\n",
       "<ol class=list-inline><li>-0.188886321712072</li><li>-0.0797084462170458</li><li>0.237133068462899</li><li>0</li><li>0</li><li>0</li></ol>\n"
      ],
      "text/latex": [
       "\\begin{enumerate*}\n",
       "\\item -0.188886321712072\n",
       "\\item -0.0797084462170458\n",
       "\\item 0.237133068462899\n",
       "\\item 0\n",
       "\\item 0\n",
       "\\item 0\n",
       "\\end{enumerate*}\n"
      ],
      "text/markdown": [
       "1. -0.188886321712072\n",
       "2. -0.0797084462170458\n",
       "3. 0.237133068462899\n",
       "4. 0\n",
       "5. 0\n",
       "6. 0\n",
       "\n",
       "\n"
      ],
      "text/plain": [
       "[1] -0.18888632 -0.07970845  0.23713307  0.00000000  0.00000000  0.00000000"
      ]
     },
     "metadata": {},
     "output_type": "display_data"
    }
   ],
   "source": [
    "mu=c(0,0,0)\n",
    "u_1<-mvrnorm(1,mu=mu,Sigma=sigma)\n",
    "U<-c(u_1,0,0,0)\n",
    "U"
   ]
  },
  {
   "cell_type": "code",
   "execution_count": 19,
   "metadata": {},
   "outputs": [
    {
     "data": {
      "text/html": [
       "<table>\n",
       "<caption>A matrix: 3 × 1 of type dbl</caption>\n",
       "<tbody>\n",
       "\t<tr><td>2.201114</td></tr>\n",
       "\t<tr><td>1.920292</td></tr>\n",
       "\t<tr><td>2.067133</td></tr>\n",
       "</tbody>\n",
       "</table>\n"
      ],
      "text/latex": [
       "A matrix: 3 × 1 of type dbl\n",
       "\\begin{tabular}{l}\n",
       "\t 2.201114\\\\\n",
       "\t 1.920292\\\\\n",
       "\t 2.067133\\\\\n",
       "\\end{tabular}\n"
      ],
      "text/markdown": [
       "\n",
       "A matrix: 3 × 1 of type dbl\n",
       "\n",
       "| 2.201114 |\n",
       "| 1.920292 |\n",
       "| 2.067133 |\n",
       "\n"
      ],
      "text/plain": [
       "     [,1]    \n",
       "[1,] 2.201114\n",
       "[2,] 1.920292\n",
       "[3,] 2.067133"
      ]
     },
     "metadata": {},
     "output_type": "display_data"
    }
   ],
   "source": [
    "Y_t1=A%*%Y_t+diag(6)%*%U\n",
    "Y_2001=J%*%Y_t1+prom #Predicción al 2001\n",
    "Y_2001"
   ]
  },
  {
   "cell_type": "code",
   "execution_count": 20,
   "metadata": {},
   "outputs": [
    {
     "data": {
      "text/html": [
       "<style>\n",
       ".list-inline {list-style: none; margin:0; padding: 0}\n",
       ".list-inline>li {display: inline-block}\n",
       ".list-inline>li:not(:last-child)::after {content: \"\\00b7\"; padding: 0 .5ex}\n",
       "</style>\n",
       "<ol class=list-inline><li>0.764940475510098</li><li>-0.428586180672086</li><li>0.613892070660093</li><li>0</li><li>0</li><li>0</li></ol>\n"
      ],
      "text/latex": [
       "\\begin{enumerate*}\n",
       "\\item 0.764940475510098\n",
       "\\item -0.428586180672086\n",
       "\\item 0.613892070660093\n",
       "\\item 0\n",
       "\\item 0\n",
       "\\item 0\n",
       "\\end{enumerate*}\n"
      ],
      "text/markdown": [
       "1. 0.764940475510098\n",
       "2. -0.428586180672086\n",
       "3. 0.613892070660093\n",
       "4. 0\n",
       "5. 0\n",
       "6. 0\n",
       "\n",
       "\n"
      ],
      "text/plain": [
       "[1]  0.7649405 -0.4285862  0.6138921  0.0000000  0.0000000  0.0000000"
      ]
     },
     "metadata": {},
     "output_type": "display_data"
    },
    {
     "data": {
      "text/html": [
       "<style>\n",
       ".list-inline {list-style: none; margin:0; padding: 0}\n",
       ".list-inline>li {display: inline-block}\n",
       ".list-inline>li:not(:last-child)::after {content: \"\\00b7\"; padding: 0 .5ex}\n",
       "</style>\n",
       "<ol class=list-inline><li>0.432472663660763</li><li>0.233420608899177</li><li>0.0656258548561313</li><li>0</li><li>0</li><li>0</li></ol>\n"
      ],
      "text/latex": [
       "\\begin{enumerate*}\n",
       "\\item 0.432472663660763\n",
       "\\item 0.233420608899177\n",
       "\\item 0.0656258548561313\n",
       "\\item 0\n",
       "\\item 0\n",
       "\\item 0\n",
       "\\end{enumerate*}\n"
      ],
      "text/markdown": [
       "1. 0.432472663660763\n",
       "2. 0.233420608899177\n",
       "3. 0.0656258548561313\n",
       "4. 0\n",
       "5. 0\n",
       "6. 0\n",
       "\n",
       "\n"
      ],
      "text/plain": [
       "[1] 0.43247266 0.23342061 0.06562585 0.00000000 0.00000000 0.00000000"
      ]
     },
     "metadata": {},
     "output_type": "display_data"
    }
   ],
   "source": [
    "u_1<-mvrnorm(1,mu=mu,Sigma=sigma)\n",
    "U_1<-c(u_1,0,0,0)\n",
    "U_1\n",
    "u_2<-mvrnorm(1,mu=mu,Sigma=sigma)\n",
    "U_2<-c(u_2,0,0,0)\n",
    "U_2"
   ]
  },
  {
   "cell_type": "code",
   "execution_count": 21,
   "metadata": {},
   "outputs": [
    {
     "data": {
      "text/html": [
       "<table>\n",
       "<caption>A matrix: 3 × 1 of type dbl</caption>\n",
       "<tbody>\n",
       "\t<tr><td>2.527187</td></tr>\n",
       "\t<tr><td>2.020222</td></tr>\n",
       "\t<tr><td>2.508859</td></tr>\n",
       "</tbody>\n",
       "</table>\n"
      ],
      "text/latex": [
       "A matrix: 3 × 1 of type dbl\n",
       "\\begin{tabular}{l}\n",
       "\t 2.527187\\\\\n",
       "\t 2.020222\\\\\n",
       "\t 2.508859\\\\\n",
       "\\end{tabular}\n"
      ],
      "text/markdown": [
       "\n",
       "A matrix: 3 × 1 of type dbl\n",
       "\n",
       "| 2.527187 |\n",
       "| 2.020222 |\n",
       "| 2.508859 |\n",
       "\n"
      ],
      "text/plain": [
       "     [,1]    \n",
       "[1,] 2.527187\n",
       "[2,] 2.020222\n",
       "[3,] 2.508859"
      ]
     },
     "metadata": {},
     "output_type": "display_data"
    }
   ],
   "source": [
    "Y_t2=A%*%Y_t+A%*%U_2+diag(6)%*%U\n",
    "Y_2002=J%*%Y_t2+prom #Predicción al 2002\n",
    "Y_2002"
   ]
  },
  {
   "cell_type": "code",
   "execution_count": 22,
   "metadata": {},
   "outputs": [
    {
     "data": {
      "text/html": [
       "<style>\n",
       ".list-inline {list-style: none; margin:0; padding: 0}\n",
       ".list-inline>li {display: inline-block}\n",
       ".list-inline>li:not(:last-child)::after {content: \"\\00b7\"; padding: 0 .5ex}\n",
       "</style>\n",
       "<ol class=list-inline><li>-0.0536032065989945</li><li>0.334927912430898</li><li>-1.54708173663157</li><li>0</li><li>0</li><li>0</li></ol>\n"
      ],
      "text/latex": [
       "\\begin{enumerate*}\n",
       "\\item -0.0536032065989945\n",
       "\\item 0.334927912430898\n",
       "\\item -1.54708173663157\n",
       "\\item 0\n",
       "\\item 0\n",
       "\\item 0\n",
       "\\end{enumerate*}\n"
      ],
      "text/markdown": [
       "1. -0.0536032065989945\n",
       "2. 0.334927912430898\n",
       "3. -1.54708173663157\n",
       "4. 0\n",
       "5. 0\n",
       "6. 0\n",
       "\n",
       "\n"
      ],
      "text/plain": [
       "[1] -0.05360321  0.33492791 -1.54708174  0.00000000  0.00000000  0.00000000"
      ]
     },
     "metadata": {},
     "output_type": "display_data"
    },
    {
     "data": {
      "text/html": [
       "<style>\n",
       ".list-inline {list-style: none; margin:0; padding: 0}\n",
       ".list-inline>li {display: inline-block}\n",
       ".list-inline>li:not(:last-child)::after {content: \"\\00b7\"; padding: 0 .5ex}\n",
       "</style>\n",
       "<ol class=list-inline><li>-0.31703022958298</li><li>-0.0987579950961506</li><li>-1.06680087387802</li><li>0</li><li>0</li><li>0</li></ol>\n"
      ],
      "text/latex": [
       "\\begin{enumerate*}\n",
       "\\item -0.31703022958298\n",
       "\\item -0.0987579950961506\n",
       "\\item -1.06680087387802\n",
       "\\item 0\n",
       "\\item 0\n",
       "\\item 0\n",
       "\\end{enumerate*}\n"
      ],
      "text/markdown": [
       "1. -0.31703022958298\n",
       "2. -0.0987579950961506\n",
       "3. -1.06680087387802\n",
       "4. 0\n",
       "5. 0\n",
       "6. 0\n",
       "\n",
       "\n"
      ],
      "text/plain": [
       "[1] -0.3170302 -0.0987580 -1.0668009  0.0000000  0.0000000  0.0000000"
      ]
     },
     "metadata": {},
     "output_type": "display_data"
    },
    {
     "data": {
      "text/html": [
       "<style>\n",
       ".list-inline {list-style: none; margin:0; padding: 0}\n",
       ".list-inline>li {display: inline-block}\n",
       ".list-inline>li:not(:last-child)::after {content: \"\\00b7\"; padding: 0 .5ex}\n",
       "</style>\n",
       "<ol class=list-inline><li>-0.865945663722521</li><li>-0.120218012729615</li><li>-1.42083723748861</li><li>0</li><li>0</li><li>0</li></ol>\n"
      ],
      "text/latex": [
       "\\begin{enumerate*}\n",
       "\\item -0.865945663722521\n",
       "\\item -0.120218012729615\n",
       "\\item -1.42083723748861\n",
       "\\item 0\n",
       "\\item 0\n",
       "\\item 0\n",
       "\\end{enumerate*}\n"
      ],
      "text/markdown": [
       "1. -0.865945663722521\n",
       "2. -0.120218012729615\n",
       "3. -1.42083723748861\n",
       "4. 0\n",
       "5. 0\n",
       "6. 0\n",
       "\n",
       "\n"
      ],
      "text/plain": [
       "[1] -0.8659457 -0.1202180 -1.4208372  0.0000000  0.0000000  0.0000000"
      ]
     },
     "metadata": {},
     "output_type": "display_data"
    }
   ],
   "source": [
    "u_1<-mvrnorm(1,mu=mu,Sigma=sigma)\n",
    "U_1<-c(u_1,0,0,0)\n",
    "U_1\n",
    "u_2<-mvrnorm(1,mu=mu,Sigma=sigma)\n",
    "U_2<-c(u_2,0,0,0)\n",
    "U_2\n",
    "u_3<-mvrnorm(1,mu=mu,Sigma=sigma)\n",
    "U_3<-c(u_3,0,0,0)\n",
    "U_3"
   ]
  },
  {
   "cell_type": "code",
   "execution_count": 23,
   "metadata": {},
   "outputs": [
    {
     "data": {
      "text/html": [
       "<table>\n",
       "<caption>A matrix: 3 × 1 of type dbl</caption>\n",
       "<tbody>\n",
       "\t<tr><td> 1.690760</td></tr>\n",
       "\t<tr><td> 1.352332</td></tr>\n",
       "\t<tr><td>-1.160817</td></tr>\n",
       "</tbody>\n",
       "</table>\n"
      ],
      "text/latex": [
       "A matrix: 3 × 1 of type dbl\n",
       "\\begin{tabular}{l}\n",
       "\t  1.690760\\\\\n",
       "\t  1.352332\\\\\n",
       "\t -1.160817\\\\\n",
       "\\end{tabular}\n"
      ],
      "text/markdown": [
       "\n",
       "A matrix: 3 × 1 of type dbl\n",
       "\n",
       "|  1.690760 |\n",
       "|  1.352332 |\n",
       "| -1.160817 |\n",
       "\n"
      ],
      "text/plain": [
       "     [,1]     \n",
       "[1,]  1.690760\n",
       "[2,]  1.352332\n",
       "[3,] -1.160817"
      ]
     },
     "metadata": {},
     "output_type": "display_data"
    }
   ],
   "source": [
    "Y_t3=A%*%Y_t+diag(6)%*%U+A%*%U_2+mtx.exp(A,2)%*%U_3\n",
    "Y_2003=J%*%Y_t3+prom #Predicción al 2003\n",
    "Y_2003"
   ]
  },
  {
   "cell_type": "markdown",
   "metadata": {},
   "source": [
    "### Item b"
   ]
  },
  {
   "cell_type": "code",
   "execution_count": 24,
   "metadata": {},
   "outputs": [],
   "source": [
    "Jt=t(J)"
   ]
  },
  {
   "cell_type": "code",
   "execution_count": 25,
   "metadata": {},
   "outputs": [
    {
     "data": {
      "text/html": [
       "<table>\n",
       "<caption>A matrix: 3 × 3 of type dbl</caption>\n",
       "<tbody>\n",
       "\t<tr><td>0.7</td><td>0.1</td><td>0.0</td></tr>\n",
       "\t<tr><td>0.0</td><td>0.4</td><td>0.1</td></tr>\n",
       "\t<tr><td>0.9</td><td>0.0</td><td>0.8</td></tr>\n",
       "</tbody>\n",
       "</table>\n"
      ],
      "text/latex": [
       "A matrix: 3 × 3 of type dbl\n",
       "\\begin{tabular}{lll}\n",
       "\t 0.7 & 0.1 & 0.0\\\\\n",
       "\t 0.0 & 0.4 & 0.1\\\\\n",
       "\t 0.9 & 0.0 & 0.8\\\\\n",
       "\\end{tabular}\n"
      ],
      "text/markdown": [
       "\n",
       "A matrix: 3 × 3 of type dbl\n",
       "\n",
       "| 0.7 | 0.1 | 0.0 |\n",
       "| 0.0 | 0.4 | 0.1 |\n",
       "| 0.9 | 0.0 | 0.8 |\n",
       "\n"
      ],
      "text/plain": [
       "     [,1] [,2] [,3]\n",
       "[1,] 0.7  0.1  0.0 \n",
       "[2,] 0.0  0.4  0.1 \n",
       "[3,] 0.9  0.0  0.8 "
      ]
     },
     "metadata": {},
     "output_type": "display_data"
    }
   ],
   "source": [
    "phi_1=J%*%A%*%Jt \n",
    "phi_1"
   ]
  },
  {
   "cell_type": "code",
   "execution_count": 26,
   "metadata": {},
   "outputs": [
    {
     "data": {
      "text/html": [
       "<table>\n",
       "<caption>A matrix: 3 × 3 of type dbl</caption>\n",
       "<tbody>\n",
       "\t<tr><td>0.29</td><td>0.11</td><td>0.01</td></tr>\n",
       "\t<tr><td>0.09</td><td>0.26</td><td>0.22</td></tr>\n",
       "\t<tr><td>1.35</td><td>0.09</td><td>0.64</td></tr>\n",
       "</tbody>\n",
       "</table>\n"
      ],
      "text/latex": [
       "A matrix: 3 × 3 of type dbl\n",
       "\\begin{tabular}{lll}\n",
       "\t 0.29 & 0.11 & 0.01\\\\\n",
       "\t 0.09 & 0.26 & 0.22\\\\\n",
       "\t 1.35 & 0.09 & 0.64\\\\\n",
       "\\end{tabular}\n"
      ],
      "text/markdown": [
       "\n",
       "A matrix: 3 × 3 of type dbl\n",
       "\n",
       "| 0.29 | 0.11 | 0.01 |\n",
       "| 0.09 | 0.26 | 0.22 |\n",
       "| 1.35 | 0.09 | 0.64 |\n",
       "\n"
      ],
      "text/plain": [
       "     [,1] [,2] [,3]\n",
       "[1,] 0.29 0.11 0.01\n",
       "[2,] 0.09 0.26 0.22\n",
       "[3,] 1.35 0.09 0.64"
      ]
     },
     "metadata": {},
     "output_type": "display_data"
    }
   ],
   "source": [
    "phi_2=J%*%mtx.exp(A,2)%*%Jt\n",
    "phi_2"
   ]
  },
  {
   "cell_type": "code",
   "execution_count": 27,
   "metadata": {},
   "outputs": [
    {
     "data": {
      "text/html": [
       "<table>\n",
       "<caption>A matrix: 3 × 3 of type dbl</caption>\n",
       "<tbody>\n",
       "\t<tr><td>0.26</td><td>0.03</td><td>0.00</td></tr>\n",
       "\t<tr><td>0.03</td><td>0.09</td><td>0.00</td></tr>\n",
       "\t<tr><td>0.00</td><td>0.00</td><td>0.81</td></tr>\n",
       "</tbody>\n",
       "</table>\n"
      ],
      "text/latex": [
       "A matrix: 3 × 3 of type dbl\n",
       "\\begin{tabular}{lll}\n",
       "\t 0.26 & 0.03 & 0.00\\\\\n",
       "\t 0.03 & 0.09 & 0.00\\\\\n",
       "\t 0.00 & 0.00 & 0.81\\\\\n",
       "\\end{tabular}\n"
      ],
      "text/markdown": [
       "\n",
       "A matrix: 3 × 3 of type dbl\n",
       "\n",
       "| 0.26 | 0.03 | 0.00 |\n",
       "| 0.03 | 0.09 | 0.00 |\n",
       "| 0.00 | 0.00 | 0.81 |\n",
       "\n"
      ],
      "text/plain": [
       "     [,1] [,2] [,3]\n",
       "[1,] 0.26 0.03 0.00\n",
       "[2,] 0.03 0.09 0.00\n",
       "[3,] 0.00 0.00 0.81"
      ]
     },
     "metadata": {},
     "output_type": "display_data"
    }
   ],
   "source": [
    "MSE_1=J%*%diag(6)%*%t(J)%*%sigma%*%t(J%*%diag(6)%*%t(J))\n",
    "MSE_1"
   ]
  },
  {
   "cell_type": "code",
   "execution_count": 28,
   "metadata": {},
   "outputs": [
    {
     "data": {
      "text/html": [
       "<table>\n",
       "<caption>A matrix: 3 × 3 of type dbl</caption>\n",
       "<tbody>\n",
       "\t<tr><td>0.3925</td><td>0.0420</td><td>0.1665</td></tr>\n",
       "\t<tr><td>0.0420</td><td>0.1125</td><td>0.0756</td></tr>\n",
       "\t<tr><td>0.1665</td><td>0.0756</td><td>1.5390</td></tr>\n",
       "</tbody>\n",
       "</table>\n"
      ],
      "text/latex": [
       "A matrix: 3 × 3 of type dbl\n",
       "\\begin{tabular}{lll}\n",
       "\t 0.3925 & 0.0420 & 0.1665\\\\\n",
       "\t 0.0420 & 0.1125 & 0.0756\\\\\n",
       "\t 0.1665 & 0.0756 & 1.5390\\\\\n",
       "\\end{tabular}\n"
      ],
      "text/markdown": [
       "\n",
       "A matrix: 3 × 3 of type dbl\n",
       "\n",
       "| 0.3925 | 0.0420 | 0.1665 |\n",
       "| 0.0420 | 0.1125 | 0.0756 |\n",
       "| 0.1665 | 0.0756 | 1.5390 |\n",
       "\n"
      ],
      "text/plain": [
       "     [,1]   [,2]   [,3]  \n",
       "[1,] 0.3925 0.0420 0.1665\n",
       "[2,] 0.0420 0.1125 0.0756\n",
       "[3,] 0.1665 0.0756 1.5390"
      ]
     },
     "metadata": {},
     "output_type": "display_data"
    }
   ],
   "source": [
    "MSE_2=phi_1%*%sigma%*%t(phi_1)+MSE_1\n",
    "MSE_2"
   ]
  },
  {
   "cell_type": "code",
   "execution_count": 29,
   "metadata": {},
   "outputs": [
    {
     "data": {
      "text/html": [
       "<table>\n",
       "<caption>A matrix: 3 × 3 of type dbl</caption>\n",
       "<tbody>\n",
       "\t<tr><td>0.417450</td><td>0.055701</td><td>0.279603</td></tr>\n",
       "\t<tr><td>0.055701</td><td>0.161298</td><td>0.234117</td></tr>\n",
       "\t<tr><td>0.279603</td><td>0.234117</td><td>2.352645</td></tr>\n",
       "</tbody>\n",
       "</table>\n"
      ],
      "text/latex": [
       "A matrix: 3 × 3 of type dbl\n",
       "\\begin{tabular}{lll}\n",
       "\t 0.417450 & 0.055701 & 0.279603\\\\\n",
       "\t 0.055701 & 0.161298 & 0.234117\\\\\n",
       "\t 0.279603 & 0.234117 & 2.352645\\\\\n",
       "\\end{tabular}\n"
      ],
      "text/markdown": [
       "\n",
       "A matrix: 3 × 3 of type dbl\n",
       "\n",
       "| 0.417450 | 0.055701 | 0.279603 |\n",
       "| 0.055701 | 0.161298 | 0.234117 |\n",
       "| 0.279603 | 0.234117 | 2.352645 |\n",
       "\n"
      ],
      "text/plain": [
       "     [,1]     [,2]     [,3]    \n",
       "[1,] 0.417450 0.055701 0.279603\n",
       "[2,] 0.055701 0.161298 0.234117\n",
       "[3,] 0.279603 0.234117 2.352645"
      ]
     },
     "metadata": {},
     "output_type": "display_data"
    }
   ],
   "source": [
    "MSE_3=phi_2%*%sigma%*%t(phi_2)+MSE_2\n",
    "MSE_3"
   ]
  },
  {
   "cell_type": "markdown",
   "metadata": {},
   "source": [
    "### Item c"
   ]
  },
  {
   "cell_type": "code",
   "execution_count": 30,
   "metadata": {},
   "outputs": [],
   "source": [
    "z90=qnorm(0.95)\n",
    "Z90<-c(z90,z90,z90)\n",
    "z95=qnorm(0.975)\n",
    "Z95<-c(z95,z95,z95)"
   ]
  },
  {
   "cell_type": "code",
   "execution_count": 31,
   "metadata": {},
   "outputs": [
    {
     "data": {
      "text/html": [
       "<style>\n",
       ".list-inline {list-style: none; margin:0; padding: 0}\n",
       ".list-inline>li {display: inline-block}\n",
       ".list-inline>li:not(:last-child)::after {content: \"\\00b7\"; padding: 0 .5ex}\n",
       "</style>\n",
       "<ol class=list-inline><li>1.64485362695147</li><li>1.64485362695147</li><li>1.64485362695147</li></ol>\n"
      ],
      "text/latex": [
       "\\begin{enumerate*}\n",
       "\\item 1.64485362695147\n",
       "\\item 1.64485362695147\n",
       "\\item 1.64485362695147\n",
       "\\end{enumerate*}\n"
      ],
      "text/markdown": [
       "1. 1.64485362695147\n",
       "2. 1.64485362695147\n",
       "3. 1.64485362695147\n",
       "\n",
       "\n"
      ],
      "text/plain": [
       "[1] 1.644854 1.644854 1.644854"
      ]
     },
     "metadata": {},
     "output_type": "display_data"
    },
    {
     "data": {
      "text/html": [
       "<style>\n",
       ".list-inline {list-style: none; margin:0; padding: 0}\n",
       ".list-inline>li {display: inline-block}\n",
       ".list-inline>li:not(:last-child)::after {content: \"\\00b7\"; padding: 0 .5ex}\n",
       "</style>\n",
       "<ol class=list-inline><li>0.509901951359279</li><li>0.3</li><li>0.9</li></ol>\n"
      ],
      "text/latex": [
       "\\begin{enumerate*}\n",
       "\\item 0.509901951359279\n",
       "\\item 0.3\n",
       "\\item 0.9\n",
       "\\end{enumerate*}\n"
      ],
      "text/markdown": [
       "1. 0.509901951359279\n",
       "2. 0.3\n",
       "3. 0.9\n",
       "\n",
       "\n"
      ],
      "text/plain": [
       "[1] 0.509902 0.300000 0.900000"
      ]
     },
     "metadata": {},
     "output_type": "display_data"
    },
    {
     "data": {
      "text/html": [
       "<table>\n",
       "<caption>A matrix: 3 × 1 of type dbl</caption>\n",
       "<tbody>\n",
       "\t<tr><td>2.201114</td></tr>\n",
       "\t<tr><td>1.920292</td></tr>\n",
       "\t<tr><td>2.067133</td></tr>\n",
       "</tbody>\n",
       "</table>\n"
      ],
      "text/latex": [
       "A matrix: 3 × 1 of type dbl\n",
       "\\begin{tabular}{l}\n",
       "\t 2.201114\\\\\n",
       "\t 1.920292\\\\\n",
       "\t 2.067133\\\\\n",
       "\\end{tabular}\n"
      ],
      "text/markdown": [
       "\n",
       "A matrix: 3 × 1 of type dbl\n",
       "\n",
       "| 2.201114 |\n",
       "| 1.920292 |\n",
       "| 2.067133 |\n",
       "\n"
      ],
      "text/plain": [
       "     [,1]    \n",
       "[1,] 2.201114\n",
       "[2,] 1.920292\n",
       "[3,] 2.067133"
      ]
     },
     "metadata": {},
     "output_type": "display_data"
    }
   ],
   "source": [
    "Z90\n",
    "c((diag(sigma))^(1/2))\n",
    "Y_2001"
   ]
  },
  {
   "cell_type": "markdown",
   "metadata": {},
   "source": [
    "### Intervalos de confianza del 90% para predicciones"
   ]
  },
  {
   "cell_type": "code",
   "execution_count": 32,
   "metadata": {},
   "outputs": [
    {
     "data": {
      "text/html": [
       "<table>\n",
       "<caption>A data.frame: 3 × 5</caption>\n",
       "<thead>\n",
       "\t<tr><th scope=col>Variables</th><th scope=col>Confianza</th><th scope=col>lim_inf</th><th scope=col>pred</th><th scope=col>lim_sup</th></tr>\n",
       "\t<tr><th scope=col>&lt;fct&gt;</th><th scope=col>&lt;fct&gt;</th><th scope=col>&lt;dbl&gt;</th><th scope=col>&lt;dbl&gt;</th><th scope=col>&lt;dbl&gt;</th></tr>\n",
       "</thead>\n",
       "<tbody>\n",
       "\t<tr><td>GNP</td><td>90%</td><td>1.3623996</td><td>2.201114</td><td>3.039828</td></tr>\n",
       "\t<tr><td>M2 </td><td>90%</td><td>1.4268355</td><td>1.920292</td><td>2.413748</td></tr>\n",
       "\t<tr><td>IR </td><td>90%</td><td>0.5867648</td><td>2.067133</td><td>3.547501</td></tr>\n",
       "</tbody>\n",
       "</table>\n"
      ],
      "text/latex": [
       "A data.frame: 3 × 5\n",
       "\\begin{tabular}{lllll}\n",
       " Variables & Confianza & lim\\_inf & pred & lim\\_sup\\\\\n",
       " <fct> & <fct> & <dbl> & <dbl> & <dbl>\\\\\n",
       "\\hline\n",
       "\t GNP & 90\\% & 1.3623996 & 2.201114 & 3.039828\\\\\n",
       "\t M2  & 90\\% & 1.4268355 & 1.920292 & 2.413748\\\\\n",
       "\t IR  & 90\\% & 0.5867648 & 2.067133 & 3.547501\\\\\n",
       "\\end{tabular}\n"
      ],
      "text/markdown": [
       "\n",
       "A data.frame: 3 × 5\n",
       "\n",
       "| Variables &lt;fct&gt; | Confianza &lt;fct&gt; | lim_inf &lt;dbl&gt; | pred &lt;dbl&gt; | lim_sup &lt;dbl&gt; |\n",
       "|---|---|---|---|---|\n",
       "| GNP | 90% | 1.3623996 | 2.201114 | 3.039828 |\n",
       "| M2  | 90% | 1.4268355 | 1.920292 | 2.413748 |\n",
       "| IR  | 90% | 0.5867648 | 2.067133 | 3.547501 |\n",
       "\n"
      ],
      "text/plain": [
       "  Variables Confianza lim_inf   pred     lim_sup \n",
       "1 GNP       90%       1.3623996 2.201114 3.039828\n",
       "2 M2        90%       1.4268355 1.920292 2.413748\n",
       "3 IR        90%       0.5867648 2.067133 3.547501"
      ]
     },
     "metadata": {},
     "output_type": "display_data"
    }
   ],
   "source": [
    "IC90_2001=data.frame(Variables=c('GNP','M2','IR'),Confianza='90%',lim_inf=Y_2001-Z90*c((diag(sigma))^(1/2)),pred=Y_2001,lim_sup=Y_2001+Z90*c((diag(sigma))^(1/2)))\n",
    "IC90_2001"
   ]
  },
  {
   "cell_type": "code",
   "execution_count": 33,
   "metadata": {},
   "outputs": [
    {
     "data": {
      "text/html": [
       "<table>\n",
       "<caption>A data.frame: 3 × 5</caption>\n",
       "<thead>\n",
       "\t<tr><th scope=col>Variables</th><th scope=col>Confianza</th><th scope=col>lim_inf</th><th scope=col>pred</th><th scope=col>lim_sup</th></tr>\n",
       "\t<tr><th scope=col>&lt;fct&gt;</th><th scope=col>&lt;fct&gt;</th><th scope=col>&lt;dbl&gt;</th><th scope=col>&lt;dbl&gt;</th><th scope=col>&lt;dbl&gt;</th></tr>\n",
       "</thead>\n",
       "<tbody>\n",
       "\t<tr><td>GNP</td><td>90%</td><td>1.688473</td><td>2.527187</td><td>3.365901</td></tr>\n",
       "\t<tr><td>M2 </td><td>90%</td><td>1.526766</td><td>2.020222</td><td>2.513678</td></tr>\n",
       "\t<tr><td>IR </td><td>90%</td><td>1.028491</td><td>2.508859</td><td>3.989227</td></tr>\n",
       "</tbody>\n",
       "</table>\n"
      ],
      "text/latex": [
       "A data.frame: 3 × 5\n",
       "\\begin{tabular}{lllll}\n",
       " Variables & Confianza & lim\\_inf & pred & lim\\_sup\\\\\n",
       " <fct> & <fct> & <dbl> & <dbl> & <dbl>\\\\\n",
       "\\hline\n",
       "\t GNP & 90\\% & 1.688473 & 2.527187 & 3.365901\\\\\n",
       "\t M2  & 90\\% & 1.526766 & 2.020222 & 2.513678\\\\\n",
       "\t IR  & 90\\% & 1.028491 & 2.508859 & 3.989227\\\\\n",
       "\\end{tabular}\n"
      ],
      "text/markdown": [
       "\n",
       "A data.frame: 3 × 5\n",
       "\n",
       "| Variables &lt;fct&gt; | Confianza &lt;fct&gt; | lim_inf &lt;dbl&gt; | pred &lt;dbl&gt; | lim_sup &lt;dbl&gt; |\n",
       "|---|---|---|---|---|\n",
       "| GNP | 90% | 1.688473 | 2.527187 | 3.365901 |\n",
       "| M2  | 90% | 1.526766 | 2.020222 | 2.513678 |\n",
       "| IR  | 90% | 1.028491 | 2.508859 | 3.989227 |\n",
       "\n"
      ],
      "text/plain": [
       "  Variables Confianza lim_inf  pred     lim_sup \n",
       "1 GNP       90%       1.688473 2.527187 3.365901\n",
       "2 M2        90%       1.526766 2.020222 2.513678\n",
       "3 IR        90%       1.028491 2.508859 3.989227"
      ]
     },
     "metadata": {},
     "output_type": "display_data"
    }
   ],
   "source": [
    "IC90_2002=data.frame(Variables=c('GNP','M2','IR'),Confianza='90%',lim_inf=Y_2002-Z90*c((diag(sigma))^(1/2)),pred=Y_2002,lim_sup=Y_2002+Z90*c((diag(sigma))^(1/2)))\n",
    "IC90_2002"
   ]
  },
  {
   "cell_type": "code",
   "execution_count": 34,
   "metadata": {},
   "outputs": [
    {
     "data": {
      "text/html": [
       "<table>\n",
       "<caption>A data.frame: 3 × 5</caption>\n",
       "<thead>\n",
       "\t<tr><th scope=col>Variables</th><th scope=col>Confianza</th><th scope=col>lim_inf</th><th scope=col>pred</th><th scope=col>lim_sup</th></tr>\n",
       "\t<tr><th scope=col>&lt;fct&gt;</th><th scope=col>&lt;fct&gt;</th><th scope=col>&lt;dbl&gt;</th><th scope=col>&lt;dbl&gt;</th><th scope=col>&lt;dbl&gt;</th></tr>\n",
       "</thead>\n",
       "<tbody>\n",
       "\t<tr><td>GNP</td><td>90%</td><td> 0.8520460</td><td> 1.690760</td><td>2.5294742</td></tr>\n",
       "\t<tr><td>M2 </td><td>90%</td><td> 0.8588762</td><td> 1.352332</td><td>1.8457884</td></tr>\n",
       "\t<tr><td>IR </td><td>90%</td><td>-2.6411852</td><td>-1.160817</td><td>0.3195513</td></tr>\n",
       "</tbody>\n",
       "</table>\n"
      ],
      "text/latex": [
       "A data.frame: 3 × 5\n",
       "\\begin{tabular}{lllll}\n",
       " Variables & Confianza & lim\\_inf & pred & lim\\_sup\\\\\n",
       " <fct> & <fct> & <dbl> & <dbl> & <dbl>\\\\\n",
       "\\hline\n",
       "\t GNP & 90\\% &  0.8520460 &  1.690760 & 2.5294742\\\\\n",
       "\t M2  & 90\\% &  0.8588762 &  1.352332 & 1.8457884\\\\\n",
       "\t IR  & 90\\% & -2.6411852 & -1.160817 & 0.3195513\\\\\n",
       "\\end{tabular}\n"
      ],
      "text/markdown": [
       "\n",
       "A data.frame: 3 × 5\n",
       "\n",
       "| Variables &lt;fct&gt; | Confianza &lt;fct&gt; | lim_inf &lt;dbl&gt; | pred &lt;dbl&gt; | lim_sup &lt;dbl&gt; |\n",
       "|---|---|---|---|---|\n",
       "| GNP | 90% |  0.8520460 |  1.690760 | 2.5294742 |\n",
       "| M2  | 90% |  0.8588762 |  1.352332 | 1.8457884 |\n",
       "| IR  | 90% | -2.6411852 | -1.160817 | 0.3195513 |\n",
       "\n"
      ],
      "text/plain": [
       "  Variables Confianza lim_inf    pred      lim_sup  \n",
       "1 GNP       90%        0.8520460  1.690760 2.5294742\n",
       "2 M2        90%        0.8588762  1.352332 1.8457884\n",
       "3 IR        90%       -2.6411852 -1.160817 0.3195513"
      ]
     },
     "metadata": {},
     "output_type": "display_data"
    }
   ],
   "source": [
    "IC90_2003=data.frame(Variables=c('GNP','M2','IR'),Confianza='90%',lim_inf=Y_2003-Z90*c((diag(sigma))^(1/2)),pred=Y_2003,lim_sup=Y_2003+Z90*c((diag(sigma))^(1/2)))\n",
    "IC90_2003"
   ]
  },
  {
   "cell_type": "markdown",
   "metadata": {},
   "source": [
    "### Intervalos de confianza del 95% para predicciones"
   ]
  },
  {
   "cell_type": "code",
   "execution_count": 35,
   "metadata": {},
   "outputs": [
    {
     "data": {
      "text/html": [
       "<table>\n",
       "<caption>A data.frame: 3 × 5</caption>\n",
       "<thead>\n",
       "\t<tr><th scope=col>Variables</th><th scope=col>Confianza</th><th scope=col>lim_inf</th><th scope=col>pred</th><th scope=col>lim_sup</th></tr>\n",
       "\t<tr><th scope=col>&lt;fct&gt;</th><th scope=col>&lt;fct&gt;</th><th scope=col>&lt;dbl&gt;</th><th scope=col>&lt;dbl&gt;</th><th scope=col>&lt;dbl&gt;</th></tr>\n",
       "</thead>\n",
       "<tbody>\n",
       "\t<tr><td>GNP</td><td>95%</td><td>1.2017242</td><td>2.201114</td><td>3.200503</td></tr>\n",
       "\t<tr><td>M2 </td><td>95%</td><td>1.3323024</td><td>1.920292</td><td>2.508281</td></tr>\n",
       "\t<tr><td>IR </td><td>95%</td><td>0.3031655</td><td>2.067133</td><td>3.831101</td></tr>\n",
       "</tbody>\n",
       "</table>\n"
      ],
      "text/latex": [
       "A data.frame: 3 × 5\n",
       "\\begin{tabular}{lllll}\n",
       " Variables & Confianza & lim\\_inf & pred & lim\\_sup\\\\\n",
       " <fct> & <fct> & <dbl> & <dbl> & <dbl>\\\\\n",
       "\\hline\n",
       "\t GNP & 95\\% & 1.2017242 & 2.201114 & 3.200503\\\\\n",
       "\t M2  & 95\\% & 1.3323024 & 1.920292 & 2.508281\\\\\n",
       "\t IR  & 95\\% & 0.3031655 & 2.067133 & 3.831101\\\\\n",
       "\\end{tabular}\n"
      ],
      "text/markdown": [
       "\n",
       "A data.frame: 3 × 5\n",
       "\n",
       "| Variables &lt;fct&gt; | Confianza &lt;fct&gt; | lim_inf &lt;dbl&gt; | pred &lt;dbl&gt; | lim_sup &lt;dbl&gt; |\n",
       "|---|---|---|---|---|\n",
       "| GNP | 95% | 1.2017242 | 2.201114 | 3.200503 |\n",
       "| M2  | 95% | 1.3323024 | 1.920292 | 2.508281 |\n",
       "| IR  | 95% | 0.3031655 | 2.067133 | 3.831101 |\n",
       "\n"
      ],
      "text/plain": [
       "  Variables Confianza lim_inf   pred     lim_sup \n",
       "1 GNP       95%       1.2017242 2.201114 3.200503\n",
       "2 M2        95%       1.3323024 1.920292 2.508281\n",
       "3 IR        95%       0.3031655 2.067133 3.831101"
      ]
     },
     "metadata": {},
     "output_type": "display_data"
    }
   ],
   "source": [
    "IC95_2001=data.frame(Variables=c('GNP','M2','IR'),Confianza='95%',lim_inf=Y_2001-Z95*c((diag(sigma))^(1/2)),pred=Y_2001,lim_sup=Y_2001+Z95*c((diag(sigma))^(1/2)))\n",
    "IC95_2001"
   ]
  },
  {
   "cell_type": "code",
   "execution_count": 36,
   "metadata": {},
   "outputs": [
    {
     "data": {
      "text/html": [
       "<table>\n",
       "<caption>A data.frame: 3 × 5</caption>\n",
       "<thead>\n",
       "\t<tr><th scope=col>Variables</th><th scope=col>Confianza</th><th scope=col>lim_inf</th><th scope=col>pred</th><th scope=col>lim_sup</th></tr>\n",
       "\t<tr><th scope=col>&lt;fct&gt;</th><th scope=col>&lt;fct&gt;</th><th scope=col>&lt;dbl&gt;</th><th scope=col>&lt;dbl&gt;</th><th scope=col>&lt;dbl&gt;</th></tr>\n",
       "</thead>\n",
       "<tbody>\n",
       "\t<tr><td>GNP</td><td>95%</td><td>1.5277971</td><td>2.527187</td><td>3.526576</td></tr>\n",
       "\t<tr><td>M2 </td><td>95%</td><td>1.4322332</td><td>2.020222</td><td>2.608212</td></tr>\n",
       "\t<tr><td>IR </td><td>95%</td><td>0.7448916</td><td>2.508859</td><td>4.272827</td></tr>\n",
       "</tbody>\n",
       "</table>\n"
      ],
      "text/latex": [
       "A data.frame: 3 × 5\n",
       "\\begin{tabular}{lllll}\n",
       " Variables & Confianza & lim\\_inf & pred & lim\\_sup\\\\\n",
       " <fct> & <fct> & <dbl> & <dbl> & <dbl>\\\\\n",
       "\\hline\n",
       "\t GNP & 95\\% & 1.5277971 & 2.527187 & 3.526576\\\\\n",
       "\t M2  & 95\\% & 1.4322332 & 2.020222 & 2.608212\\\\\n",
       "\t IR  & 95\\% & 0.7448916 & 2.508859 & 4.272827\\\\\n",
       "\\end{tabular}\n"
      ],
      "text/markdown": [
       "\n",
       "A data.frame: 3 × 5\n",
       "\n",
       "| Variables &lt;fct&gt; | Confianza &lt;fct&gt; | lim_inf &lt;dbl&gt; | pred &lt;dbl&gt; | lim_sup &lt;dbl&gt; |\n",
       "|---|---|---|---|---|\n",
       "| GNP | 95% | 1.5277971 | 2.527187 | 3.526576 |\n",
       "| M2  | 95% | 1.4322332 | 2.020222 | 2.608212 |\n",
       "| IR  | 95% | 0.7448916 | 2.508859 | 4.272827 |\n",
       "\n"
      ],
      "text/plain": [
       "  Variables Confianza lim_inf   pred     lim_sup \n",
       "1 GNP       95%       1.5277971 2.527187 3.526576\n",
       "2 M2        95%       1.4322332 2.020222 2.608212\n",
       "3 IR        95%       0.7448916 2.508859 4.272827"
      ]
     },
     "metadata": {},
     "output_type": "display_data"
    }
   ],
   "source": [
    "IC95_2002=data.frame(Variables=c('GNP','M2','IR'),Confianza='95%',lim_inf=Y_2002-Z95*c((diag(sigma))^(1/2)),pred=Y_2002,lim_sup=Y_2002+Z95*c((diag(sigma))^(1/2)))\n",
    "IC95_2002"
   ]
  },
  {
   "cell_type": "code",
   "execution_count": 37,
   "metadata": {},
   "outputs": [
    {
     "data": {
      "text/html": [
       "<table>\n",
       "<caption>A data.frame: 3 × 5</caption>\n",
       "<thead>\n",
       "\t<tr><th scope=col>Variables</th><th scope=col>Confianza</th><th scope=col>lim_inf</th><th scope=col>pred</th><th scope=col>lim_sup</th></tr>\n",
       "\t<tr><th scope=col>&lt;fct&gt;</th><th scope=col>&lt;fct&gt;</th><th scope=col>&lt;dbl&gt;</th><th scope=col>&lt;dbl&gt;</th><th scope=col>&lt;dbl&gt;</th></tr>\n",
       "</thead>\n",
       "<tbody>\n",
       "\t<tr><td>GNP</td><td>95%</td><td> 0.6913707</td><td> 1.690760</td><td>2.6901496</td></tr>\n",
       "\t<tr><td>M2 </td><td>95%</td><td> 0.7643431</td><td> 1.352332</td><td>1.9403215</td></tr>\n",
       "\t<tr><td>IR </td><td>95%</td><td>-2.9247845</td><td>-1.160817</td><td>0.6031506</td></tr>\n",
       "</tbody>\n",
       "</table>\n"
      ],
      "text/latex": [
       "A data.frame: 3 × 5\n",
       "\\begin{tabular}{lllll}\n",
       " Variables & Confianza & lim\\_inf & pred & lim\\_sup\\\\\n",
       " <fct> & <fct> & <dbl> & <dbl> & <dbl>\\\\\n",
       "\\hline\n",
       "\t GNP & 95\\% &  0.6913707 &  1.690760 & 2.6901496\\\\\n",
       "\t M2  & 95\\% &  0.7643431 &  1.352332 & 1.9403215\\\\\n",
       "\t IR  & 95\\% & -2.9247845 & -1.160817 & 0.6031506\\\\\n",
       "\\end{tabular}\n"
      ],
      "text/markdown": [
       "\n",
       "A data.frame: 3 × 5\n",
       "\n",
       "| Variables &lt;fct&gt; | Confianza &lt;fct&gt; | lim_inf &lt;dbl&gt; | pred &lt;dbl&gt; | lim_sup &lt;dbl&gt; |\n",
       "|---|---|---|---|---|\n",
       "| GNP | 95% |  0.6913707 |  1.690760 | 2.6901496 |\n",
       "| M2  | 95% |  0.7643431 |  1.352332 | 1.9403215 |\n",
       "| IR  | 95% | -2.9247845 | -1.160817 | 0.6031506 |\n",
       "\n"
      ],
      "text/plain": [
       "  Variables Confianza lim_inf    pred      lim_sup  \n",
       "1 GNP       95%        0.6913707  1.690760 2.6901496\n",
       "2 M2        95%        0.7643431  1.352332 1.9403215\n",
       "3 IR        95%       -2.9247845 -1.160817 0.6031506"
      ]
     },
     "metadata": {},
     "output_type": "display_data"
    }
   ],
   "source": [
    "IC95_2003=data.frame(Variables=c('GNP','M2','IR'),Confianza='95%',lim_inf=Y_2003-Z95*c((diag(sigma))^(1/2)),pred=Y_2003,lim_sup=Y_2003+Z95*c((diag(sigma))^(1/2)))\n",
    "IC95_2003"
   ]
  },
  {
   "cell_type": "markdown",
   "metadata": {},
   "source": [
    "### Intervalos de confianza unidos"
   ]
  },
  {
   "cell_type": "code",
   "execution_count": 38,
   "metadata": {},
   "outputs": [
    {
     "data": {
      "text/html": [
       "<table>\n",
       "<caption>A data.frame: 6 × 5</caption>\n",
       "<thead>\n",
       "\t<tr><th scope=col>Variables</th><th scope=col>Confianza</th><th scope=col>lim_inf</th><th scope=col>pred</th><th scope=col>lim_sup</th></tr>\n",
       "\t<tr><th scope=col>&lt;fct&gt;</th><th scope=col>&lt;fct&gt;</th><th scope=col>&lt;dbl&gt;</th><th scope=col>&lt;dbl&gt;</th><th scope=col>&lt;dbl&gt;</th></tr>\n",
       "</thead>\n",
       "<tbody>\n",
       "\t<tr><td>GNP</td><td>90%</td><td>1.3623996</td><td>2.201114</td><td>3.039828</td></tr>\n",
       "\t<tr><td>M2 </td><td>90%</td><td>1.4268355</td><td>1.920292</td><td>2.413748</td></tr>\n",
       "\t<tr><td>IR </td><td>90%</td><td>0.5867648</td><td>2.067133</td><td>3.547501</td></tr>\n",
       "\t<tr><td>GNP</td><td>95%</td><td>1.2017242</td><td>2.201114</td><td>3.200503</td></tr>\n",
       "\t<tr><td>M2 </td><td>95%</td><td>1.3323024</td><td>1.920292</td><td>2.508281</td></tr>\n",
       "\t<tr><td>IR </td><td>95%</td><td>0.3031655</td><td>2.067133</td><td>3.831101</td></tr>\n",
       "</tbody>\n",
       "</table>\n"
      ],
      "text/latex": [
       "A data.frame: 6 × 5\n",
       "\\begin{tabular}{lllll}\n",
       " Variables & Confianza & lim\\_inf & pred & lim\\_sup\\\\\n",
       " <fct> & <fct> & <dbl> & <dbl> & <dbl>\\\\\n",
       "\\hline\n",
       "\t GNP & 90\\% & 1.3623996 & 2.201114 & 3.039828\\\\\n",
       "\t M2  & 90\\% & 1.4268355 & 1.920292 & 2.413748\\\\\n",
       "\t IR  & 90\\% & 0.5867648 & 2.067133 & 3.547501\\\\\n",
       "\t GNP & 95\\% & 1.2017242 & 2.201114 & 3.200503\\\\\n",
       "\t M2  & 95\\% & 1.3323024 & 1.920292 & 2.508281\\\\\n",
       "\t IR  & 95\\% & 0.3031655 & 2.067133 & 3.831101\\\\\n",
       "\\end{tabular}\n"
      ],
      "text/markdown": [
       "\n",
       "A data.frame: 6 × 5\n",
       "\n",
       "| Variables &lt;fct&gt; | Confianza &lt;fct&gt; | lim_inf &lt;dbl&gt; | pred &lt;dbl&gt; | lim_sup &lt;dbl&gt; |\n",
       "|---|---|---|---|---|\n",
       "| GNP | 90% | 1.3623996 | 2.201114 | 3.039828 |\n",
       "| M2  | 90% | 1.4268355 | 1.920292 | 2.413748 |\n",
       "| IR  | 90% | 0.5867648 | 2.067133 | 3.547501 |\n",
       "| GNP | 95% | 1.2017242 | 2.201114 | 3.200503 |\n",
       "| M2  | 95% | 1.3323024 | 1.920292 | 2.508281 |\n",
       "| IR  | 95% | 0.3031655 | 2.067133 | 3.831101 |\n",
       "\n"
      ],
      "text/plain": [
       "  Variables Confianza lim_inf   pred     lim_sup \n",
       "1 GNP       90%       1.3623996 2.201114 3.039828\n",
       "2 M2        90%       1.4268355 1.920292 2.413748\n",
       "3 IR        90%       0.5867648 2.067133 3.547501\n",
       "4 GNP       95%       1.2017242 2.201114 3.200503\n",
       "5 M2        95%       1.3323024 1.920292 2.508281\n",
       "6 IR        95%       0.3031655 2.067133 3.831101"
      ]
     },
     "metadata": {},
     "output_type": "display_data"
    }
   ],
   "source": [
    "IC_2001=rbind(IC90_2001,IC95_2001)\n",
    "IC_2001"
   ]
  },
  {
   "cell_type": "code",
   "execution_count": 39,
   "metadata": {},
   "outputs": [
    {
     "data": {
      "text/html": [
       "<table>\n",
       "<caption>A data.frame: 6 × 5</caption>\n",
       "<thead>\n",
       "\t<tr><th scope=col>Variables</th><th scope=col>Confianza</th><th scope=col>lim_inf</th><th scope=col>pred</th><th scope=col>lim_sup</th></tr>\n",
       "\t<tr><th scope=col>&lt;fct&gt;</th><th scope=col>&lt;fct&gt;</th><th scope=col>&lt;dbl&gt;</th><th scope=col>&lt;dbl&gt;</th><th scope=col>&lt;dbl&gt;</th></tr>\n",
       "</thead>\n",
       "<tbody>\n",
       "\t<tr><td>GNP</td><td>90%</td><td>1.6884725</td><td>2.527187</td><td>3.365901</td></tr>\n",
       "\t<tr><td>M2 </td><td>90%</td><td>1.5267663</td><td>2.020222</td><td>2.513678</td></tr>\n",
       "\t<tr><td>IR </td><td>90%</td><td>1.0284909</td><td>2.508859</td><td>3.989227</td></tr>\n",
       "\t<tr><td>GNP</td><td>95%</td><td>1.5277971</td><td>2.527187</td><td>3.526576</td></tr>\n",
       "\t<tr><td>M2 </td><td>95%</td><td>1.4322332</td><td>2.020222</td><td>2.608212</td></tr>\n",
       "\t<tr><td>IR </td><td>95%</td><td>0.7448916</td><td>2.508859</td><td>4.272827</td></tr>\n",
       "</tbody>\n",
       "</table>\n"
      ],
      "text/latex": [
       "A data.frame: 6 × 5\n",
       "\\begin{tabular}{lllll}\n",
       " Variables & Confianza & lim\\_inf & pred & lim\\_sup\\\\\n",
       " <fct> & <fct> & <dbl> & <dbl> & <dbl>\\\\\n",
       "\\hline\n",
       "\t GNP & 90\\% & 1.6884725 & 2.527187 & 3.365901\\\\\n",
       "\t M2  & 90\\% & 1.5267663 & 2.020222 & 2.513678\\\\\n",
       "\t IR  & 90\\% & 1.0284909 & 2.508859 & 3.989227\\\\\n",
       "\t GNP & 95\\% & 1.5277971 & 2.527187 & 3.526576\\\\\n",
       "\t M2  & 95\\% & 1.4322332 & 2.020222 & 2.608212\\\\\n",
       "\t IR  & 95\\% & 0.7448916 & 2.508859 & 4.272827\\\\\n",
       "\\end{tabular}\n"
      ],
      "text/markdown": [
       "\n",
       "A data.frame: 6 × 5\n",
       "\n",
       "| Variables &lt;fct&gt; | Confianza &lt;fct&gt; | lim_inf &lt;dbl&gt; | pred &lt;dbl&gt; | lim_sup &lt;dbl&gt; |\n",
       "|---|---|---|---|---|\n",
       "| GNP | 90% | 1.6884725 | 2.527187 | 3.365901 |\n",
       "| M2  | 90% | 1.5267663 | 2.020222 | 2.513678 |\n",
       "| IR  | 90% | 1.0284909 | 2.508859 | 3.989227 |\n",
       "| GNP | 95% | 1.5277971 | 2.527187 | 3.526576 |\n",
       "| M2  | 95% | 1.4322332 | 2.020222 | 2.608212 |\n",
       "| IR  | 95% | 0.7448916 | 2.508859 | 4.272827 |\n",
       "\n"
      ],
      "text/plain": [
       "  Variables Confianza lim_inf   pred     lim_sup \n",
       "1 GNP       90%       1.6884725 2.527187 3.365901\n",
       "2 M2        90%       1.5267663 2.020222 2.513678\n",
       "3 IR        90%       1.0284909 2.508859 3.989227\n",
       "4 GNP       95%       1.5277971 2.527187 3.526576\n",
       "5 M2        95%       1.4322332 2.020222 2.608212\n",
       "6 IR        95%       0.7448916 2.508859 4.272827"
      ]
     },
     "metadata": {},
     "output_type": "display_data"
    }
   ],
   "source": [
    "IC_2002=rbind(IC90_2002,IC95_2002)\n",
    "IC_2002"
   ]
  },
  {
   "cell_type": "code",
   "execution_count": 40,
   "metadata": {},
   "outputs": [
    {
     "data": {
      "text/html": [
       "<table>\n",
       "<caption>A data.frame: 6 × 5</caption>\n",
       "<thead>\n",
       "\t<tr><th scope=col>Variables</th><th scope=col>Confianza</th><th scope=col>lim_inf</th><th scope=col>pred</th><th scope=col>lim_sup</th></tr>\n",
       "\t<tr><th scope=col>&lt;fct&gt;</th><th scope=col>&lt;fct&gt;</th><th scope=col>&lt;dbl&gt;</th><th scope=col>&lt;dbl&gt;</th><th scope=col>&lt;dbl&gt;</th></tr>\n",
       "</thead>\n",
       "<tbody>\n",
       "\t<tr><td>GNP</td><td>90%</td><td> 0.8520460</td><td> 1.690760</td><td>2.5294742</td></tr>\n",
       "\t<tr><td>M2 </td><td>90%</td><td> 0.8588762</td><td> 1.352332</td><td>1.8457884</td></tr>\n",
       "\t<tr><td>IR </td><td>90%</td><td>-2.6411852</td><td>-1.160817</td><td>0.3195513</td></tr>\n",
       "\t<tr><td>GNP</td><td>95%</td><td> 0.6913707</td><td> 1.690760</td><td>2.6901496</td></tr>\n",
       "\t<tr><td>M2 </td><td>95%</td><td> 0.7643431</td><td> 1.352332</td><td>1.9403215</td></tr>\n",
       "\t<tr><td>IR </td><td>95%</td><td>-2.9247845</td><td>-1.160817</td><td>0.6031506</td></tr>\n",
       "</tbody>\n",
       "</table>\n"
      ],
      "text/latex": [
       "A data.frame: 6 × 5\n",
       "\\begin{tabular}{lllll}\n",
       " Variables & Confianza & lim\\_inf & pred & lim\\_sup\\\\\n",
       " <fct> & <fct> & <dbl> & <dbl> & <dbl>\\\\\n",
       "\\hline\n",
       "\t GNP & 90\\% &  0.8520460 &  1.690760 & 2.5294742\\\\\n",
       "\t M2  & 90\\% &  0.8588762 &  1.352332 & 1.8457884\\\\\n",
       "\t IR  & 90\\% & -2.6411852 & -1.160817 & 0.3195513\\\\\n",
       "\t GNP & 95\\% &  0.6913707 &  1.690760 & 2.6901496\\\\\n",
       "\t M2  & 95\\% &  0.7643431 &  1.352332 & 1.9403215\\\\\n",
       "\t IR  & 95\\% & -2.9247845 & -1.160817 & 0.6031506\\\\\n",
       "\\end{tabular}\n"
      ],
      "text/markdown": [
       "\n",
       "A data.frame: 6 × 5\n",
       "\n",
       "| Variables &lt;fct&gt; | Confianza &lt;fct&gt; | lim_inf &lt;dbl&gt; | pred &lt;dbl&gt; | lim_sup &lt;dbl&gt; |\n",
       "|---|---|---|---|---|\n",
       "| GNP | 90% |  0.8520460 |  1.690760 | 2.5294742 |\n",
       "| M2  | 90% |  0.8588762 |  1.352332 | 1.8457884 |\n",
       "| IR  | 90% | -2.6411852 | -1.160817 | 0.3195513 |\n",
       "| GNP | 95% |  0.6913707 |  1.690760 | 2.6901496 |\n",
       "| M2  | 95% |  0.7643431 |  1.352332 | 1.9403215 |\n",
       "| IR  | 95% | -2.9247845 | -1.160817 | 0.6031506 |\n",
       "\n"
      ],
      "text/plain": [
       "  Variables Confianza lim_inf    pred      lim_sup  \n",
       "1 GNP       90%        0.8520460  1.690760 2.5294742\n",
       "2 M2        90%        0.8588762  1.352332 1.8457884\n",
       "3 IR        90%       -2.6411852 -1.160817 0.3195513\n",
       "4 GNP       95%        0.6913707  1.690760 2.6901496\n",
       "5 M2        95%        0.7643431  1.352332 1.9403215\n",
       "6 IR        95%       -2.9247845 -1.160817 0.6031506"
      ]
     },
     "metadata": {},
     "output_type": "display_data"
    }
   ],
   "source": [
    "IC_2003=rbind(IC90_2003,IC95_2003)\n",
    "IC_2003"
   ]
  },
  {
   "cell_type": "markdown",
   "metadata": {},
   "source": [
    "### Item d"
   ]
  },
  {
   "cell_type": "markdown",
   "metadata": {},
   "source": [
    "Para esto creemos los intervalos de confianza del 99%"
   ]
  },
  {
   "cell_type": "code",
   "execution_count": 41,
   "metadata": {},
   "outputs": [
    {
     "data": {
      "text/html": [
       "<table>\n",
       "<caption>A data.frame: 3 × 3</caption>\n",
       "<thead>\n",
       "\t<tr><th scope=col>Variable</th><th scope=col>lim_inf</th><th scope=col>lim_sup</th></tr>\n",
       "\t<tr><th scope=col>&lt;fct&gt;</th><th scope=col>&lt;dbl&gt;</th><th scope=col>&lt;dbl&gt;</th></tr>\n",
       "</thead>\n",
       "<tbody>\n",
       "\t<tr><td>GNP_2001</td><td>0.8876933</td><td>3.514534</td></tr>\n",
       "\t<tr><td>GNP_2002</td><td>1.2137662</td><td>3.840607</td></tr>\n",
       "\t<tr><td>GNP_2003</td><td>0.3773397</td><td>3.004181</td></tr>\n",
       "</tbody>\n",
       "</table>\n"
      ],
      "text/latex": [
       "A data.frame: 3 × 3\n",
       "\\begin{tabular}{lll}\n",
       " Variable & lim\\_inf & lim\\_sup\\\\\n",
       " <fct> & <dbl> & <dbl>\\\\\n",
       "\\hline\n",
       "\t GNP\\_2001 & 0.8876933 & 3.514534\\\\\n",
       "\t GNP\\_2002 & 1.2137662 & 3.840607\\\\\n",
       "\t GNP\\_2003 & 0.3773397 & 3.004181\\\\\n",
       "\\end{tabular}\n"
      ],
      "text/markdown": [
       "\n",
       "A data.frame: 3 × 3\n",
       "\n",
       "| Variable &lt;fct&gt; | lim_inf &lt;dbl&gt; | lim_sup &lt;dbl&gt; |\n",
       "|---|---|---|\n",
       "| GNP_2001 | 0.8876933 | 3.514534 |\n",
       "| GNP_2002 | 1.2137662 | 3.840607 |\n",
       "| GNP_2003 | 0.3773397 | 3.004181 |\n",
       "\n"
      ],
      "text/plain": [
       "  Variable lim_inf   lim_sup \n",
       "1 GNP_2001 0.8876933 3.514534\n",
       "2 GNP_2002 1.2137662 3.840607\n",
       "3 GNP_2003 0.3773397 3.004181"
      ]
     },
     "metadata": {},
     "output_type": "display_data"
    }
   ],
   "source": [
    "Z99=qnorm(0.995)\n",
    "GNP_2001=data.frame(Variable='GNP_2001',lim_inf=Y_2001[1]-Z99*c((diag(sigma))^(1/2))[1],lim_sup=Y_2001[1]+Z99*c((diag(sigma))^(1/2))[1])\n",
    "GNP_2002=data.frame(Variable='GNP_2002',lim_inf=Y_2002[1]-Z99*c((diag(sigma))^(1/2))[1],lim_sup=Y_2002[1]+Z99*c((diag(sigma))^(1/2))[1])\n",
    "GNP_2003=data.frame(Variable='GNP_2003',lim_inf=Y_2003[1]-Z99*c((diag(sigma))^(1/2))[1],lim_sup=Y_2003[1]+Z99*c((diag(sigma))^(1/2))[1])\n",
    "IC_GNP_99=rbind(GNP_2001,GNP_2002,GNP_2003)\n",
    "IC_GNP_99"
   ]
  },
  {
   "cell_type": "code",
   "execution_count": null,
   "metadata": {},
   "outputs": [],
   "source": []
  }
 ],
 "metadata": {
  "kernelspec": {
   "display_name": "R",
   "language": "R",
   "name": "ir"
  },
  "language_info": {
   "codemirror_mode": "r",
   "file_extension": ".r",
   "mimetype": "text/x-r-source",
   "name": "R",
   "pygments_lexer": "r",
   "version": "3.5.2"
  }
 },
 "nbformat": 4,
 "nbformat_minor": 4
}
