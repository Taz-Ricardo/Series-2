{
 "cells": [
  {
   "cell_type": "code",
   "execution_count": 2,
   "metadata": {},
   "outputs": [
    {
     "name": "stderr",
     "output_type": "stream",
     "text": [
      "Loading required package: timeDate\n",
      "\n",
      "Loading required package: timeSeries\n",
      "\n",
      "\n",
      "Attaching package: ‘timeSeries’\n",
      "\n",
      "\n",
      "The following object is masked from ‘package:zoo’:\n",
      "\n",
      "    time<-\n",
      "\n",
      "\n",
      "Loading required package: fBasics\n",
      "\n",
      "\n",
      "Attaching package: ‘fBasics’\n",
      "\n",
      "\n",
      "The following object is masked from ‘package:TTR’:\n",
      "\n",
      "    volatility\n",
      "\n",
      "\n"
     ]
    }
   ],
   "source": [
    "library(quantmod) #Comandos que permiten leer datos de la web\n",
    "library(fGarch) #Paquete para modelos garch"
   ]
  },
  {
   "cell_type": "code",
   "execution_count": null,
   "metadata": {},
   "outputs": [],
   "source": []
  }
 ],
 "metadata": {
  "kernelspec": {
   "display_name": "R",
   "language": "R",
   "name": "ir"
  },
  "language_info": {
   "codemirror_mode": "r",
   "file_extension": ".r",
   "mimetype": "text/x-r-source",
   "name": "R",
   "pygments_lexer": "r",
   "version": "3.5.2"
  }
 },
 "nbformat": 4,
 "nbformat_minor": 4
}
